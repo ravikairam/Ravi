{
 "cells": [
  {
   "cell_type": "code",
   "execution_count": 35,
   "metadata": {
    "collapsed": true
   },
   "outputs": [],
   "source": [
    "# Data analysis and wrangling\n",
    "import pandas as pd\n",
    "import numpy as np\n",
    "from scipy.stats import mode\n",
    "# visualization\n",
    "import seaborn as sns\n",
    "import matplotlib.pyplot as plt\n",
    "%matplotlib inline"
   ]
  },
  {
   "cell_type": "code",
   "execution_count": 87,
   "metadata": {
    "collapsed": true
   },
   "outputs": [],
   "source": [
    "#Reading Train and Test Files\n",
    "train=pd.read_csv('Train.csv')\n",
    "test=pd.read_csv('Test.csv')\n",
    "trainad=pd.read_csv('Train_AdditionalData.csv')\n",
    "testad=pd.read_csv('Test_AdditionalData.csv')"
   ]
  },
  {
   "cell_type": "code",
   "execution_count": 88,
   "metadata": {},
   "outputs": [
    {
     "name": "stdout",
     "output_type": "stream",
     "text": [
      "train size: (3156, 22)\n",
      "test size: (1053, 21)\n",
      "train additional size: (2065, 2)\n",
      "test additional size: (699, 2)\n"
     ]
    }
   ],
   "source": [
    "#Printing size of the data\n",
    "print('train size:',train.shape)\n",
    "print('test size:',test.shape)\n",
    "print('train additional size:',trainad.shape)\n",
    "print('test additional size:',testad.shape)"
   ]
  },
  {
   "cell_type": "markdown",
   "metadata": {},
   "source": [
    "## Data analysis and wrangling"
   ]
  },
  {
   "cell_type": "code",
   "execution_count": 89,
   "metadata": {},
   "outputs": [
    {
     "data": {
      "text/html": [
       "<div>\n",
       "<style>\n",
       "    .dataframe thead tr:only-child th {\n",
       "        text-align: right;\n",
       "    }\n",
       "\n",
       "    .dataframe thead th {\n",
       "        text-align: left;\n",
       "    }\n",
       "\n",
       "    .dataframe tbody tr th {\n",
       "        vertical-align: top;\n",
       "    }\n",
       "</style>\n",
       "<table border=\"1\" class=\"dataframe\">\n",
       "  <thead>\n",
       "    <tr style=\"text-align: right;\">\n",
       "      <th></th>\n",
       "      <th>ID</th>\n",
       "      <th>y</th>\n",
       "      <th>Number of Cylinders</th>\n",
       "      <th>material grade</th>\n",
       "      <th>Lubrication</th>\n",
       "      <th>Valve Type</th>\n",
       "      <th>Bearing Vendor</th>\n",
       "      <th>Fuel Type</th>\n",
       "      <th>Compression ratio</th>\n",
       "      <th>cam arrangement</th>\n",
       "      <th>...</th>\n",
       "      <th>Varaible Valve Timing (VVT)</th>\n",
       "      <th>Cylinder deactivation</th>\n",
       "      <th>Direct injection</th>\n",
       "      <th>main bearing type</th>\n",
       "      <th>displacement</th>\n",
       "      <th>piston type</th>\n",
       "      <th>Max. Torque</th>\n",
       "      <th>Peak Power</th>\n",
       "      <th>Crankshaft Design</th>\n",
       "      <th>Liner Design</th>\n",
       "    </tr>\n",
       "  </thead>\n",
       "  <tbody>\n",
       "    <tr>\n",
       "      <th>0</th>\n",
       "      <td>1</td>\n",
       "      <td>pass</td>\n",
       "      <td>6.0</td>\n",
       "      <td>a</td>\n",
       "      <td>L4</td>\n",
       "      <td>C</td>\n",
       "      <td>V4</td>\n",
       "      <td>gasoline</td>\n",
       "      <td>low</td>\n",
       "      <td>SOHC</td>\n",
       "      <td>...</td>\n",
       "      <td>Yes</td>\n",
       "      <td>No</td>\n",
       "      <td>Yes</td>\n",
       "      <td>Roller</td>\n",
       "      <td>high</td>\n",
       "      <td>linear</td>\n",
       "      <td>high</td>\n",
       "      <td>high</td>\n",
       "      <td>CD2</td>\n",
       "      <td>LD1</td>\n",
       "    </tr>\n",
       "    <tr>\n",
       "      <th>1</th>\n",
       "      <td>2</td>\n",
       "      <td>fail</td>\n",
       "      <td>6.0</td>\n",
       "      <td>b</td>\n",
       "      <td>L4</td>\n",
       "      <td>C</td>\n",
       "      <td>V3</td>\n",
       "      <td>gasoline</td>\n",
       "      <td>high</td>\n",
       "      <td>SOHC</td>\n",
       "      <td>...</td>\n",
       "      <td>Yes</td>\n",
       "      <td>No</td>\n",
       "      <td>Yes</td>\n",
       "      <td>Roller</td>\n",
       "      <td>high</td>\n",
       "      <td>linear</td>\n",
       "      <td>high</td>\n",
       "      <td>high</td>\n",
       "      <td>CD1</td>\n",
       "      <td>LD1</td>\n",
       "    </tr>\n",
       "    <tr>\n",
       "      <th>2</th>\n",
       "      <td>3</td>\n",
       "      <td>pass</td>\n",
       "      <td>4.0</td>\n",
       "      <td>NaN</td>\n",
       "      <td>L3</td>\n",
       "      <td>D</td>\n",
       "      <td>V2</td>\n",
       "      <td>gasoline</td>\n",
       "      <td>high</td>\n",
       "      <td>SOHC</td>\n",
       "      <td>...</td>\n",
       "      <td>Yes</td>\n",
       "      <td>Yes</td>\n",
       "      <td>Yes</td>\n",
       "      <td>Roller</td>\n",
       "      <td>high</td>\n",
       "      <td>linear</td>\n",
       "      <td>high</td>\n",
       "      <td>high</td>\n",
       "      <td>CD1</td>\n",
       "      <td>LD1</td>\n",
       "    </tr>\n",
       "    <tr>\n",
       "      <th>3</th>\n",
       "      <td>4</td>\n",
       "      <td>pass</td>\n",
       "      <td>4.0</td>\n",
       "      <td>f</td>\n",
       "      <td>L2</td>\n",
       "      <td>D</td>\n",
       "      <td>NaN</td>\n",
       "      <td>gasoline</td>\n",
       "      <td>low</td>\n",
       "      <td>SOHC</td>\n",
       "      <td>...</td>\n",
       "      <td>Yes</td>\n",
       "      <td>Yes</td>\n",
       "      <td>Yes</td>\n",
       "      <td>Roller</td>\n",
       "      <td>high</td>\n",
       "      <td>linear</td>\n",
       "      <td>high</td>\n",
       "      <td>high</td>\n",
       "      <td>CD1</td>\n",
       "      <td>LD1</td>\n",
       "    </tr>\n",
       "    <tr>\n",
       "      <th>4</th>\n",
       "      <td>5</td>\n",
       "      <td>fail</td>\n",
       "      <td>8.0</td>\n",
       "      <td>d</td>\n",
       "      <td>L2</td>\n",
       "      <td>NaN</td>\n",
       "      <td>V2</td>\n",
       "      <td>gasoline</td>\n",
       "      <td>high</td>\n",
       "      <td>SOHC</td>\n",
       "      <td>...</td>\n",
       "      <td>Yes</td>\n",
       "      <td>No</td>\n",
       "      <td>Yes</td>\n",
       "      <td>Roller</td>\n",
       "      <td>high</td>\n",
       "      <td>linear</td>\n",
       "      <td>high</td>\n",
       "      <td>high</td>\n",
       "      <td>CD1</td>\n",
       "      <td>LD2</td>\n",
       "    </tr>\n",
       "  </tbody>\n",
       "</table>\n",
       "<p>5 rows × 22 columns</p>\n",
       "</div>"
      ],
      "text/plain": [
       "   ID     y  Number of Cylinders material grade Lubrication Valve Type  \\\n",
       "0   1  pass                  6.0              a          L4          C   \n",
       "1   2  fail                  6.0              b          L4          C   \n",
       "2   3  pass                  4.0            NaN          L3          D   \n",
       "3   4  pass                  4.0              f          L2          D   \n",
       "4   5  fail                  8.0              d          L2        NaN   \n",
       "\n",
       "  Bearing Vendor Fuel Type Compression ratio cam arrangement      ...       \\\n",
       "0             V4  gasoline               low            SOHC      ...        \n",
       "1             V3  gasoline              high            SOHC      ...        \n",
       "2             V2  gasoline              high            SOHC      ...        \n",
       "3            NaN  gasoline               low            SOHC      ...        \n",
       "4             V2  gasoline              high            SOHC      ...        \n",
       "\n",
       "  Varaible Valve Timing (VVT) Cylinder deactivation Direct injection  \\\n",
       "0                         Yes                    No              Yes   \n",
       "1                         Yes                    No              Yes   \n",
       "2                         Yes                   Yes              Yes   \n",
       "3                         Yes                   Yes              Yes   \n",
       "4                         Yes                    No              Yes   \n",
       "\n",
       "  main bearing type displacement piston type Max. Torque Peak Power  \\\n",
       "0            Roller         high      linear        high       high   \n",
       "1            Roller         high      linear        high       high   \n",
       "2            Roller         high      linear        high       high   \n",
       "3            Roller         high      linear        high       high   \n",
       "4            Roller         high      linear        high       high   \n",
       "\n",
       "  Crankshaft Design Liner Design   \n",
       "0               CD2           LD1  \n",
       "1               CD1           LD1  \n",
       "2               CD1           LD1  \n",
       "3               CD1           LD1  \n",
       "4               CD1           LD2  \n",
       "\n",
       "[5 rows x 22 columns]"
      ]
     },
     "execution_count": 89,
     "metadata": {},
     "output_type": "execute_result"
    }
   ],
   "source": [
    "train.head()"
   ]
  },
  {
   "cell_type": "code",
   "execution_count": 90,
   "metadata": {},
   "outputs": [
    {
     "data": {
      "text/plain": [
       "ID                               int64\n",
       "y                               object\n",
       "Number of Cylinders            float64\n",
       "material grade                  object\n",
       "Lubrication                     object\n",
       "Valve Type                      object\n",
       "Bearing Vendor                  object\n",
       "Fuel Type                       object\n",
       "Compression ratio               object\n",
       "cam arrangement                 object\n",
       "Cylinder arragement             object\n",
       "Turbocharger                    object\n",
       "Varaible Valve Timing (VVT)     object\n",
       "Cylinder deactivation           object\n",
       "Direct injection                object\n",
       "main bearing type               object\n",
       "displacement                    object\n",
       "piston type                     object\n",
       "Max. Torque                     object\n",
       "Peak Power                      object\n",
       "Crankshaft Design               object\n",
       "Liner Design                    object\n",
       "dtype: object"
      ]
     },
     "execution_count": 90,
     "metadata": {},
     "output_type": "execute_result"
    }
   ],
   "source": [
    "train.dtypes"
   ]
  },
  {
   "cell_type": "code",
   "execution_count": 91,
   "metadata": {},
   "outputs": [
    {
     "data": {
      "text/plain": [
       "Index(['ID', 'y', 'Number of Cylinders', 'material grade', 'Lubrication',\n",
       "       'Valve Type', 'Bearing Vendor', 'Fuel Type', 'Compression ratio',\n",
       "       'cam arrangement', 'Cylinder arragement', 'Turbocharger',\n",
       "       'Varaible Valve Timing (VVT)', 'Cylinder deactivation',\n",
       "       'Direct injection', 'main bearing type', 'displacement', 'piston type',\n",
       "       'Max. Torque', 'Peak Power', 'Crankshaft Design', 'Liner Design '],\n",
       "      dtype='object')"
      ]
     },
     "execution_count": 91,
     "metadata": {},
     "output_type": "execute_result"
    }
   ],
   "source": [
    "train.columns"
   ]
  },
  {
   "cell_type": "code",
   "execution_count": 92,
   "metadata": {},
   "outputs": [
    {
     "data": {
      "text/html": [
       "<div>\n",
       "<style>\n",
       "    .dataframe thead tr:only-child th {\n",
       "        text-align: right;\n",
       "    }\n",
       "\n",
       "    .dataframe thead th {\n",
       "        text-align: left;\n",
       "    }\n",
       "\n",
       "    .dataframe tbody tr th {\n",
       "        vertical-align: top;\n",
       "    }\n",
       "</style>\n",
       "<table border=\"1\" class=\"dataframe\">\n",
       "  <thead>\n",
       "    <tr style=\"text-align: right;\">\n",
       "      <th></th>\n",
       "      <th>y</th>\n",
       "      <th>material grade</th>\n",
       "      <th>Lubrication</th>\n",
       "      <th>Valve Type</th>\n",
       "      <th>Bearing Vendor</th>\n",
       "      <th>Fuel Type</th>\n",
       "      <th>Compression ratio</th>\n",
       "      <th>cam arrangement</th>\n",
       "      <th>Cylinder arragement</th>\n",
       "      <th>Turbocharger</th>\n",
       "      <th>Varaible Valve Timing (VVT)</th>\n",
       "      <th>Cylinder deactivation</th>\n",
       "      <th>Direct injection</th>\n",
       "      <th>main bearing type</th>\n",
       "      <th>displacement</th>\n",
       "      <th>piston type</th>\n",
       "      <th>Max. Torque</th>\n",
       "      <th>Peak Power</th>\n",
       "      <th>Crankshaft Design</th>\n",
       "      <th>Liner Design</th>\n",
       "    </tr>\n",
       "  </thead>\n",
       "  <tbody>\n",
       "    <tr>\n",
       "      <th>count</th>\n",
       "      <td>3156</td>\n",
       "      <td>2998</td>\n",
       "      <td>2998</td>\n",
       "      <td>2998</td>\n",
       "      <td>2998</td>\n",
       "      <td>2998</td>\n",
       "      <td>2998</td>\n",
       "      <td>2998</td>\n",
       "      <td>2998</td>\n",
       "      <td>2998</td>\n",
       "      <td>2998</td>\n",
       "      <td>2998</td>\n",
       "      <td>2998</td>\n",
       "      <td>2998</td>\n",
       "      <td>2998</td>\n",
       "      <td>2998</td>\n",
       "      <td>2998</td>\n",
       "      <td>2998</td>\n",
       "      <td>2998</td>\n",
       "      <td>2998</td>\n",
       "    </tr>\n",
       "    <tr>\n",
       "      <th>unique</th>\n",
       "      <td>2</td>\n",
       "      <td>7</td>\n",
       "      <td>4</td>\n",
       "      <td>4</td>\n",
       "      <td>6</td>\n",
       "      <td>2</td>\n",
       "      <td>2</td>\n",
       "      <td>2</td>\n",
       "      <td>2</td>\n",
       "      <td>2</td>\n",
       "      <td>2</td>\n",
       "      <td>2</td>\n",
       "      <td>2</td>\n",
       "      <td>2</td>\n",
       "      <td>2</td>\n",
       "      <td>2</td>\n",
       "      <td>2</td>\n",
       "      <td>2</td>\n",
       "      <td>2</td>\n",
       "      <td>2</td>\n",
       "    </tr>\n",
       "    <tr>\n",
       "      <th>top</th>\n",
       "      <td>pass</td>\n",
       "      <td>c</td>\n",
       "      <td>L4</td>\n",
       "      <td>B</td>\n",
       "      <td>V2</td>\n",
       "      <td>gasoline</td>\n",
       "      <td>low</td>\n",
       "      <td>SOHC</td>\n",
       "      <td>inline</td>\n",
       "      <td>Yes</td>\n",
       "      <td>Yes</td>\n",
       "      <td>No</td>\n",
       "      <td>Yes</td>\n",
       "      <td>Roller</td>\n",
       "      <td>high</td>\n",
       "      <td>linear</td>\n",
       "      <td>high</td>\n",
       "      <td>high</td>\n",
       "      <td>CD1</td>\n",
       "      <td>LD1</td>\n",
       "    </tr>\n",
       "    <tr>\n",
       "      <th>freq</th>\n",
       "      <td>1628</td>\n",
       "      <td>1404</td>\n",
       "      <td>784</td>\n",
       "      <td>811</td>\n",
       "      <td>558</td>\n",
       "      <td>2873</td>\n",
       "      <td>1776</td>\n",
       "      <td>2959</td>\n",
       "      <td>2352</td>\n",
       "      <td>2958</td>\n",
       "      <td>2993</td>\n",
       "      <td>1871</td>\n",
       "      <td>2606</td>\n",
       "      <td>2996</td>\n",
       "      <td>2990</td>\n",
       "      <td>2971</td>\n",
       "      <td>2910</td>\n",
       "      <td>2414</td>\n",
       "      <td>2607</td>\n",
       "      <td>2121</td>\n",
       "    </tr>\n",
       "  </tbody>\n",
       "</table>\n",
       "</div>"
      ],
      "text/plain": [
       "           y material grade Lubrication Valve Type Bearing Vendor Fuel Type  \\\n",
       "count   3156           2998        2998       2998           2998      2998   \n",
       "unique     2              7           4          4              6         2   \n",
       "top     pass              c          L4          B             V2  gasoline   \n",
       "freq    1628           1404         784        811            558      2873   \n",
       "\n",
       "       Compression ratio cam arrangement Cylinder arragement Turbocharger  \\\n",
       "count               2998            2998                2998         2998   \n",
       "unique                 2               2                   2            2   \n",
       "top                  low            SOHC              inline          Yes   \n",
       "freq                1776            2959                2352         2958   \n",
       "\n",
       "       Varaible Valve Timing (VVT) Cylinder deactivation Direct injection  \\\n",
       "count                         2998                  2998             2998   \n",
       "unique                           2                     2                2   \n",
       "top                            Yes                    No              Yes   \n",
       "freq                          2993                  1871             2606   \n",
       "\n",
       "       main bearing type displacement piston type Max. Torque Peak Power  \\\n",
       "count               2998         2998        2998        2998       2998   \n",
       "unique                 2            2           2           2          2   \n",
       "top               Roller         high      linear        high       high   \n",
       "freq                2996         2990        2971        2910       2414   \n",
       "\n",
       "       Crankshaft Design Liner Design   \n",
       "count               2998          2998  \n",
       "unique                 2             2  \n",
       "top                  CD1           LD1  \n",
       "freq                2607          2121  "
      ]
     },
     "execution_count": 92,
     "metadata": {},
     "output_type": "execute_result"
    }
   ],
   "source": [
    "train.describe(include=['O'])"
   ]
  },
  {
   "cell_type": "code",
   "execution_count": 93,
   "metadata": {
    "collapsed": true
   },
   "outputs": [],
   "source": [
    "#Merging train and train with additional data \n",
    "trainwithad = pd.merge(train, trainad,  how='left',left_on=['ID'], right_on = ['TestA'])"
   ]
  },
  {
   "cell_type": "code",
   "execution_count": 94,
   "metadata": {
    "collapsed": true
   },
   "outputs": [],
   "source": [
    "trainwithad=trainwithad.drop('TestB',axis=1)"
   ]
  },
  {
   "cell_type": "code",
   "execution_count": 96,
   "metadata": {
    "collapsed": true
   },
   "outputs": [],
   "source": [
    "trainwithadB = pd.merge(train, trainad,  how='left',left_on=['ID'], right_on = ['TestB'])"
   ]
  },
  {
   "cell_type": "code",
   "execution_count": 97,
   "metadata": {
    "collapsed": true
   },
   "outputs": [],
   "source": [
    "trainwithad=pd.concat([trainwithad,trainwithadB['TestB']],axis=1)"
   ]
  },
  {
   "cell_type": "code",
   "execution_count": 98,
   "metadata": {
    "collapsed": true
   },
   "outputs": [],
   "source": [
    "#Merging test and test with additional data\n",
    "testwithad = pd.merge(test, testad,  how='left',left_on=['ID'], right_on = ['TestA'])"
   ]
  },
  {
   "cell_type": "code",
   "execution_count": 99,
   "metadata": {
    "collapsed": true
   },
   "outputs": [],
   "source": [
    "testwithad=testwithad.drop('TestB',axis=1)"
   ]
  },
  {
   "cell_type": "code",
   "execution_count": 100,
   "metadata": {
    "collapsed": true
   },
   "outputs": [],
   "source": [
    "testwithadB = pd.merge(test, testad,  how='left',left_on=['ID'], right_on = ['TestB'])"
   ]
  },
  {
   "cell_type": "code",
   "execution_count": 101,
   "metadata": {
    "collapsed": true
   },
   "outputs": [],
   "source": [
    "testwithad=pd.concat([testwithad,testwithadB['TestB']],axis=1)\n"
   ]
  },
  {
   "cell_type": "code",
   "execution_count": 102,
   "metadata": {},
   "outputs": [
    {
     "data": {
      "text/html": [
       "<div>\n",
       "<style>\n",
       "    .dataframe thead tr:only-child th {\n",
       "        text-align: right;\n",
       "    }\n",
       "\n",
       "    .dataframe thead th {\n",
       "        text-align: left;\n",
       "    }\n",
       "\n",
       "    .dataframe tbody tr th {\n",
       "        vertical-align: top;\n",
       "    }\n",
       "</style>\n",
       "<table border=\"1\" class=\"dataframe\">\n",
       "  <thead>\n",
       "    <tr style=\"text-align: right;\">\n",
       "      <th></th>\n",
       "      <th>ID</th>\n",
       "      <th>y</th>\n",
       "      <th>Number of Cylinders</th>\n",
       "      <th>material grade</th>\n",
       "      <th>Lubrication</th>\n",
       "      <th>Valve Type</th>\n",
       "      <th>Bearing Vendor</th>\n",
       "      <th>Fuel Type</th>\n",
       "      <th>Compression ratio</th>\n",
       "      <th>cam arrangement</th>\n",
       "      <th>...</th>\n",
       "      <th>Direct injection</th>\n",
       "      <th>main bearing type</th>\n",
       "      <th>displacement</th>\n",
       "      <th>piston type</th>\n",
       "      <th>Max. Torque</th>\n",
       "      <th>Peak Power</th>\n",
       "      <th>Crankshaft Design</th>\n",
       "      <th>Liner Design</th>\n",
       "      <th>TestA</th>\n",
       "      <th>TestB</th>\n",
       "    </tr>\n",
       "  </thead>\n",
       "  <tbody>\n",
       "    <tr>\n",
       "      <th>0</th>\n",
       "      <td>1</td>\n",
       "      <td>pass</td>\n",
       "      <td>6.0</td>\n",
       "      <td>a</td>\n",
       "      <td>L4</td>\n",
       "      <td>C</td>\n",
       "      <td>V4</td>\n",
       "      <td>gasoline</td>\n",
       "      <td>low</td>\n",
       "      <td>SOHC</td>\n",
       "      <td>...</td>\n",
       "      <td>Yes</td>\n",
       "      <td>Roller</td>\n",
       "      <td>high</td>\n",
       "      <td>linear</td>\n",
       "      <td>high</td>\n",
       "      <td>high</td>\n",
       "      <td>CD2</td>\n",
       "      <td>LD1</td>\n",
       "      <td>1.0</td>\n",
       "      <td>1.0</td>\n",
       "    </tr>\n",
       "    <tr>\n",
       "      <th>1</th>\n",
       "      <td>2</td>\n",
       "      <td>fail</td>\n",
       "      <td>6.0</td>\n",
       "      <td>b</td>\n",
       "      <td>L4</td>\n",
       "      <td>C</td>\n",
       "      <td>V3</td>\n",
       "      <td>gasoline</td>\n",
       "      <td>high</td>\n",
       "      <td>SOHC</td>\n",
       "      <td>...</td>\n",
       "      <td>Yes</td>\n",
       "      <td>Roller</td>\n",
       "      <td>high</td>\n",
       "      <td>linear</td>\n",
       "      <td>high</td>\n",
       "      <td>high</td>\n",
       "      <td>CD1</td>\n",
       "      <td>LD1</td>\n",
       "      <td>2.0</td>\n",
       "      <td>NaN</td>\n",
       "    </tr>\n",
       "    <tr>\n",
       "      <th>2</th>\n",
       "      <td>3</td>\n",
       "      <td>pass</td>\n",
       "      <td>4.0</td>\n",
       "      <td>NaN</td>\n",
       "      <td>L3</td>\n",
       "      <td>D</td>\n",
       "      <td>V2</td>\n",
       "      <td>gasoline</td>\n",
       "      <td>high</td>\n",
       "      <td>SOHC</td>\n",
       "      <td>...</td>\n",
       "      <td>Yes</td>\n",
       "      <td>Roller</td>\n",
       "      <td>high</td>\n",
       "      <td>linear</td>\n",
       "      <td>high</td>\n",
       "      <td>high</td>\n",
       "      <td>CD1</td>\n",
       "      <td>LD1</td>\n",
       "      <td>3.0</td>\n",
       "      <td>3.0</td>\n",
       "    </tr>\n",
       "    <tr>\n",
       "      <th>3</th>\n",
       "      <td>4</td>\n",
       "      <td>pass</td>\n",
       "      <td>4.0</td>\n",
       "      <td>f</td>\n",
       "      <td>L2</td>\n",
       "      <td>D</td>\n",
       "      <td>NaN</td>\n",
       "      <td>gasoline</td>\n",
       "      <td>low</td>\n",
       "      <td>SOHC</td>\n",
       "      <td>...</td>\n",
       "      <td>Yes</td>\n",
       "      <td>Roller</td>\n",
       "      <td>high</td>\n",
       "      <td>linear</td>\n",
       "      <td>high</td>\n",
       "      <td>high</td>\n",
       "      <td>CD1</td>\n",
       "      <td>LD1</td>\n",
       "      <td>4.0</td>\n",
       "      <td>4.0</td>\n",
       "    </tr>\n",
       "    <tr>\n",
       "      <th>4</th>\n",
       "      <td>5</td>\n",
       "      <td>fail</td>\n",
       "      <td>8.0</td>\n",
       "      <td>d</td>\n",
       "      <td>L2</td>\n",
       "      <td>NaN</td>\n",
       "      <td>V2</td>\n",
       "      <td>gasoline</td>\n",
       "      <td>high</td>\n",
       "      <td>SOHC</td>\n",
       "      <td>...</td>\n",
       "      <td>Yes</td>\n",
       "      <td>Roller</td>\n",
       "      <td>high</td>\n",
       "      <td>linear</td>\n",
       "      <td>high</td>\n",
       "      <td>high</td>\n",
       "      <td>CD1</td>\n",
       "      <td>LD2</td>\n",
       "      <td>NaN</td>\n",
       "      <td>5.0</td>\n",
       "    </tr>\n",
       "  </tbody>\n",
       "</table>\n",
       "<p>5 rows × 24 columns</p>\n",
       "</div>"
      ],
      "text/plain": [
       "  ID     y  Number of Cylinders material grade Lubrication Valve Type  \\\n",
       "0  1  pass                  6.0              a          L4          C   \n",
       "1  2  fail                  6.0              b          L4          C   \n",
       "2  3  pass                  4.0            NaN          L3          D   \n",
       "3  4  pass                  4.0              f          L2          D   \n",
       "4  5  fail                  8.0              d          L2        NaN   \n",
       "\n",
       "  Bearing Vendor Fuel Type Compression ratio cam arrangement  ...   \\\n",
       "0             V4  gasoline               low            SOHC  ...    \n",
       "1             V3  gasoline              high            SOHC  ...    \n",
       "2             V2  gasoline              high            SOHC  ...    \n",
       "3            NaN  gasoline               low            SOHC  ...    \n",
       "4             V2  gasoline              high            SOHC  ...    \n",
       "\n",
       "  Direct injection main bearing type displacement piston type Max. Torque  \\\n",
       "0              Yes            Roller         high      linear        high   \n",
       "1              Yes            Roller         high      linear        high   \n",
       "2              Yes            Roller         high      linear        high   \n",
       "3              Yes            Roller         high      linear        high   \n",
       "4              Yes            Roller         high      linear        high   \n",
       "\n",
       "  Peak Power Crankshaft Design Liner Design  TestA TestB  \n",
       "0       high               CD2           LD1   1.0   1.0  \n",
       "1       high               CD1           LD1   2.0   NaN  \n",
       "2       high               CD1           LD1   3.0   3.0  \n",
       "3       high               CD1           LD1   4.0   4.0  \n",
       "4       high               CD1           LD2   NaN   5.0  \n",
       "\n",
       "[5 rows x 24 columns]"
      ]
     },
     "execution_count": 102,
     "metadata": {},
     "output_type": "execute_result"
    }
   ],
   "source": [
    "trainwithad.head()"
   ]
  },
  {
   "cell_type": "code",
   "execution_count": 103,
   "metadata": {},
   "outputs": [
    {
     "data": {
      "text/html": [
       "<div>\n",
       "<style>\n",
       "    .dataframe thead tr:only-child th {\n",
       "        text-align: right;\n",
       "    }\n",
       "\n",
       "    .dataframe thead th {\n",
       "        text-align: left;\n",
       "    }\n",
       "\n",
       "    .dataframe tbody tr th {\n",
       "        vertical-align: top;\n",
       "    }\n",
       "</style>\n",
       "<table border=\"1\" class=\"dataframe\">\n",
       "  <thead>\n",
       "    <tr style=\"text-align: right;\">\n",
       "      <th></th>\n",
       "      <th>ID</th>\n",
       "      <th>Number of Cylinders</th>\n",
       "      <th>material grade</th>\n",
       "      <th>Lubrication</th>\n",
       "      <th>Valve Type</th>\n",
       "      <th>Bearing Vendor</th>\n",
       "      <th>Fuel Type</th>\n",
       "      <th>Compression ratio</th>\n",
       "      <th>cam arrangement</th>\n",
       "      <th>Cylinder arragement</th>\n",
       "      <th>...</th>\n",
       "      <th>Direct injection</th>\n",
       "      <th>main bearing type</th>\n",
       "      <th>displacement</th>\n",
       "      <th>piston type</th>\n",
       "      <th>Max. Torque</th>\n",
       "      <th>Peak Power</th>\n",
       "      <th>Crankshaft Design</th>\n",
       "      <th>Liner Design</th>\n",
       "      <th>TestA</th>\n",
       "      <th>TestB</th>\n",
       "    </tr>\n",
       "  </thead>\n",
       "  <tbody>\n",
       "    <tr>\n",
       "      <th>0</th>\n",
       "      <td>5001</td>\n",
       "      <td>4.0</td>\n",
       "      <td>NaN</td>\n",
       "      <td>L1</td>\n",
       "      <td>A</td>\n",
       "      <td>V2</td>\n",
       "      <td>gasoline</td>\n",
       "      <td>high</td>\n",
       "      <td>SOHC</td>\n",
       "      <td>inline</td>\n",
       "      <td>...</td>\n",
       "      <td>Yes</td>\n",
       "      <td>Roller</td>\n",
       "      <td>high</td>\n",
       "      <td>linear</td>\n",
       "      <td>high</td>\n",
       "      <td>low</td>\n",
       "      <td>CD1</td>\n",
       "      <td>LD1</td>\n",
       "      <td>NaN</td>\n",
       "      <td>5001.0</td>\n",
       "    </tr>\n",
       "    <tr>\n",
       "      <th>1</th>\n",
       "      <td>5002</td>\n",
       "      <td>8.0</td>\n",
       "      <td>e</td>\n",
       "      <td>L1</td>\n",
       "      <td>B</td>\n",
       "      <td>V1</td>\n",
       "      <td>gasoline</td>\n",
       "      <td>high</td>\n",
       "      <td>SOHC</td>\n",
       "      <td>V</td>\n",
       "      <td>...</td>\n",
       "      <td>Yes</td>\n",
       "      <td>Roller</td>\n",
       "      <td>high</td>\n",
       "      <td>linear</td>\n",
       "      <td>high</td>\n",
       "      <td>high</td>\n",
       "      <td>CD1</td>\n",
       "      <td>LD2</td>\n",
       "      <td>NaN</td>\n",
       "      <td>5002.0</td>\n",
       "    </tr>\n",
       "    <tr>\n",
       "      <th>2</th>\n",
       "      <td>5003</td>\n",
       "      <td>8.0</td>\n",
       "      <td>NaN</td>\n",
       "      <td>L1</td>\n",
       "      <td>B</td>\n",
       "      <td>V3</td>\n",
       "      <td>gasoline</td>\n",
       "      <td>NaN</td>\n",
       "      <td>SOHC</td>\n",
       "      <td>inline</td>\n",
       "      <td>...</td>\n",
       "      <td>Yes</td>\n",
       "      <td>Roller</td>\n",
       "      <td>high</td>\n",
       "      <td>linear</td>\n",
       "      <td>high</td>\n",
       "      <td>high</td>\n",
       "      <td>CD1</td>\n",
       "      <td>LD2</td>\n",
       "      <td>5003.0</td>\n",
       "      <td>5003.0</td>\n",
       "    </tr>\n",
       "    <tr>\n",
       "      <th>3</th>\n",
       "      <td>5004</td>\n",
       "      <td>8.0</td>\n",
       "      <td>c</td>\n",
       "      <td>L1</td>\n",
       "      <td>A</td>\n",
       "      <td>V2</td>\n",
       "      <td>gasoline</td>\n",
       "      <td>high</td>\n",
       "      <td>SOHC</td>\n",
       "      <td>inline</td>\n",
       "      <td>...</td>\n",
       "      <td>Yes</td>\n",
       "      <td>Roller</td>\n",
       "      <td>high</td>\n",
       "      <td>linear</td>\n",
       "      <td>high</td>\n",
       "      <td>low</td>\n",
       "      <td>CD1</td>\n",
       "      <td>LD2</td>\n",
       "      <td>5004.0</td>\n",
       "      <td>NaN</td>\n",
       "    </tr>\n",
       "    <tr>\n",
       "      <th>4</th>\n",
       "      <td>5005</td>\n",
       "      <td>4.0</td>\n",
       "      <td>f</td>\n",
       "      <td>NaN</td>\n",
       "      <td>D</td>\n",
       "      <td>V5</td>\n",
       "      <td>petrol</td>\n",
       "      <td>high</td>\n",
       "      <td>SOHC</td>\n",
       "      <td>inline</td>\n",
       "      <td>...</td>\n",
       "      <td>Yes</td>\n",
       "      <td>Roller</td>\n",
       "      <td>high</td>\n",
       "      <td>linear</td>\n",
       "      <td>high</td>\n",
       "      <td>high</td>\n",
       "      <td>CD1</td>\n",
       "      <td>LD1</td>\n",
       "      <td>5005.0</td>\n",
       "      <td>NaN</td>\n",
       "    </tr>\n",
       "  </tbody>\n",
       "</table>\n",
       "<p>5 rows × 23 columns</p>\n",
       "</div>"
      ],
      "text/plain": [
       "     ID  Number of Cylinders material grade Lubrication Valve Type  \\\n",
       "0  5001                  4.0            NaN          L1          A   \n",
       "1  5002                  8.0              e          L1          B   \n",
       "2  5003                  8.0            NaN          L1          B   \n",
       "3  5004                  8.0              c          L1          A   \n",
       "4  5005                  4.0              f         NaN          D   \n",
       "\n",
       "  Bearing Vendor Fuel Type Compression ratio cam arrangement  \\\n",
       "0             V2  gasoline              high            SOHC   \n",
       "1             V1  gasoline              high            SOHC   \n",
       "2             V3  gasoline               NaN            SOHC   \n",
       "3             V2  gasoline              high            SOHC   \n",
       "4             V5    petrol              high            SOHC   \n",
       "\n",
       "  Cylinder arragement   ...   Direct injection main bearing type displacement  \\\n",
       "0              inline   ...                Yes            Roller         high   \n",
       "1                   V   ...                Yes            Roller         high   \n",
       "2              inline   ...                Yes            Roller         high   \n",
       "3              inline   ...                Yes            Roller         high   \n",
       "4              inline   ...                Yes            Roller         high   \n",
       "\n",
       "  piston type Max. Torque Peak Power Crankshaft Design Liner Design    TestA  \\\n",
       "0      linear        high        low               CD1           LD1     NaN   \n",
       "1      linear        high       high               CD1           LD2     NaN   \n",
       "2      linear        high       high               CD1           LD2  5003.0   \n",
       "3      linear        high        low               CD1           LD2  5004.0   \n",
       "4      linear        high       high               CD1           LD1  5005.0   \n",
       "\n",
       "    TestB  \n",
       "0  5001.0  \n",
       "1  5002.0  \n",
       "2  5003.0  \n",
       "3     NaN  \n",
       "4     NaN  \n",
       "\n",
       "[5 rows x 23 columns]"
      ]
     },
     "execution_count": 103,
     "metadata": {},
     "output_type": "execute_result"
    }
   ],
   "source": [
    "testwithad.head()"
   ]
  },
  {
   "cell_type": "code",
   "execution_count": 104,
   "metadata": {},
   "outputs": [
    {
     "data": {
      "text/plain": [
       "pass    1628\n",
       "fail    1528\n",
       "Name: y, dtype: int64"
      ]
     },
     "execution_count": 104,
     "metadata": {},
     "output_type": "execute_result"
    }
   ],
   "source": [
    "#Checking the distribution of y column for train data\n",
    "trainwithad.y.value_counts()"
   ]
  },
  {
   "cell_type": "code",
   "execution_count": 105,
   "metadata": {
    "collapsed": true
   },
   "outputs": [],
   "source": [
    "#Encoding the Target Variable y with pass as 1 and fail as 0\n",
    "trainwithad['y']=trainwithad['y'].map({'pass':1,'fail':0}).astype(int)"
   ]
  },
  {
   "cell_type": "code",
   "execution_count": 106,
   "metadata": {
    "collapsed": true
   },
   "outputs": [],
   "source": [
    "#Converting Number of Cylinders attribute to categorical in both train and test\n",
    "trainwithad['Number of Cylinders']=trainwithad['Number of Cylinders'].astype('object')\n",
    "testwithad['Number of Cylinders']=testwithad['Number of Cylinders'].astype('object')"
   ]
  },
  {
   "cell_type": "code",
   "execution_count": 107,
   "metadata": {},
   "outputs": [
    {
     "data": {
      "text/plain": [
       "4.0    1164\n",
       "8.0     983\n",
       "6.0     851\n",
       "Name: Number of Cylinders, dtype: int64"
      ]
     },
     "execution_count": 107,
     "metadata": {},
     "output_type": "execute_result"
    }
   ],
   "source": [
    "trainwithad['Number of Cylinders'].value_counts()"
   ]
  },
  {
   "cell_type": "code",
   "execution_count": 108,
   "metadata": {},
   "outputs": [
    {
     "data": {
      "text/plain": [
       "ID                              object\n",
       "y                                int32\n",
       "Number of Cylinders             object\n",
       "material grade                  object\n",
       "Lubrication                     object\n",
       "Valve Type                      object\n",
       "Bearing Vendor                  object\n",
       "Fuel Type                       object\n",
       "Compression ratio               object\n",
       "cam arrangement                 object\n",
       "Cylinder arragement             object\n",
       "Turbocharger                    object\n",
       "Varaible Valve Timing (VVT)     object\n",
       "Cylinder deactivation           object\n",
       "Direct injection                object\n",
       "main bearing type               object\n",
       "displacement                    object\n",
       "piston type                     object\n",
       "Max. Torque                     object\n",
       "Peak Power                      object\n",
       "Crankshaft Design               object\n",
       "Liner Design                    object\n",
       "TestA                          float64\n",
       "TestB                          float64\n",
       "dtype: object"
      ]
     },
     "execution_count": 108,
     "metadata": {},
     "output_type": "execute_result"
    }
   ],
   "source": [
    "trainwithad.dtypes"
   ]
  },
  {
   "cell_type": "markdown",
   "metadata": {},
   "source": [
    "## Visualizations"
   ]
  },
  {
   "cell_type": "code",
   "execution_count": 109,
   "metadata": {},
   "outputs": [
    {
     "data": {
      "text/plain": [
       "Index(['ID', 'y', 'Number of Cylinders', 'material grade', 'Lubrication',\n",
       "       'Valve Type', 'Bearing Vendor', 'Fuel Type', 'Compression ratio',\n",
       "       'cam arrangement', 'Cylinder arragement', 'Turbocharger',\n",
       "       'Varaible Valve Timing (VVT)', 'Cylinder deactivation',\n",
       "       'Direct injection', 'main bearing type', 'displacement', 'piston type',\n",
       "       'Max. Torque', 'Peak Power', 'Crankshaft Design', 'Liner Design ',\n",
       "       'TestA', 'TestB'],\n",
       "      dtype='object')"
      ]
     },
     "execution_count": 109,
     "metadata": {},
     "output_type": "execute_result"
    }
   ],
   "source": [
    "trainwithad.columns"
   ]
  },
  {
   "cell_type": "code",
   "execution_count": 110,
   "metadata": {},
   "outputs": [
    {
     "data": {
      "text/plain": [
       "<matplotlib.text.Text at 0x23f7eb4d828>"
      ]
     },
     "execution_count": 110,
     "metadata": {},
     "output_type": "execute_result"
    },
    {
     "data": {
      "image/png": "[encoded data removed]",
      "text/plain": [
       "<matplotlib.figure.Figure at 0x23f7eafec88>"
      ]
     },
     "metadata": {},
     "output_type": "display_data"
    }
   ],
   "source": [
    "#Plotting barplot of Number of Cylinders with respect to Target\n",
    "sns.barplot(x='Number of Cylinders', y='y', data=trainwithad)\n",
    "plt.ylabel('Target')"
   ]
  },
  {
   "cell_type": "code",
   "execution_count": 111,
   "metadata": {},
   "outputs": [
    {
     "data": {
      "text/plain": [
       "<matplotlib.text.Text at 0x23f7ebe1860>"
      ]
     },
     "execution_count": 111,
     "metadata": {},
     "output_type": "execute_result"
    },
    {
     "data": {
      "image/png": "[encoded data removed]",
      "text/plain": [
       "<matplotlib.figure.Figure at 0x23f7ea1f198>"
      ]
     },
     "metadata": {},
     "output_type": "display_data"
    }
   ],
   "source": [
    "#Plotting barplot of Fuel Type with respect to Target\n",
    "sns.barplot(x='Fuel Type', y='y', data=trainwithad)\n",
    "plt.ylabel('Target')"
   ]
  },
  {
   "cell_type": "code",
   "execution_count": 112,
   "metadata": {},
   "outputs": [
    {
     "data": {
      "text/plain": [
       "<matplotlib.text.Text at 0x23f7e683780>"
      ]
     },
     "execution_count": 112,
     "metadata": {},
     "output_type": "execute_result"
    },
    {
     "data": {
      "image/png": "[encoded data removed]",
      "text/plain": [
       "<matplotlib.figure.Figure at 0x23f7eba14a8>"
      ]
     },
     "metadata": {},
     "output_type": "display_data"
    }
   ],
   "source": [
    "#Plotting barplot of Peak Power with respect to Target\n",
    "sns.barplot(x='Peak Power', y='y', data=trainwithad)\n",
    "plt.ylabel('Target')"
   ]
  },
  {
   "cell_type": "code",
   "execution_count": 113,
   "metadata": {},
   "outputs": [
    {
     "data": {
      "text/plain": [
       "<matplotlib.text.Text at 0x23f7ec8c0f0>"
      ]
     },
     "execution_count": 113,
     "metadata": {},
     "output_type": "execute_result"
    },
    {
     "data": {
      "image/png": "[encoded data removed]",
      "text/plain": [
       "<matplotlib.figure.Figure at 0x23f7ec88400>"
      ]
     },
     "metadata": {},
     "output_type": "display_data"
    }
   ],
   "source": [
    "#Plotting barplot of Cylinder deactivation with respect to Target\n",
    "sns.barplot(x='Cylinder deactivation', y='y', data=trainwithad)\n",
    "plt.ylabel('Target')"
   ]
  },
  {
   "cell_type": "code",
   "execution_count": 114,
   "metadata": {},
   "outputs": [
    {
     "data": {
      "text/plain": [
       "<matplotlib.text.Text at 0x23f7fd16128>"
      ]
     },
     "execution_count": 114,
     "metadata": {},
     "output_type": "execute_result"
    },
    {
     "data": {
      "image/png": "[encoded data removed]",
      "text/plain": [
       "<matplotlib.figure.Figure at 0x23f7e87f358>"
      ]
     },
     "metadata": {},
     "output_type": "display_data"
    }
   ],
   "source": [
    "#Plotting barplot of Compression Ratio with respect to Target\n",
    "sns.barplot(x='Compression ratio', y='y', data=trainwithad)\n",
    "plt.ylabel('Target')"
   ]
  },
  {
   "cell_type": "code",
   "execution_count": 115,
   "metadata": {},
   "outputs": [
    {
     "data": {
      "text/plain": [
       "<matplotlib.text.Text at 0x23f7fd9cba8>"
      ]
     },
     "execution_count": 115,
     "metadata": {},
     "output_type": "execute_result"
    },
    {
     "data": {
      "image/png": "[encoded data removed]",
      "text/plain": [
       "<matplotlib.figure.Figure at 0x23f7eb98c18>"
      ]
     },
     "metadata": {},
     "output_type": "display_data"
    }
   ],
   "source": [
    "#Plotting barplot of Material grade with respect to Target\n",
    "sns.barplot(x='material grade', y='y', data=trainwithad)\n",
    "plt.ylabel('Target')"
   ]
  },
  {
   "cell_type": "markdown",
   "metadata": {},
   "source": [
    "## Dealing with missing values"
   ]
  },
  {
   "cell_type": "code",
   "execution_count": 116,
   "metadata": {},
   "outputs": [
    {
     "data": {
      "text/plain": [
       "ID                                0\n",
       "y                                 0\n",
       "Number of Cylinders             158\n",
       "material grade                  158\n",
       "Lubrication                     158\n",
       "Valve Type                      158\n",
       "Bearing Vendor                  158\n",
       "Fuel Type                       158\n",
       "Compression ratio               158\n",
       "cam arrangement                 158\n",
       "Cylinder arragement             158\n",
       "Turbocharger                    158\n",
       "Varaible Valve Timing (VVT)     158\n",
       "Cylinder deactivation           158\n",
       "Direct injection                158\n",
       "main bearing type               158\n",
       "displacement                    158\n",
       "piston type                     158\n",
       "Max. Torque                     158\n",
       "Peak Power                      158\n",
       "Crankshaft Design               158\n",
       "Liner Design                    158\n",
       "TestA                          1130\n",
       "TestB                          1091\n",
       "dtype: int64"
      ]
     },
     "execution_count": 116,
     "metadata": {},
     "output_type": "execute_result"
    }
   ],
   "source": [
    "#Checking for null values in train data\n",
    "trainwithad.isnull().sum()"
   ]
  },
  {
   "cell_type": "code",
   "execution_count": 117,
   "metadata": {},
   "outputs": [
    {
     "data": {
      "text/plain": [
       "ID                              0.00\n",
       "y                               0.00\n",
       "Number of Cylinders             5.01\n",
       "material grade                  5.01\n",
       "Lubrication                     5.01\n",
       "Valve Type                      5.01\n",
       "Bearing Vendor                  5.01\n",
       "Fuel Type                       5.01\n",
       "Compression ratio               5.01\n",
       "cam arrangement                 5.01\n",
       "Cylinder arragement             5.01\n",
       "Turbocharger                    5.01\n",
       "Varaible Valve Timing (VVT)     5.01\n",
       "Cylinder deactivation           5.01\n",
       "Direct injection                5.01\n",
       "main bearing type               5.01\n",
       "displacement                    5.01\n",
       "piston type                     5.01\n",
       "Max. Torque                     5.01\n",
       "Peak Power                      5.01\n",
       "Crankshaft Design               5.01\n",
       "Liner Design                    5.01\n",
       "TestA                          35.80\n",
       "TestB                          34.57\n",
       "dtype: float64"
      ]
     },
     "execution_count": 117,
     "metadata": {},
     "output_type": "execute_result"
    }
   ],
   "source": [
    "#Calculating missing Values percentage for train\n",
    "round(100*(trainwithad.isnull().sum()/len(trainwithad.index)), 2)"
   ]
  },
  {
   "cell_type": "code",
   "execution_count": 118,
   "metadata": {
    "collapsed": true
   },
   "outputs": [],
   "source": [
    "# Replacing nulls in Test A and Test B with 0\n",
    "trainwithad.loc[pd.isnull(trainwithad['TestA']),['TestA']] = 0\n",
    "trainwithad.loc[pd.isnull(trainwithad['TestB']),['TestB']] = 0"
   ]
  },
  {
   "cell_type": "code",
   "execution_count": 119,
   "metadata": {
    "collapsed": true
   },
   "outputs": [],
   "source": [
    "catcols=trainwithad.select_dtypes(include=['object']).columns"
   ]
  },
  {
   "cell_type": "code",
   "execution_count": 120,
   "metadata": {
    "collapsed": true
   },
   "outputs": [],
   "source": [
    "# Replacing missing values in categorical columns with mode\n",
    "trainwithad[catcols]=trainwithad[catcols].fillna(trainwithad.mode().iloc[0])"
   ]
  },
  {
   "cell_type": "code",
   "execution_count": 121,
   "metadata": {},
   "outputs": [
    {
     "data": {
      "text/plain": [
       "ID                             0.0\n",
       "y                              0.0\n",
       "Number of Cylinders            0.0\n",
       "material grade                 0.0\n",
       "Lubrication                    0.0\n",
       "Valve Type                     0.0\n",
       "Bearing Vendor                 0.0\n",
       "Fuel Type                      0.0\n",
       "Compression ratio              0.0\n",
       "cam arrangement                0.0\n",
       "Cylinder arragement            0.0\n",
       "Turbocharger                   0.0\n",
       "Varaible Valve Timing (VVT)    0.0\n",
       "Cylinder deactivation          0.0\n",
       "Direct injection               0.0\n",
       "main bearing type              0.0\n",
       "displacement                   0.0\n",
       "piston type                    0.0\n",
       "Max. Torque                    0.0\n",
       "Peak Power                     0.0\n",
       "Crankshaft Design              0.0\n",
       "Liner Design                   0.0\n",
       "TestA                          0.0\n",
       "TestB                          0.0\n",
       "dtype: float64"
      ]
     },
     "execution_count": 121,
     "metadata": {},
     "output_type": "execute_result"
    }
   ],
   "source": [
    "#Checking missing values in train after Imputation\n",
    "round(100*(trainwithad.isnull().sum()/len(trainwithad.index)), 2)"
   ]
  },
  {
   "cell_type": "code",
   "execution_count": 122,
   "metadata": {},
   "outputs": [
    {
     "data": {
      "text/plain": [
       "ID                              0.00\n",
       "Number of Cylinders             5.03\n",
       "material grade                  5.03\n",
       "Lubrication                     5.03\n",
       "Valve Type                      5.03\n",
       "Bearing Vendor                  5.03\n",
       "Fuel Type                       5.03\n",
       "Compression ratio               5.03\n",
       "cam arrangement                 5.03\n",
       "Cylinder arragement             5.03\n",
       "Turbocharger                    5.03\n",
       "Varaible Valve Timing (VVT)     5.03\n",
       "Cylinder deactivation           5.03\n",
       "Direct injection                5.03\n",
       "main bearing type               5.03\n",
       "displacement                    5.03\n",
       "piston type                     5.03\n",
       "Max. Torque                     5.03\n",
       "Peak Power                      5.03\n",
       "Crankshaft Design               5.03\n",
       "Liner Design                    5.03\n",
       "TestA                          33.62\n",
       "TestB                          34.85\n",
       "dtype: float64"
      ]
     },
     "execution_count": 122,
     "metadata": {},
     "output_type": "execute_result"
    }
   ],
   "source": [
    "#Calculating missing Values percentage for test data\n",
    "round(100*(testwithad.isnull().sum()/len(testwithad.index)), 2)"
   ]
  },
  {
   "cell_type": "code",
   "execution_count": 123,
   "metadata": {
    "collapsed": true
   },
   "outputs": [],
   "source": [
    "# Replacing blanks in Test A and Test B with 0\n",
    "testwithad.loc[pd.isnull(testwithad['TestA']),['TestA']] = 0\n",
    "testwithad.loc[pd.isnull(testwithad['TestB']),['TestB']] = 0"
   ]
  },
  {
   "cell_type": "code",
   "execution_count": 124,
   "metadata": {
    "collapsed": true
   },
   "outputs": [],
   "source": [
    "# Replacing missing values in categorical columns with mode\n",
    "catcols=testwithad.select_dtypes(include=['object']).columns\n",
    "testwithad[catcols]=testwithad[catcols].fillna(testwithad.mode().iloc[0])"
   ]
  },
  {
   "cell_type": "code",
   "execution_count": 125,
   "metadata": {},
   "outputs": [
    {
     "data": {
      "text/plain": [
       "ID                             0.0\n",
       "Number of Cylinders            0.0\n",
       "material grade                 0.0\n",
       "Lubrication                    0.0\n",
       "Valve Type                     0.0\n",
       "Bearing Vendor                 0.0\n",
       "Fuel Type                      0.0\n",
       "Compression ratio              0.0\n",
       "cam arrangement                0.0\n",
       "Cylinder arragement            0.0\n",
       "Turbocharger                   0.0\n",
       "Varaible Valve Timing (VVT)    0.0\n",
       "Cylinder deactivation          0.0\n",
       "Direct injection               0.0\n",
       "main bearing type              0.0\n",
       "displacement                   0.0\n",
       "piston type                    0.0\n",
       "Max. Torque                    0.0\n",
       "Peak Power                     0.0\n",
       "Crankshaft Design              0.0\n",
       "Liner Design                   0.0\n",
       "TestA                          0.0\n",
       "TestB                          0.0\n",
       "dtype: float64"
      ]
     },
     "execution_count": 125,
     "metadata": {},
     "output_type": "execute_result"
    }
   ],
   "source": [
    "#Checking missing values in test after Imputation\n",
    "round(100*(testwithad.isnull().sum()/len(testwithad.index)), 2)"
   ]
  },
  {
   "cell_type": "code",
   "execution_count": 126,
   "metadata": {
    "collapsed": true
   },
   "outputs": [],
   "source": [
    "#Converting Number of cylinders attribute to Categorical\n",
    "trainwithad['Number of Cylinders']=trainwithad['Number of Cylinders'].astype('object')\n",
    "testwithad['Number of Cylinders']=testwithad['Number of Cylinders'].astype('object')"
   ]
  },
  {
   "cell_type": "code",
   "execution_count": 127,
   "metadata": {},
   "outputs": [
    {
     "data": {
      "text/plain": [
       "ID                               int64\n",
       "y                                int32\n",
       "Number of Cylinders             object\n",
       "material grade                  object\n",
       "Lubrication                     object\n",
       "Valve Type                      object\n",
       "Bearing Vendor                  object\n",
       "Fuel Type                       object\n",
       "Compression ratio               object\n",
       "cam arrangement                 object\n",
       "Cylinder arragement             object\n",
       "Turbocharger                    object\n",
       "Varaible Valve Timing (VVT)     object\n",
       "Cylinder deactivation           object\n",
       "Direct injection                object\n",
       "main bearing type               object\n",
       "displacement                    object\n",
       "piston type                     object\n",
       "Max. Torque                     object\n",
       "Peak Power                      object\n",
       "Crankshaft Design               object\n",
       "Liner Design                    object\n",
       "TestA                          float64\n",
       "TestB                          float64\n",
       "dtype: object"
      ]
     },
     "execution_count": 127,
     "metadata": {},
     "output_type": "execute_result"
    }
   ],
   "source": [
    "trainwithad.dtypes"
   ]
  },
  {
   "cell_type": "code",
   "execution_count": 128,
   "metadata": {
    "collapsed": true
   },
   "outputs": [],
   "source": [
    "#Encoding TestA and TestB with 1 and 0 for the IDs Present in Train data\n",
    "trainwithad['TestA']=trainwithad['TestA'].apply(lambda x : 1 if x!=0 else 0)\n",
    "trainwithad['TestB']=trainwithad['TestB'].apply(lambda x : 1 if x!=0 else 0)"
   ]
  },
  {
   "cell_type": "code",
   "execution_count": 144,
   "metadata": {},
   "outputs": [
    {
     "data": {
      "text/plain": [
       "<matplotlib.text.Text at 0x23f7fe963c8>"
      ]
     },
     "execution_count": 144,
     "metadata": {},
     "output_type": "execute_result"
    },
    {
     "data": {
      "image/png": "[encoded data removed]",
      "text/plain": [
       "<matplotlib.figure.Figure at 0x23f7fd93da0>"
      ]
     },
     "metadata": {},
     "output_type": "display_data"
    }
   ],
   "source": [
    "#Plot showing number of IDs Passed and Fail for TestA in train data\n",
    "sns.countplot('TestA',data=trainfinal)\n",
    "plt.ylabel('ID Count')"
   ]
  },
  {
   "cell_type": "code",
   "execution_count": 145,
   "metadata": {},
   "outputs": [
    {
     "data": {
      "text/plain": [
       "<matplotlib.text.Text at 0x23f7ff180f0>"
      ]
     },
     "execution_count": 145,
     "metadata": {},
     "output_type": "execute_result"
    },
    {
     "data": {
      "image/png": "[encoded data removed]",
      "text/plain": [
       "<matplotlib.figure.Figure at 0x23f7fd93eb8>"
      ]
     },
     "metadata": {},
     "output_type": "display_data"
    }
   ],
   "source": [
    "#Plot showing number of IDs Passed and Fail for TestB in train data\n",
    "sns.countplot('TestB',data=trainfinal)\n",
    "plt.ylabel('ID Count')"
   ]
  },
  {
   "cell_type": "code",
   "execution_count": 129,
   "metadata": {
    "collapsed": true
   },
   "outputs": [],
   "source": [
    "#Encoding TestA and TestB with 1 and 0 for the IDs Present in Test data\n",
    "testwithad['TestA']=testwithad['TestA'].apply(lambda x : 1 if x!=0 else 0)\n",
    "testwithad['TestB']=testwithad['TestB'].apply(lambda x : 1 if x!=0 else 0)"
   ]
  },
  {
   "cell_type": "code",
   "execution_count": 130,
   "metadata": {},
   "outputs": [
    {
     "data": {
      "text/html": [
       "<div>\n",
       "<style>\n",
       "    .dataframe thead tr:only-child th {\n",
       "        text-align: right;\n",
       "    }\n",
       "\n",
       "    .dataframe thead th {\n",
       "        text-align: left;\n",
       "    }\n",
       "\n",
       "    .dataframe tbody tr th {\n",
       "        vertical-align: top;\n",
       "    }\n",
       "</style>\n",
       "<table border=\"1\" class=\"dataframe\">\n",
       "  <thead>\n",
       "    <tr style=\"text-align: right;\">\n",
       "      <th></th>\n",
       "      <th>ID</th>\n",
       "      <th>y</th>\n",
       "      <th>Number of Cylinders</th>\n",
       "      <th>material grade</th>\n",
       "      <th>Lubrication</th>\n",
       "      <th>Valve Type</th>\n",
       "      <th>Bearing Vendor</th>\n",
       "      <th>Fuel Type</th>\n",
       "      <th>Compression ratio</th>\n",
       "      <th>cam arrangement</th>\n",
       "      <th>...</th>\n",
       "      <th>Direct injection</th>\n",
       "      <th>main bearing type</th>\n",
       "      <th>displacement</th>\n",
       "      <th>piston type</th>\n",
       "      <th>Max. Torque</th>\n",
       "      <th>Peak Power</th>\n",
       "      <th>Crankshaft Design</th>\n",
       "      <th>Liner Design</th>\n",
       "      <th>TestA</th>\n",
       "      <th>TestB</th>\n",
       "    </tr>\n",
       "  </thead>\n",
       "  <tbody>\n",
       "    <tr>\n",
       "      <th>0</th>\n",
       "      <td>1</td>\n",
       "      <td>1</td>\n",
       "      <td>6</td>\n",
       "      <td>a</td>\n",
       "      <td>L4</td>\n",
       "      <td>C</td>\n",
       "      <td>V4</td>\n",
       "      <td>gasoline</td>\n",
       "      <td>low</td>\n",
       "      <td>SOHC</td>\n",
       "      <td>...</td>\n",
       "      <td>Yes</td>\n",
       "      <td>Roller</td>\n",
       "      <td>high</td>\n",
       "      <td>linear</td>\n",
       "      <td>high</td>\n",
       "      <td>high</td>\n",
       "      <td>CD2</td>\n",
       "      <td>LD1</td>\n",
       "      <td>1</td>\n",
       "      <td>1</td>\n",
       "    </tr>\n",
       "    <tr>\n",
       "      <th>1</th>\n",
       "      <td>2</td>\n",
       "      <td>0</td>\n",
       "      <td>6</td>\n",
       "      <td>b</td>\n",
       "      <td>L4</td>\n",
       "      <td>C</td>\n",
       "      <td>V3</td>\n",
       "      <td>gasoline</td>\n",
       "      <td>high</td>\n",
       "      <td>SOHC</td>\n",
       "      <td>...</td>\n",
       "      <td>Yes</td>\n",
       "      <td>Roller</td>\n",
       "      <td>high</td>\n",
       "      <td>linear</td>\n",
       "      <td>high</td>\n",
       "      <td>high</td>\n",
       "      <td>CD1</td>\n",
       "      <td>LD1</td>\n",
       "      <td>1</td>\n",
       "      <td>0</td>\n",
       "    </tr>\n",
       "    <tr>\n",
       "      <th>2</th>\n",
       "      <td>3</td>\n",
       "      <td>1</td>\n",
       "      <td>4</td>\n",
       "      <td>c</td>\n",
       "      <td>L3</td>\n",
       "      <td>D</td>\n",
       "      <td>V2</td>\n",
       "      <td>gasoline</td>\n",
       "      <td>high</td>\n",
       "      <td>SOHC</td>\n",
       "      <td>...</td>\n",
       "      <td>Yes</td>\n",
       "      <td>Roller</td>\n",
       "      <td>high</td>\n",
       "      <td>linear</td>\n",
       "      <td>high</td>\n",
       "      <td>high</td>\n",
       "      <td>CD1</td>\n",
       "      <td>LD1</td>\n",
       "      <td>1</td>\n",
       "      <td>1</td>\n",
       "    </tr>\n",
       "    <tr>\n",
       "      <th>3</th>\n",
       "      <td>4</td>\n",
       "      <td>1</td>\n",
       "      <td>4</td>\n",
       "      <td>f</td>\n",
       "      <td>L2</td>\n",
       "      <td>D</td>\n",
       "      <td>V2</td>\n",
       "      <td>gasoline</td>\n",
       "      <td>low</td>\n",
       "      <td>SOHC</td>\n",
       "      <td>...</td>\n",
       "      <td>Yes</td>\n",
       "      <td>Roller</td>\n",
       "      <td>high</td>\n",
       "      <td>linear</td>\n",
       "      <td>high</td>\n",
       "      <td>high</td>\n",
       "      <td>CD1</td>\n",
       "      <td>LD1</td>\n",
       "      <td>1</td>\n",
       "      <td>1</td>\n",
       "    </tr>\n",
       "    <tr>\n",
       "      <th>4</th>\n",
       "      <td>5</td>\n",
       "      <td>0</td>\n",
       "      <td>8</td>\n",
       "      <td>d</td>\n",
       "      <td>L2</td>\n",
       "      <td>B</td>\n",
       "      <td>V2</td>\n",
       "      <td>gasoline</td>\n",
       "      <td>high</td>\n",
       "      <td>SOHC</td>\n",
       "      <td>...</td>\n",
       "      <td>Yes</td>\n",
       "      <td>Roller</td>\n",
       "      <td>high</td>\n",
       "      <td>linear</td>\n",
       "      <td>high</td>\n",
       "      <td>high</td>\n",
       "      <td>CD1</td>\n",
       "      <td>LD2</td>\n",
       "      <td>0</td>\n",
       "      <td>1</td>\n",
       "    </tr>\n",
       "  </tbody>\n",
       "</table>\n",
       "<p>5 rows × 24 columns</p>\n",
       "</div>"
      ],
      "text/plain": [
       "   ID  y Number of Cylinders material grade Lubrication Valve Type  \\\n",
       "0   1  1                   6              a          L4          C   \n",
       "1   2  0                   6              b          L4          C   \n",
       "2   3  1                   4              c          L3          D   \n",
       "3   4  1                   4              f          L2          D   \n",
       "4   5  0                   8              d          L2          B   \n",
       "\n",
       "  Bearing Vendor Fuel Type Compression ratio cam arrangement  ...   \\\n",
       "0             V4  gasoline               low            SOHC  ...    \n",
       "1             V3  gasoline              high            SOHC  ...    \n",
       "2             V2  gasoline              high            SOHC  ...    \n",
       "3             V2  gasoline               low            SOHC  ...    \n",
       "4             V2  gasoline              high            SOHC  ...    \n",
       "\n",
       "  Direct injection main bearing type displacement piston type Max. Torque  \\\n",
       "0              Yes            Roller         high      linear        high   \n",
       "1              Yes            Roller         high      linear        high   \n",
       "2              Yes            Roller         high      linear        high   \n",
       "3              Yes            Roller         high      linear        high   \n",
       "4              Yes            Roller         high      linear        high   \n",
       "\n",
       "  Peak Power Crankshaft Design Liner Design  TestA TestB  \n",
       "0       high               CD2           LD1     1     1  \n",
       "1       high               CD1           LD1     1     0  \n",
       "2       high               CD1           LD1     1     1  \n",
       "3       high               CD1           LD1     1     1  \n",
       "4       high               CD1           LD2     0     1  \n",
       "\n",
       "[5 rows x 24 columns]"
      ]
     },
     "execution_count": 130,
     "metadata": {},
     "output_type": "execute_result"
    }
   ],
   "source": [
    "trainwithad.head()"
   ]
  },
  {
   "cell_type": "code",
   "execution_count": 131,
   "metadata": {},
   "outputs": [
    {
     "data": {
      "text/html": [
       "<div>\n",
       "<style>\n",
       "    .dataframe thead tr:only-child th {\n",
       "        text-align: right;\n",
       "    }\n",
       "\n",
       "    .dataframe thead th {\n",
       "        text-align: left;\n",
       "    }\n",
       "\n",
       "    .dataframe tbody tr th {\n",
       "        vertical-align: top;\n",
       "    }\n",
       "</style>\n",
       "<table border=\"1\" class=\"dataframe\">\n",
       "  <thead>\n",
       "    <tr style=\"text-align: right;\">\n",
       "      <th></th>\n",
       "      <th>ID</th>\n",
       "      <th>Number of Cylinders</th>\n",
       "      <th>material grade</th>\n",
       "      <th>Lubrication</th>\n",
       "      <th>Valve Type</th>\n",
       "      <th>Bearing Vendor</th>\n",
       "      <th>Fuel Type</th>\n",
       "      <th>Compression ratio</th>\n",
       "      <th>cam arrangement</th>\n",
       "      <th>Cylinder arragement</th>\n",
       "      <th>...</th>\n",
       "      <th>Direct injection</th>\n",
       "      <th>main bearing type</th>\n",
       "      <th>displacement</th>\n",
       "      <th>piston type</th>\n",
       "      <th>Max. Torque</th>\n",
       "      <th>Peak Power</th>\n",
       "      <th>Crankshaft Design</th>\n",
       "      <th>Liner Design</th>\n",
       "      <th>TestA</th>\n",
       "      <th>TestB</th>\n",
       "    </tr>\n",
       "  </thead>\n",
       "  <tbody>\n",
       "    <tr>\n",
       "      <th>0</th>\n",
       "      <td>5001</td>\n",
       "      <td>4</td>\n",
       "      <td>c</td>\n",
       "      <td>L1</td>\n",
       "      <td>A</td>\n",
       "      <td>V2</td>\n",
       "      <td>gasoline</td>\n",
       "      <td>high</td>\n",
       "      <td>SOHC</td>\n",
       "      <td>inline</td>\n",
       "      <td>...</td>\n",
       "      <td>Yes</td>\n",
       "      <td>Roller</td>\n",
       "      <td>high</td>\n",
       "      <td>linear</td>\n",
       "      <td>high</td>\n",
       "      <td>low</td>\n",
       "      <td>CD1</td>\n",
       "      <td>LD1</td>\n",
       "      <td>0</td>\n",
       "      <td>1</td>\n",
       "    </tr>\n",
       "    <tr>\n",
       "      <th>1</th>\n",
       "      <td>5002</td>\n",
       "      <td>8</td>\n",
       "      <td>e</td>\n",
       "      <td>L1</td>\n",
       "      <td>B</td>\n",
       "      <td>V1</td>\n",
       "      <td>gasoline</td>\n",
       "      <td>high</td>\n",
       "      <td>SOHC</td>\n",
       "      <td>V</td>\n",
       "      <td>...</td>\n",
       "      <td>Yes</td>\n",
       "      <td>Roller</td>\n",
       "      <td>high</td>\n",
       "      <td>linear</td>\n",
       "      <td>high</td>\n",
       "      <td>high</td>\n",
       "      <td>CD1</td>\n",
       "      <td>LD2</td>\n",
       "      <td>0</td>\n",
       "      <td>1</td>\n",
       "    </tr>\n",
       "    <tr>\n",
       "      <th>2</th>\n",
       "      <td>5003</td>\n",
       "      <td>8</td>\n",
       "      <td>c</td>\n",
       "      <td>L1</td>\n",
       "      <td>B</td>\n",
       "      <td>V3</td>\n",
       "      <td>gasoline</td>\n",
       "      <td>low</td>\n",
       "      <td>SOHC</td>\n",
       "      <td>inline</td>\n",
       "      <td>...</td>\n",
       "      <td>Yes</td>\n",
       "      <td>Roller</td>\n",
       "      <td>high</td>\n",
       "      <td>linear</td>\n",
       "      <td>high</td>\n",
       "      <td>high</td>\n",
       "      <td>CD1</td>\n",
       "      <td>LD2</td>\n",
       "      <td>1</td>\n",
       "      <td>1</td>\n",
       "    </tr>\n",
       "    <tr>\n",
       "      <th>3</th>\n",
       "      <td>5004</td>\n",
       "      <td>8</td>\n",
       "      <td>c</td>\n",
       "      <td>L1</td>\n",
       "      <td>A</td>\n",
       "      <td>V2</td>\n",
       "      <td>gasoline</td>\n",
       "      <td>high</td>\n",
       "      <td>SOHC</td>\n",
       "      <td>inline</td>\n",
       "      <td>...</td>\n",
       "      <td>Yes</td>\n",
       "      <td>Roller</td>\n",
       "      <td>high</td>\n",
       "      <td>linear</td>\n",
       "      <td>high</td>\n",
       "      <td>low</td>\n",
       "      <td>CD1</td>\n",
       "      <td>LD2</td>\n",
       "      <td>1</td>\n",
       "      <td>0</td>\n",
       "    </tr>\n",
       "    <tr>\n",
       "      <th>4</th>\n",
       "      <td>5005</td>\n",
       "      <td>4</td>\n",
       "      <td>f</td>\n",
       "      <td>L4</td>\n",
       "      <td>D</td>\n",
       "      <td>V5</td>\n",
       "      <td>petrol</td>\n",
       "      <td>high</td>\n",
       "      <td>SOHC</td>\n",
       "      <td>inline</td>\n",
       "      <td>...</td>\n",
       "      <td>Yes</td>\n",
       "      <td>Roller</td>\n",
       "      <td>high</td>\n",
       "      <td>linear</td>\n",
       "      <td>high</td>\n",
       "      <td>high</td>\n",
       "      <td>CD1</td>\n",
       "      <td>LD1</td>\n",
       "      <td>1</td>\n",
       "      <td>0</td>\n",
       "    </tr>\n",
       "    <tr>\n",
       "      <th>5</th>\n",
       "      <td>5006</td>\n",
       "      <td>6</td>\n",
       "      <td>c</td>\n",
       "      <td>L1</td>\n",
       "      <td>C</td>\n",
       "      <td>V5</td>\n",
       "      <td>gasoline</td>\n",
       "      <td>low</td>\n",
       "      <td>SOHC</td>\n",
       "      <td>inline</td>\n",
       "      <td>...</td>\n",
       "      <td>No</td>\n",
       "      <td>Roller</td>\n",
       "      <td>high</td>\n",
       "      <td>linear</td>\n",
       "      <td>high</td>\n",
       "      <td>high</td>\n",
       "      <td>CD1</td>\n",
       "      <td>LD1</td>\n",
       "      <td>0</td>\n",
       "      <td>1</td>\n",
       "    </tr>\n",
       "    <tr>\n",
       "      <th>6</th>\n",
       "      <td>5007</td>\n",
       "      <td>6</td>\n",
       "      <td>f</td>\n",
       "      <td>L1</td>\n",
       "      <td>D</td>\n",
       "      <td>V6</td>\n",
       "      <td>gasoline</td>\n",
       "      <td>high</td>\n",
       "      <td>SOHC</td>\n",
       "      <td>inline</td>\n",
       "      <td>...</td>\n",
       "      <td>Yes</td>\n",
       "      <td>Roller</td>\n",
       "      <td>high</td>\n",
       "      <td>linear</td>\n",
       "      <td>high</td>\n",
       "      <td>high</td>\n",
       "      <td>CD1</td>\n",
       "      <td>LD2</td>\n",
       "      <td>1</td>\n",
       "      <td>0</td>\n",
       "    </tr>\n",
       "    <tr>\n",
       "      <th>7</th>\n",
       "      <td>5008</td>\n",
       "      <td>4</td>\n",
       "      <td>f</td>\n",
       "      <td>L4</td>\n",
       "      <td>D</td>\n",
       "      <td>V5</td>\n",
       "      <td>petrol</td>\n",
       "      <td>high</td>\n",
       "      <td>SOHC</td>\n",
       "      <td>inline</td>\n",
       "      <td>...</td>\n",
       "      <td>Yes</td>\n",
       "      <td>Roller</td>\n",
       "      <td>high</td>\n",
       "      <td>linear</td>\n",
       "      <td>high</td>\n",
       "      <td>high</td>\n",
       "      <td>CD1</td>\n",
       "      <td>LD1</td>\n",
       "      <td>0</td>\n",
       "      <td>1</td>\n",
       "    </tr>\n",
       "    <tr>\n",
       "      <th>8</th>\n",
       "      <td>5009</td>\n",
       "      <td>4</td>\n",
       "      <td>b</td>\n",
       "      <td>L1</td>\n",
       "      <td>B</td>\n",
       "      <td>V5</td>\n",
       "      <td>gasoline</td>\n",
       "      <td>high</td>\n",
       "      <td>SOHC</td>\n",
       "      <td>inline</td>\n",
       "      <td>...</td>\n",
       "      <td>No</td>\n",
       "      <td>Roller</td>\n",
       "      <td>high</td>\n",
       "      <td>linear</td>\n",
       "      <td>low</td>\n",
       "      <td>high</td>\n",
       "      <td>CD1</td>\n",
       "      <td>LD1</td>\n",
       "      <td>0</td>\n",
       "      <td>1</td>\n",
       "    </tr>\n",
       "    <tr>\n",
       "      <th>9</th>\n",
       "      <td>5010</td>\n",
       "      <td>4</td>\n",
       "      <td>f</td>\n",
       "      <td>L4</td>\n",
       "      <td>A</td>\n",
       "      <td>V4</td>\n",
       "      <td>gasoline</td>\n",
       "      <td>low</td>\n",
       "      <td>SOHC</td>\n",
       "      <td>V</td>\n",
       "      <td>...</td>\n",
       "      <td>Yes</td>\n",
       "      <td>Roller</td>\n",
       "      <td>high</td>\n",
       "      <td>linear</td>\n",
       "      <td>high</td>\n",
       "      <td>high</td>\n",
       "      <td>CD1</td>\n",
       "      <td>LD2</td>\n",
       "      <td>1</td>\n",
       "      <td>0</td>\n",
       "    </tr>\n",
       "  </tbody>\n",
       "</table>\n",
       "<p>10 rows × 23 columns</p>\n",
       "</div>"
      ],
      "text/plain": [
       "     ID Number of Cylinders material grade Lubrication Valve Type  \\\n",
       "0  5001                   4              c          L1          A   \n",
       "1  5002                   8              e          L1          B   \n",
       "2  5003                   8              c          L1          B   \n",
       "3  5004                   8              c          L1          A   \n",
       "4  5005                   4              f          L4          D   \n",
       "5  5006                   6              c          L1          C   \n",
       "6  5007                   6              f          L1          D   \n",
       "7  5008                   4              f          L4          D   \n",
       "8  5009                   4              b          L1          B   \n",
       "9  5010                   4              f          L4          A   \n",
       "\n",
       "  Bearing Vendor Fuel Type Compression ratio cam arrangement  \\\n",
       "0             V2  gasoline              high            SOHC   \n",
       "1             V1  gasoline              high            SOHC   \n",
       "2             V3  gasoline               low            SOHC   \n",
       "3             V2  gasoline              high            SOHC   \n",
       "4             V5    petrol              high            SOHC   \n",
       "5             V5  gasoline               low            SOHC   \n",
       "6             V6  gasoline              high            SOHC   \n",
       "7             V5    petrol              high            SOHC   \n",
       "8             V5  gasoline              high            SOHC   \n",
       "9             V4  gasoline               low            SOHC   \n",
       "\n",
       "  Cylinder arragement  ...  Direct injection main bearing type displacement  \\\n",
       "0              inline  ...               Yes            Roller         high   \n",
       "1                   V  ...               Yes            Roller         high   \n",
       "2              inline  ...               Yes            Roller         high   \n",
       "3              inline  ...               Yes            Roller         high   \n",
       "4              inline  ...               Yes            Roller         high   \n",
       "5              inline  ...                No            Roller         high   \n",
       "6              inline  ...               Yes            Roller         high   \n",
       "7              inline  ...               Yes            Roller         high   \n",
       "8              inline  ...                No            Roller         high   \n",
       "9                   V  ...               Yes            Roller         high   \n",
       "\n",
       "  piston type Max. Torque Peak Power Crankshaft Design Liner Design  TestA  \\\n",
       "0      linear        high        low               CD1           LD1     0   \n",
       "1      linear        high       high               CD1           LD2     0   \n",
       "2      linear        high       high               CD1           LD2     1   \n",
       "3      linear        high        low               CD1           LD2     1   \n",
       "4      linear        high       high               CD1           LD1     1   \n",
       "5      linear        high       high               CD1           LD1     0   \n",
       "6      linear        high       high               CD1           LD2     1   \n",
       "7      linear        high       high               CD1           LD1     0   \n",
       "8      linear         low       high               CD1           LD1     0   \n",
       "9      linear        high       high               CD1           LD2     1   \n",
       "\n",
       "  TestB  \n",
       "0     1  \n",
       "1     1  \n",
       "2     1  \n",
       "3     0  \n",
       "4     0  \n",
       "5     1  \n",
       "6     0  \n",
       "7     1  \n",
       "8     1  \n",
       "9     0  \n",
       "\n",
       "[10 rows x 23 columns]"
      ]
     },
     "execution_count": 131,
     "metadata": {},
     "output_type": "execute_result"
    }
   ],
   "source": [
    "testwithad.head(10)"
   ]
  },
  {
   "cell_type": "code",
   "execution_count": 132,
   "metadata": {},
   "outputs": [
    {
     "name": "stdout",
     "output_type": "stream",
     "text": [
      "(3156, 24)\n",
      "(1053, 23)\n"
     ]
    }
   ],
   "source": [
    "print(trainwithad.shape)\n",
    "print(testwithad.shape)"
   ]
  },
  {
   "cell_type": "code",
   "execution_count": 133,
   "metadata": {
    "collapsed": true
   },
   "outputs": [],
   "source": [
    "# Dropping ID and Target columns\n",
    "trainfinal=trainwithad.drop(['ID','y'],axis=1)"
   ]
  },
  {
   "cell_type": "code",
   "execution_count": 134,
   "metadata": {},
   "outputs": [
    {
     "data": {
      "text/plain": [
       "(3156, 22)"
      ]
     },
     "execution_count": 134,
     "metadata": {},
     "output_type": "execute_result"
    }
   ],
   "source": [
    "trainfinal.shape"
   ]
  },
  {
   "cell_type": "code",
   "execution_count": 135,
   "metadata": {},
   "outputs": [
    {
     "data": {
      "text/plain": [
       "Index(['Number of Cylinders', 'material grade', 'Lubrication', 'Valve Type',\n",
       "       'Bearing Vendor', 'Fuel Type', 'Compression ratio', 'cam arrangement',\n",
       "       'Cylinder arragement', 'Turbocharger', 'Varaible Valve Timing (VVT)',\n",
       "       'Cylinder deactivation', 'Direct injection', 'main bearing type',\n",
       "       'displacement', 'piston type', 'Max. Torque', 'Peak Power',\n",
       "       'Crankshaft Design', 'Liner Design ', 'TestA', 'TestB'],\n",
       "      dtype='object')"
      ]
     },
     "execution_count": 135,
     "metadata": {},
     "output_type": "execute_result"
    }
   ],
   "source": [
    "trainfinal.columns"
   ]
  },
  {
   "cell_type": "code",
   "execution_count": 136,
   "metadata": {
    "collapsed": true
   },
   "outputs": [],
   "source": [
    "testfinal=testwithad.drop('ID',axis=1)"
   ]
  },
  {
   "cell_type": "code",
   "execution_count": 137,
   "metadata": {},
   "outputs": [
    {
     "data": {
      "text/plain": [
       "(1053, 22)"
      ]
     },
     "execution_count": 137,
     "metadata": {},
     "output_type": "execute_result"
    }
   ],
   "source": [
    "testfinal.shape"
   ]
  },
  {
   "cell_type": "code",
   "execution_count": 138,
   "metadata": {
    "collapsed": true
   },
   "outputs": [],
   "source": [
    "#Encoding categorical data to dummy variables in train data\n",
    "trainfinal=pd.get_dummies(trainfinal)"
   ]
  },
  {
   "cell_type": "code",
   "execution_count": 139,
   "metadata": {},
   "outputs": [
    {
     "data": {
      "text/plain": [
       "(3156, 56)"
      ]
     },
     "execution_count": 139,
     "metadata": {},
     "output_type": "execute_result"
    }
   ],
   "source": [
    "trainfinal.shape"
   ]
  },
  {
   "cell_type": "code",
   "execution_count": 140,
   "metadata": {},
   "outputs": [
    {
     "data": {
      "text/html": [
       "<div>\n",
       "<style>\n",
       "    .dataframe thead tr:only-child th {\n",
       "        text-align: right;\n",
       "    }\n",
       "\n",
       "    .dataframe thead th {\n",
       "        text-align: left;\n",
       "    }\n",
       "\n",
       "    .dataframe tbody tr th {\n",
       "        vertical-align: top;\n",
       "    }\n",
       "</style>\n",
       "<table border=\"1\" class=\"dataframe\">\n",
       "  <thead>\n",
       "    <tr style=\"text-align: right;\">\n",
       "      <th></th>\n",
       "      <th>TestA</th>\n",
       "      <th>TestB</th>\n",
       "      <th>Number of Cylinders_4.0</th>\n",
       "      <th>Number of Cylinders_6.0</th>\n",
       "      <th>Number of Cylinders_8.0</th>\n",
       "      <th>material grade_a</th>\n",
       "      <th>material grade_b</th>\n",
       "      <th>material grade_c</th>\n",
       "      <th>material grade_d</th>\n",
       "      <th>material grade_e</th>\n",
       "      <th>...</th>\n",
       "      <th>piston type_linear</th>\n",
       "      <th>piston type_rotary</th>\n",
       "      <th>Max. Torque_high</th>\n",
       "      <th>Max. Torque_low</th>\n",
       "      <th>Peak Power_high</th>\n",
       "      <th>Peak Power_low</th>\n",
       "      <th>Crankshaft Design_CD1</th>\n",
       "      <th>Crankshaft Design_CD2</th>\n",
       "      <th>Liner Design _LD1</th>\n",
       "      <th>Liner Design _LD2</th>\n",
       "    </tr>\n",
       "  </thead>\n",
       "  <tbody>\n",
       "    <tr>\n",
       "      <th>0</th>\n",
       "      <td>1</td>\n",
       "      <td>1</td>\n",
       "      <td>0</td>\n",
       "      <td>1</td>\n",
       "      <td>0</td>\n",
       "      <td>1</td>\n",
       "      <td>0</td>\n",
       "      <td>0</td>\n",
       "      <td>0</td>\n",
       "      <td>0</td>\n",
       "      <td>...</td>\n",
       "      <td>1</td>\n",
       "      <td>0</td>\n",
       "      <td>1</td>\n",
       "      <td>0</td>\n",
       "      <td>1</td>\n",
       "      <td>0</td>\n",
       "      <td>0</td>\n",
       "      <td>1</td>\n",
       "      <td>1</td>\n",
       "      <td>0</td>\n",
       "    </tr>\n",
       "    <tr>\n",
       "      <th>1</th>\n",
       "      <td>1</td>\n",
       "      <td>0</td>\n",
       "      <td>0</td>\n",
       "      <td>1</td>\n",
       "      <td>0</td>\n",
       "      <td>0</td>\n",
       "      <td>1</td>\n",
       "      <td>0</td>\n",
       "      <td>0</td>\n",
       "      <td>0</td>\n",
       "      <td>...</td>\n",
       "      <td>1</td>\n",
       "      <td>0</td>\n",
       "      <td>1</td>\n",
       "      <td>0</td>\n",
       "      <td>1</td>\n",
       "      <td>0</td>\n",
       "      <td>1</td>\n",
       "      <td>0</td>\n",
       "      <td>1</td>\n",
       "      <td>0</td>\n",
       "    </tr>\n",
       "    <tr>\n",
       "      <th>2</th>\n",
       "      <td>1</td>\n",
       "      <td>1</td>\n",
       "      <td>1</td>\n",
       "      <td>0</td>\n",
       "      <td>0</td>\n",
       "      <td>0</td>\n",
       "      <td>0</td>\n",
       "      <td>1</td>\n",
       "      <td>0</td>\n",
       "      <td>0</td>\n",
       "      <td>...</td>\n",
       "      <td>1</td>\n",
       "      <td>0</td>\n",
       "      <td>1</td>\n",
       "      <td>0</td>\n",
       "      <td>1</td>\n",
       "      <td>0</td>\n",
       "      <td>1</td>\n",
       "      <td>0</td>\n",
       "      <td>1</td>\n",
       "      <td>0</td>\n",
       "    </tr>\n",
       "    <tr>\n",
       "      <th>3</th>\n",
       "      <td>1</td>\n",
       "      <td>1</td>\n",
       "      <td>1</td>\n",
       "      <td>0</td>\n",
       "      <td>0</td>\n",
       "      <td>0</td>\n",
       "      <td>0</td>\n",
       "      <td>0</td>\n",
       "      <td>0</td>\n",
       "      <td>0</td>\n",
       "      <td>...</td>\n",
       "      <td>1</td>\n",
       "      <td>0</td>\n",
       "      <td>1</td>\n",
       "      <td>0</td>\n",
       "      <td>1</td>\n",
       "      <td>0</td>\n",
       "      <td>1</td>\n",
       "      <td>0</td>\n",
       "      <td>1</td>\n",
       "      <td>0</td>\n",
       "    </tr>\n",
       "    <tr>\n",
       "      <th>4</th>\n",
       "      <td>0</td>\n",
       "      <td>1</td>\n",
       "      <td>0</td>\n",
       "      <td>0</td>\n",
       "      <td>1</td>\n",
       "      <td>0</td>\n",
       "      <td>0</td>\n",
       "      <td>0</td>\n",
       "      <td>1</td>\n",
       "      <td>0</td>\n",
       "      <td>...</td>\n",
       "      <td>1</td>\n",
       "      <td>0</td>\n",
       "      <td>1</td>\n",
       "      <td>0</td>\n",
       "      <td>1</td>\n",
       "      <td>0</td>\n",
       "      <td>1</td>\n",
       "      <td>0</td>\n",
       "      <td>0</td>\n",
       "      <td>1</td>\n",
       "    </tr>\n",
       "  </tbody>\n",
       "</table>\n",
       "<p>5 rows × 56 columns</p>\n",
       "</div>"
      ],
      "text/plain": [
       "   TestA  TestB  Number of Cylinders_4.0  Number of Cylinders_6.0  \\\n",
       "0      1      1                        0                        1   \n",
       "1      1      0                        0                        1   \n",
       "2      1      1                        1                        0   \n",
       "3      1      1                        1                        0   \n",
       "4      0      1                        0                        0   \n",
       "\n",
       "   Number of Cylinders_8.0  material grade_a  material grade_b  \\\n",
       "0                        0                 1                 0   \n",
       "1                        0                 0                 1   \n",
       "2                        0                 0                 0   \n",
       "3                        0                 0                 0   \n",
       "4                        1                 0                 0   \n",
       "\n",
       "   material grade_c  material grade_d  material grade_e        ...          \\\n",
       "0                 0                 0                 0        ...           \n",
       "1                 0                 0                 0        ...           \n",
       "2                 1                 0                 0        ...           \n",
       "3                 0                 0                 0        ...           \n",
       "4                 0                 1                 0        ...           \n",
       "\n",
       "   piston type_linear  piston type_rotary  Max. Torque_high  Max. Torque_low  \\\n",
       "0                   1                   0                 1                0   \n",
       "1                   1                   0                 1                0   \n",
       "2                   1                   0                 1                0   \n",
       "3                   1                   0                 1                0   \n",
       "4                   1                   0                 1                0   \n",
       "\n",
       "   Peak Power_high  Peak Power_low  Crankshaft Design_CD1  \\\n",
       "0                1               0                      0   \n",
       "1                1               0                      1   \n",
       "2                1               0                      1   \n",
       "3                1               0                      1   \n",
       "4                1               0                      1   \n",
       "\n",
       "   Crankshaft Design_CD2  Liner Design _LD1  Liner Design _LD2  \n",
       "0                      1                  1                  0  \n",
       "1                      0                  1                  0  \n",
       "2                      0                  1                  0  \n",
       "3                      0                  1                  0  \n",
       "4                      0                  0                  1  \n",
       "\n",
       "[5 rows x 56 columns]"
      ]
     },
     "execution_count": 140,
     "metadata": {},
     "output_type": "execute_result"
    }
   ],
   "source": [
    "trainfinal.head()"
   ]
  },
  {
   "cell_type": "code",
   "execution_count": 141,
   "metadata": {
    "collapsed": true
   },
   "outputs": [],
   "source": [
    "#Encoding categorical data to dummy variables in test data\n",
    "testfinal=pd.get_dummies(testfinal)"
   ]
  },
  {
   "cell_type": "code",
   "execution_count": 142,
   "metadata": {},
   "outputs": [
    {
     "data": {
      "text/plain": [
       "(1053, 55)"
      ]
     },
     "execution_count": 142,
     "metadata": {},
     "output_type": "execute_result"
    }
   ],
   "source": [
    "testfinal.shape"
   ]
  },
  {
   "cell_type": "code",
   "execution_count": 143,
   "metadata": {},
   "outputs": [
    {
     "data": {
      "text/html": [
       "<div>\n",
       "<style>\n",
       "    .dataframe thead tr:only-child th {\n",
       "        text-align: right;\n",
       "    }\n",
       "\n",
       "    .dataframe thead th {\n",
       "        text-align: left;\n",
       "    }\n",
       "\n",
       "    .dataframe tbody tr th {\n",
       "        vertical-align: top;\n",
       "    }\n",
       "</style>\n",
       "<table border=\"1\" class=\"dataframe\">\n",
       "  <thead>\n",
       "    <tr style=\"text-align: right;\">\n",
       "      <th></th>\n",
       "      <th>TestA</th>\n",
       "      <th>TestB</th>\n",
       "      <th>Number of Cylinders_4.0</th>\n",
       "      <th>Number of Cylinders_6.0</th>\n",
       "      <th>Number of Cylinders_8.0</th>\n",
       "      <th>material grade_a</th>\n",
       "      <th>material grade_b</th>\n",
       "      <th>material grade_c</th>\n",
       "      <th>material grade_d</th>\n",
       "      <th>material grade_e</th>\n",
       "      <th>...</th>\n",
       "      <th>piston type_linear</th>\n",
       "      <th>piston type_rotary</th>\n",
       "      <th>Max. Torque_high</th>\n",
       "      <th>Max. Torque_low</th>\n",
       "      <th>Peak Power_high</th>\n",
       "      <th>Peak Power_low</th>\n",
       "      <th>Crankshaft Design_CD1</th>\n",
       "      <th>Crankshaft Design_CD2</th>\n",
       "      <th>Liner Design _LD1</th>\n",
       "      <th>Liner Design _LD2</th>\n",
       "    </tr>\n",
       "  </thead>\n",
       "  <tbody>\n",
       "    <tr>\n",
       "      <th>0</th>\n",
       "      <td>0</td>\n",
       "      <td>1</td>\n",
       "      <td>1</td>\n",
       "      <td>0</td>\n",
       "      <td>0</td>\n",
       "      <td>0</td>\n",
       "      <td>0</td>\n",
       "      <td>1</td>\n",
       "      <td>0</td>\n",
       "      <td>0</td>\n",
       "      <td>...</td>\n",
       "      <td>1</td>\n",
       "      <td>0</td>\n",
       "      <td>1</td>\n",
       "      <td>0</td>\n",
       "      <td>0</td>\n",
       "      <td>1</td>\n",
       "      <td>1</td>\n",
       "      <td>0</td>\n",
       "      <td>1</td>\n",
       "      <td>0</td>\n",
       "    </tr>\n",
       "    <tr>\n",
       "      <th>1</th>\n",
       "      <td>0</td>\n",
       "      <td>1</td>\n",
       "      <td>0</td>\n",
       "      <td>0</td>\n",
       "      <td>1</td>\n",
       "      <td>0</td>\n",
       "      <td>0</td>\n",
       "      <td>0</td>\n",
       "      <td>0</td>\n",
       "      <td>1</td>\n",
       "      <td>...</td>\n",
       "      <td>1</td>\n",
       "      <td>0</td>\n",
       "      <td>1</td>\n",
       "      <td>0</td>\n",
       "      <td>1</td>\n",
       "      <td>0</td>\n",
       "      <td>1</td>\n",
       "      <td>0</td>\n",
       "      <td>0</td>\n",
       "      <td>1</td>\n",
       "    </tr>\n",
       "    <tr>\n",
       "      <th>2</th>\n",
       "      <td>1</td>\n",
       "      <td>1</td>\n",
       "      <td>0</td>\n",
       "      <td>0</td>\n",
       "      <td>1</td>\n",
       "      <td>0</td>\n",
       "      <td>0</td>\n",
       "      <td>1</td>\n",
       "      <td>0</td>\n",
       "      <td>0</td>\n",
       "      <td>...</td>\n",
       "      <td>1</td>\n",
       "      <td>0</td>\n",
       "      <td>1</td>\n",
       "      <td>0</td>\n",
       "      <td>1</td>\n",
       "      <td>0</td>\n",
       "      <td>1</td>\n",
       "      <td>0</td>\n",
       "      <td>0</td>\n",
       "      <td>1</td>\n",
       "    </tr>\n",
       "    <tr>\n",
       "      <th>3</th>\n",
       "      <td>1</td>\n",
       "      <td>0</td>\n",
       "      <td>0</td>\n",
       "      <td>0</td>\n",
       "      <td>1</td>\n",
       "      <td>0</td>\n",
       "      <td>0</td>\n",
       "      <td>1</td>\n",
       "      <td>0</td>\n",
       "      <td>0</td>\n",
       "      <td>...</td>\n",
       "      <td>1</td>\n",
       "      <td>0</td>\n",
       "      <td>1</td>\n",
       "      <td>0</td>\n",
       "      <td>0</td>\n",
       "      <td>1</td>\n",
       "      <td>1</td>\n",
       "      <td>0</td>\n",
       "      <td>0</td>\n",
       "      <td>1</td>\n",
       "    </tr>\n",
       "    <tr>\n",
       "      <th>4</th>\n",
       "      <td>1</td>\n",
       "      <td>0</td>\n",
       "      <td>1</td>\n",
       "      <td>0</td>\n",
       "      <td>0</td>\n",
       "      <td>0</td>\n",
       "      <td>0</td>\n",
       "      <td>0</td>\n",
       "      <td>0</td>\n",
       "      <td>0</td>\n",
       "      <td>...</td>\n",
       "      <td>1</td>\n",
       "      <td>0</td>\n",
       "      <td>1</td>\n",
       "      <td>0</td>\n",
       "      <td>1</td>\n",
       "      <td>0</td>\n",
       "      <td>1</td>\n",
       "      <td>0</td>\n",
       "      <td>1</td>\n",
       "      <td>0</td>\n",
       "    </tr>\n",
       "  </tbody>\n",
       "</table>\n",
       "<p>5 rows × 55 columns</p>\n",
       "</div>"
      ],
      "text/plain": [
       "   TestA  TestB  Number of Cylinders_4.0  Number of Cylinders_6.0  \\\n",
       "0      0      1                        1                        0   \n",
       "1      0      1                        0                        0   \n",
       "2      1      1                        0                        0   \n",
       "3      1      0                        0                        0   \n",
       "4      1      0                        1                        0   \n",
       "\n",
       "   Number of Cylinders_8.0  material grade_a  material grade_b  \\\n",
       "0                        0                 0                 0   \n",
       "1                        1                 0                 0   \n",
       "2                        1                 0                 0   \n",
       "3                        1                 0                 0   \n",
       "4                        0                 0                 0   \n",
       "\n",
       "   material grade_c  material grade_d  material grade_e        ...          \\\n",
       "0                 1                 0                 0        ...           \n",
       "1                 0                 0                 1        ...           \n",
       "2                 1                 0                 0        ...           \n",
       "3                 1                 0                 0        ...           \n",
       "4                 0                 0                 0        ...           \n",
       "\n",
       "   piston type_linear  piston type_rotary  Max. Torque_high  Max. Torque_low  \\\n",
       "0                   1                   0                 1                0   \n",
       "1                   1                   0                 1                0   \n",
       "2                   1                   0                 1                0   \n",
       "3                   1                   0                 1                0   \n",
       "4                   1                   0                 1                0   \n",
       "\n",
       "   Peak Power_high  Peak Power_low  Crankshaft Design_CD1  \\\n",
       "0                0               1                      1   \n",
       "1                1               0                      1   \n",
       "2                1               0                      1   \n",
       "3                0               1                      1   \n",
       "4                1               0                      1   \n",
       "\n",
       "   Crankshaft Design_CD2  Liner Design _LD1  Liner Design _LD2  \n",
       "0                      0                  1                  0  \n",
       "1                      0                  0                  1  \n",
       "2                      0                  0                  1  \n",
       "3                      0                  0                  1  \n",
       "4                      0                  1                  0  \n",
       "\n",
       "[5 rows x 55 columns]"
      ]
     },
     "execution_count": 143,
     "metadata": {},
     "output_type": "execute_result"
    }
   ],
   "source": [
    "testfinal.head()"
   ]
  },
  {
   "cell_type": "code",
   "execution_count": 154,
   "metadata": {},
   "outputs": [
    {
     "data": {
      "text/plain": [
       "{'main bearing type_Journal'}"
      ]
     },
     "execution_count": 154,
     "metadata": {},
     "output_type": "execute_result"
    }
   ],
   "source": [
    "#Finding missing columns in train and test after dummification\n",
    "missing_cols = set( trainfinal.columns ) - set( testfinal.columns )\n",
    "missing_cols"
   ]
  },
  {
   "cell_type": "code",
   "execution_count": 155,
   "metadata": {
    "collapsed": true
   },
   "outputs": [],
   "source": [
    "#Filling the missing column with 0 in the test\n",
    "for c in missing_cols:\n",
    "    testfinal[c] = 0\n",
    "testfinal= testfinal[trainfinal.columns]"
   ]
  },
  {
   "cell_type": "code",
   "execution_count": 156,
   "metadata": {},
   "outputs": [
    {
     "name": "stdout",
     "output_type": "stream",
     "text": [
      "(3156, 56)\n",
      "(1053, 56)\n"
     ]
    }
   ],
   "source": [
    "print(trainfinal.shape)\n",
    "print(testfinal.shape)"
   ]
  },
  {
   "cell_type": "code",
   "execution_count": 157,
   "metadata": {},
   "outputs": [
    {
     "data": {
      "text/plain": [
       "Index(['TestA', 'TestB', 'Number of Cylinders_4.0', 'Number of Cylinders_6.0',\n",
       "       'Number of Cylinders_8.0', 'material grade_a', 'material grade_b',\n",
       "       'material grade_c', 'material grade_d', 'material grade_e',\n",
       "       'material grade_f', 'material grade_g', 'Lubrication_L1',\n",
       "       'Lubrication_L2', 'Lubrication_L3', 'Lubrication_L4', 'Valve Type_A',\n",
       "       'Valve Type_B', 'Valve Type_C', 'Valve Type_D', 'Bearing Vendor_V1',\n",
       "       'Bearing Vendor_V2', 'Bearing Vendor_V3', 'Bearing Vendor_V4',\n",
       "       'Bearing Vendor_V5', 'Bearing Vendor_V6', 'Fuel Type_gasoline',\n",
       "       'Fuel Type_petrol', 'Compression ratio_high', 'Compression ratio_low',\n",
       "       'cam arrangement_DOHC', 'cam arrangement_SOHC', 'Cylinder arragement_V',\n",
       "       'Cylinder arragement_inline', 'Turbocharger_No', 'Turbocharger_Yes',\n",
       "       'Varaible Valve Timing (VVT)_No', 'Varaible Valve Timing (VVT)_Yes',\n",
       "       'Cylinder deactivation_No', 'Cylinder deactivation_Yes',\n",
       "       'Direct injection_No', 'Direct injection_Yes',\n",
       "       'main bearing type_Journal', 'main bearing type_Roller',\n",
       "       'displacement_high', 'displacement_low', 'piston type_linear',\n",
       "       'piston type_rotary', 'Max. Torque_high', 'Max. Torque_low',\n",
       "       'Peak Power_high', 'Peak Power_low', 'Crankshaft Design_CD1',\n",
       "       'Crankshaft Design_CD2', 'Liner Design _LD1', 'Liner Design _LD2'],\n",
       "      dtype='object')"
      ]
     },
     "execution_count": 157,
     "metadata": {},
     "output_type": "execute_result"
    }
   ],
   "source": [
    "trainfinal.columns"
   ]
  },
  {
   "cell_type": "code",
   "execution_count": 158,
   "metadata": {},
   "outputs": [
    {
     "data": {
      "text/plain": [
       "Index(['TestA', 'TestB', 'Number of Cylinders_4.0', 'Number of Cylinders_6.0',\n",
       "       'Number of Cylinders_8.0', 'material grade_a', 'material grade_b',\n",
       "       'material grade_c', 'material grade_d', 'material grade_e',\n",
       "       'material grade_f', 'material grade_g', 'Lubrication_L1',\n",
       "       'Lubrication_L2', 'Lubrication_L3', 'Lubrication_L4', 'Valve Type_A',\n",
       "       'Valve Type_B', 'Valve Type_C', 'Valve Type_D', 'Bearing Vendor_V1',\n",
       "       'Bearing Vendor_V2', 'Bearing Vendor_V3', 'Bearing Vendor_V4',\n",
       "       'Bearing Vendor_V5', 'Bearing Vendor_V6', 'Fuel Type_gasoline',\n",
       "       'Fuel Type_petrol', 'Compression ratio_high', 'Compression ratio_low',\n",
       "       'cam arrangement_DOHC', 'cam arrangement_SOHC', 'Cylinder arragement_V',\n",
       "       'Cylinder arragement_inline', 'Turbocharger_No', 'Turbocharger_Yes',\n",
       "       'Varaible Valve Timing (VVT)_No', 'Varaible Valve Timing (VVT)_Yes',\n",
       "       'Cylinder deactivation_No', 'Cylinder deactivation_Yes',\n",
       "       'Direct injection_No', 'Direct injection_Yes',\n",
       "       'main bearing type_Journal', 'main bearing type_Roller',\n",
       "       'displacement_high', 'displacement_low', 'piston type_linear',\n",
       "       'piston type_rotary', 'Max. Torque_high', 'Max. Torque_low',\n",
       "       'Peak Power_high', 'Peak Power_low', 'Crankshaft Design_CD1',\n",
       "       'Crankshaft Design_CD2', 'Liner Design _LD1', 'Liner Design _LD2'],\n",
       "      dtype='object')"
      ]
     },
     "execution_count": 158,
     "metadata": {},
     "output_type": "execute_result"
    }
   ],
   "source": [
    "testfinal.columns"
   ]
  },
  {
   "cell_type": "markdown",
   "metadata": {},
   "source": [
    "## Building different models"
   ]
  },
  {
   "cell_type": "code",
   "execution_count": 159,
   "metadata": {
    "collapsed": true
   },
   "outputs": [],
   "source": [
    "#Splitting data into X(input) and y(output) variables for model building\n",
    "X=trainfinal.values\n",
    "y=trainwithad['y'].values"
   ]
  },
  {
   "cell_type": "code",
   "execution_count": 160,
   "metadata": {
    "collapsed": true
   },
   "outputs": [],
   "source": [
    "#Splitting Train data into train and test splits\n",
    "from sklearn.model_selection import train_test_split\n",
    "from sklearn.model_selection import cross_val_score\n",
    "X_train,X_test,y_train,y_test=train_test_split(X,y,test_size=0.3,random_state=42)"
   ]
  },
  {
   "cell_type": "code",
   "execution_count": 161,
   "metadata": {
    "collapsed": true
   },
   "outputs": [],
   "source": [
    "#Importing Decision Tree model and Metrics\n",
    "from sklearn.tree import DecisionTreeClassifier\n",
    "from sklearn.metrics import accuracy_score"
   ]
  },
  {
   "cell_type": "code",
   "execution_count": 162,
   "metadata": {},
   "outputs": [
    {
     "data": {
      "text/plain": [
       "DecisionTreeClassifier(class_weight=None, criterion='gini', max_depth=None,\n",
       "            max_features=None, max_leaf_nodes=None,\n",
       "            min_impurity_split=1e-07, min_samples_leaf=1,\n",
       "            min_samples_split=2, min_weight_fraction_leaf=0.0,\n",
       "            presort=False, random_state=None, splitter='best')"
      ]
     },
     "execution_count": 162,
     "metadata": {},
     "output_type": "execute_result"
    }
   ],
   "source": [
    "dtree=DecisionTreeClassifier()\n",
    "dtree.fit(X_train,y_train)"
   ]
  },
  {
   "cell_type": "code",
   "execution_count": 163,
   "metadata": {
    "collapsed": true
   },
   "outputs": [],
   "source": [
    "#Doing predictions on test data\n",
    "predtree=dtree.predict(X_test)"
   ]
  },
  {
   "cell_type": "code",
   "execution_count": 164,
   "metadata": {},
   "outputs": [
    {
     "name": "stdout",
     "output_type": "stream",
     "text": [
      "Decision Tree Accuracy: 0.79303062302\n"
     ]
    }
   ],
   "source": [
    "print('Decision Tree Accuracy:',accuracy_score(y_test,predtree))\n",
    "acc_dtree=accuracy_score(y_test,predtree)"
   ]
  },
  {
   "cell_type": "code",
   "execution_count": 165,
   "metadata": {},
   "outputs": [
    {
     "name": "stdout",
     "output_type": "stream",
     "text": [
      "Cross validation score Decision Tree: 0.797849310651\n"
     ]
    }
   ],
   "source": [
    "#Performing 10 fold cross validation on Decision Tree\n",
    "scoredtree=cross_val_score(dtree,X,y,cv=10,scoring='accuracy')\n",
    "print('Cross validation score Decision Tree:',scoredtree.mean())"
   ]
  },
  {
   "cell_type": "code",
   "execution_count": 166,
   "metadata": {},
   "outputs": [
    {
     "data": {
      "text/plain": [
       "<matplotlib.axes._subplots.AxesSubplot at 0x23f00445160>"
      ]
     },
     "execution_count": 166,
     "metadata": {},
     "output_type": "execute_result"
    },
    {
     "data": {
      "image/png": "[encoded data removed]",
      "text/plain": [
       "<matplotlib.figure.Figure at 0x23f00433940>"
      ]
     },
     "metadata": {},
     "output_type": "display_data"
    }
   ],
   "source": [
    "#Plotting the features and showing its importance\n",
    "pd.Series(dtree.feature_importances_,index=trainfinal.columns).sort_values(ascending=False).plot(kind='bar', figsize=(12,6))"
   ]
  },
  {
   "cell_type": "code",
   "execution_count": 167,
   "metadata": {},
   "outputs": [
    {
     "data": {
      "text/plain": [
       "LogisticRegression(C=1.0, class_weight=None, dual=False, fit_intercept=True,\n",
       "          intercept_scaling=1, max_iter=100, multi_class='ovr', n_jobs=1,\n",
       "          penalty='l2', random_state=None, solver='liblinear', tol=0.0001,\n",
       "          verbose=0, warm_start=False)"
      ]
     },
     "execution_count": 167,
     "metadata": {},
     "output_type": "execute_result"
    }
   ],
   "source": [
    "#Importing Logistic Regression Model\n",
    "from sklearn.linear_model import LogisticRegression\n",
    "lr=LogisticRegression()\n",
    "lr.fit(X_train,y_train)"
   ]
  },
  {
   "cell_type": "code",
   "execution_count": 168,
   "metadata": {
    "collapsed": true
   },
   "outputs": [],
   "source": [
    "#Doing predictions on test data\n",
    "predlogreg=lr.predict(X_test)"
   ]
  },
  {
   "cell_type": "code",
   "execution_count": 169,
   "metadata": {},
   "outputs": [
    {
     "name": "stdout",
     "output_type": "stream",
     "text": [
      "Logistic Regression Accuracy: 0.86166842661\n"
     ]
    }
   ],
   "source": [
    "print('Logistic Regression Accuracy:',accuracy_score(y_test,predlogreg))\n",
    "acc_log=accuracy_score(y_test,predlogreg)"
   ]
  },
  {
   "cell_type": "code",
   "execution_count": 170,
   "metadata": {},
   "outputs": [
    {
     "name": "stdout",
     "output_type": "stream",
     "text": [
      "Cross validation score Logistic Regression: 0.867267999677\n"
     ]
    }
   ],
   "source": [
    "#Performing 10 fold cross validation on Logistic Regression\n",
    "scorelr=cross_val_score(lr,X,y,cv=10,scoring='accuracy')\n",
    "print('Cross validation score Logistic Regression:',scorelr.mean())"
   ]
  },
  {
   "cell_type": "code",
   "execution_count": 171,
   "metadata": {},
   "outputs": [
    {
     "data": {
      "text/plain": [
       "SVC(C=1.0, cache_size=200, class_weight=None, coef0=0.0,\n",
       "  decision_function_shape=None, degree=3, gamma='auto', kernel='rbf',\n",
       "  max_iter=-1, probability=False, random_state=None, shrinking=True,\n",
       "  tol=0.001, verbose=False)"
      ]
     },
     "execution_count": 171,
     "metadata": {},
     "output_type": "execute_result"
    }
   ],
   "source": [
    "#Importing Support Vector Machines model\n",
    "from sklearn.svm import SVC\n",
    "svm=SVC()\n",
    "svm.fit(X_train,y_train)\n"
   ]
  },
  {
   "cell_type": "code",
   "execution_count": 172,
   "metadata": {},
   "outputs": [
    {
     "name": "stdout",
     "output_type": "stream",
     "text": [
      "SVM Accuracy: 0.856388595565\n"
     ]
    }
   ],
   "source": [
    "#Doing predictions on test data\n",
    "predsvm=svm.predict(X_test)\n",
    "print('SVM Accuracy:',accuracy_score(y_test,predsvm))\n",
    "acc_svm=accuracy_score(y_test,predsvm)"
   ]
  },
  {
   "cell_type": "code",
   "execution_count": 173,
   "metadata": {},
   "outputs": [
    {
     "name": "stdout",
     "output_type": "stream",
     "text": [
      "Cross validation score SVM: 0.865052809804\n"
     ]
    }
   ],
   "source": [
    "#Performing 10 fold cross validation on SVM\n",
    "scoresvm=cross_val_score(svm,X,y,cv=10,scoring='accuracy')\n",
    "print('Cross validation score SVM:',scoresvm.mean())"
   ]
  },
  {
   "cell_type": "code",
   "execution_count": 174,
   "metadata": {},
   "outputs": [
    {
     "data": {
      "text/plain": [
       "RandomForestClassifier(bootstrap=True, class_weight=None, criterion='gini',\n",
       "            max_depth=None, max_features='auto', max_leaf_nodes=None,\n",
       "            min_impurity_split=1e-07, min_samples_leaf=5,\n",
       "            min_samples_split=2, min_weight_fraction_leaf=0.0,\n",
       "            n_estimators=100, n_jobs=1, oob_score=False, random_state=None,\n",
       "            verbose=0, warm_start=False)"
      ]
     },
     "execution_count": 174,
     "metadata": {},
     "output_type": "execute_result"
    }
   ],
   "source": [
    "#Importing Random Forest Model\n",
    "from sklearn.ensemble import RandomForestClassifier\n",
    "rf=RandomForestClassifier(n_estimators=100,min_samples_leaf=5)\n",
    "rf.fit(X_train,y_train)"
   ]
  },
  {
   "cell_type": "code",
   "execution_count": 175,
   "metadata": {},
   "outputs": [
    {
     "name": "stdout",
     "output_type": "stream",
     "text": [
      "Random Forest Accuracy: 0.841605068638\n"
     ]
    }
   ],
   "source": [
    "#Doing predictions on test data\n",
    "predrf=rf.predict(X_test)\n",
    "print('Random Forest Accuracy:',accuracy_score(y_test,predrf))\n",
    "acc_rf=accuracy_score(y_test,predrf)"
   ]
  },
  {
   "cell_type": "code",
   "execution_count": 176,
   "metadata": {},
   "outputs": [
    {
     "data": {
      "text/plain": [
       "<matplotlib.axes._subplots.AxesSubplot at 0x23f00806518>"
      ]
     },
     "execution_count": 176,
     "metadata": {},
     "output_type": "execute_result"
    },
    {
     "data": {
      "image/png": "[encoded data removed]",
      "text/plain": [
       "<matplotlib.figure.Figure at 0x23f00806c88>"
      ]
     },
     "metadata": {},
     "output_type": "display_data"
    }
   ],
   "source": [
    "#Plotting the features and showing its importance\n",
    "pd.Series(rf.feature_importances_,index=trainfinal.columns).sort_values(ascending=False).plot(kind='bar', figsize=(12,6))"
   ]
  },
  {
   "cell_type": "code",
   "execution_count": 177,
   "metadata": {},
   "outputs": [
    {
     "name": "stdout",
     "output_type": "stream",
     "text": [
      "Cross validation score Random Forest: 0.85744981053\n"
     ]
    }
   ],
   "source": [
    "#Performing 10 fold cross validation on Random Forest\n",
    "scorerf=cross_val_score(rf,X,y,cv=10,scoring='accuracy')\n",
    "print('Cross validation score Random Forest:',scorerf.mean())"
   ]
  },
  {
   "cell_type": "code",
   "execution_count": 178,
   "metadata": {},
   "outputs": [
    {
     "data": {
      "text/plain": [
       "AdaBoostClassifier(algorithm='SAMME.R', base_estimator=None,\n",
       "          learning_rate=1.0, n_estimators=50, random_state=None)"
      ]
     },
     "execution_count": 178,
     "metadata": {},
     "output_type": "execute_result"
    }
   ],
   "source": [
    "#Importing AdaBoost Classifier\n",
    "from sklearn.ensemble import AdaBoostClassifier\n",
    "ad=AdaBoostClassifier()\n",
    "ad.fit(X_train,y_train)"
   ]
  },
  {
   "cell_type": "code",
   "execution_count": 179,
   "metadata": {},
   "outputs": [
    {
     "name": "stdout",
     "output_type": "stream",
     "text": [
      "AdaBoost Accuracy: 0.86166842661\n"
     ]
    }
   ],
   "source": [
    "#Doing predictions on test data\n",
    "predada=ad.predict(X_test)\n",
    "print('AdaBoost Accuracy:',accuracy_score(y_test,predada))\n",
    "acc_ada=accuracy_score(y_test,predada)"
   ]
  },
  {
   "cell_type": "code",
   "execution_count": 180,
   "metadata": {},
   "outputs": [
    {
     "name": "stdout",
     "output_type": "stream",
     "text": [
      "Cross validation score Ada Boost: 0.866635088285\n"
     ]
    }
   ],
   "source": [
    "#Performing 10 fold cross validation on AdaBoost\n",
    "scoreada=cross_val_score(ad,X,y,cv=10,scoring='accuracy')\n",
    "print('Cross validation score Ada Boost:',scoreada.mean())"
   ]
  },
  {
   "cell_type": "code",
   "execution_count": 181,
   "metadata": {},
   "outputs": [
    {
     "data": {
      "text/plain": [
       "GradientBoostingClassifier(criterion='friedman_mse', init=None,\n",
       "              learning_rate=0.1, loss='deviance', max_depth=3,\n",
       "              max_features=None, max_leaf_nodes=None,\n",
       "              min_impurity_split=1e-07, min_samples_leaf=1,\n",
       "              min_samples_split=2, min_weight_fraction_leaf=0.0,\n",
       "              n_estimators=100, presort='auto', random_state=None,\n",
       "              subsample=1.0, verbose=0, warm_start=False)"
      ]
     },
     "execution_count": 181,
     "metadata": {},
     "output_type": "execute_result"
    }
   ],
   "source": [
    "#Importing Gradient Boost Classifier\n",
    "from sklearn.ensemble import GradientBoostingClassifier\n",
    "grboost=GradientBoostingClassifier()\n",
    "grboost.fit(X_train,y_train)"
   ]
  },
  {
   "cell_type": "code",
   "execution_count": 182,
   "metadata": {},
   "outputs": [
    {
     "name": "stdout",
     "output_type": "stream",
     "text": [
      "Gradient Boost Accuracy: 0.860612460401\n"
     ]
    }
   ],
   "source": [
    "#Doing predictions on test data\n",
    "predgrboost=grboost.predict(X_test)\n",
    "print('Gradient Boost Accuracy:',accuracy_score(y_test,predgrboost))\n",
    "acc_grboost=accuracy_score(y_test,predgrboost)"
   ]
  },
  {
   "cell_type": "code",
   "execution_count": 183,
   "metadata": {},
   "outputs": [
    {
     "name": "stdout",
     "output_type": "stream",
     "text": [
      "Cross validation score Gradient Boost: 0.868221398049\n"
     ]
    }
   ],
   "source": [
    "#Performing 10 fold cross validation on Gradient Boost\n",
    "scoregrboost=cross_val_score(grboost,X,y,cv=10,scoring='accuracy')\n",
    "print('Cross validation score Gradient Boost:',scoregrboost.mean())"
   ]
  },
  {
   "cell_type": "code",
   "execution_count": 184,
   "metadata": {},
   "outputs": [
    {
     "data": {
      "text/html": [
       "<div>\n",
       "<style>\n",
       "    .dataframe thead tr:only-child th {\n",
       "        text-align: right;\n",
       "    }\n",
       "\n",
       "    .dataframe thead th {\n",
       "        text-align: left;\n",
       "    }\n",
       "\n",
       "    .dataframe tbody tr th {\n",
       "        vertical-align: top;\n",
       "    }\n",
       "</style>\n",
       "<table border=\"1\" class=\"dataframe\">\n",
       "  <thead>\n",
       "    <tr style=\"text-align: right;\">\n",
       "      <th></th>\n",
       "      <th>Accuracy</th>\n",
       "      <th>Model</th>\n",
       "    </tr>\n",
       "  </thead>\n",
       "  <tbody>\n",
       "    <tr>\n",
       "      <th>1</th>\n",
       "      <td>0.861668</td>\n",
       "      <td>Logistic Regression</td>\n",
       "    </tr>\n",
       "    <tr>\n",
       "      <th>4</th>\n",
       "      <td>0.861668</td>\n",
       "      <td>Ada Boost</td>\n",
       "    </tr>\n",
       "    <tr>\n",
       "      <th>5</th>\n",
       "      <td>0.860612</td>\n",
       "      <td>Grad Boost</td>\n",
       "    </tr>\n",
       "    <tr>\n",
       "      <th>0</th>\n",
       "      <td>0.856389</td>\n",
       "      <td>SVM</td>\n",
       "    </tr>\n",
       "    <tr>\n",
       "      <th>2</th>\n",
       "      <td>0.841605</td>\n",
       "      <td>Random Forest</td>\n",
       "    </tr>\n",
       "    <tr>\n",
       "      <th>3</th>\n",
       "      <td>0.793031</td>\n",
       "      <td>Decision Tree</td>\n",
       "    </tr>\n",
       "  </tbody>\n",
       "</table>\n",
       "</div>"
      ],
      "text/plain": [
       "   Accuracy                Model\n",
       "1  0.861668  Logistic Regression\n",
       "4  0.861668            Ada Boost\n",
       "5  0.860612           Grad Boost\n",
       "0  0.856389                  SVM\n",
       "2  0.841605        Random Forest\n",
       "3  0.793031        Decision Tree"
      ]
     },
     "execution_count": 184,
     "metadata": {},
     "output_type": "execute_result"
    }
   ],
   "source": [
    "# Creating DataFrame of different Models along with their Accuracy\n",
    "models = pd.DataFrame({\n",
    "    'Model': ['SVM', 'Logistic Regression', \n",
    "              'Random Forest','Decision Tree','Ada Boost','Grad Boost'],\n",
    "    'Accuracy': [acc_svm, acc_log, acc_rf, \n",
    "              acc_dtree, acc_ada,acc_grboost]})\n",
    "models.sort_values(by='Accuracy', ascending=False)"
   ]
  },
  {
   "cell_type": "code",
   "execution_count": 185,
   "metadata": {},
   "outputs": [
    {
     "data": {
      "image/png": "[encoded data removed]",
      "text/plain": [
       "<matplotlib.figure.Figure at 0x23f01c09d68>"
      ]
     },
     "metadata": {},
     "output_type": "display_data"
    }
   ],
   "source": [
    "#Plotting different Models Validation Test Accuracy\n",
    "models.sort_values(by='Accuracy', ascending=False).plot('Model','Accuracy',kind='bar')\n",
    "plt.ylabel('Validation Test Accuracy')\n",
    "plt.gca().get_legend().remove()"
   ]
  },
  {
   "cell_type": "code",
   "execution_count": 186,
   "metadata": {},
   "outputs": [
    {
     "data": {
      "text/html": [
       "<div>\n",
       "<style>\n",
       "    .dataframe thead tr:only-child th {\n",
       "        text-align: right;\n",
       "    }\n",
       "\n",
       "    .dataframe thead th {\n",
       "        text-align: left;\n",
       "    }\n",
       "\n",
       "    .dataframe tbody tr th {\n",
       "        vertical-align: top;\n",
       "    }\n",
       "</style>\n",
       "<table border=\"1\" class=\"dataframe\">\n",
       "  <thead>\n",
       "    <tr style=\"text-align: right;\">\n",
       "      <th></th>\n",
       "      <th>Mean Accuracy</th>\n",
       "      <th>Model</th>\n",
       "    </tr>\n",
       "  </thead>\n",
       "  <tbody>\n",
       "    <tr>\n",
       "      <th>5</th>\n",
       "      <td>0.868221</td>\n",
       "      <td>Grad Boost</td>\n",
       "    </tr>\n",
       "    <tr>\n",
       "      <th>1</th>\n",
       "      <td>0.867268</td>\n",
       "      <td>Logistic Regression</td>\n",
       "    </tr>\n",
       "    <tr>\n",
       "      <th>4</th>\n",
       "      <td>0.866635</td>\n",
       "      <td>Ada Boost</td>\n",
       "    </tr>\n",
       "    <tr>\n",
       "      <th>0</th>\n",
       "      <td>0.865053</td>\n",
       "      <td>SVM</td>\n",
       "    </tr>\n",
       "    <tr>\n",
       "      <th>2</th>\n",
       "      <td>0.857450</td>\n",
       "      <td>Random Forest</td>\n",
       "    </tr>\n",
       "    <tr>\n",
       "      <th>3</th>\n",
       "      <td>0.797849</td>\n",
       "      <td>Decision Tree</td>\n",
       "    </tr>\n",
       "  </tbody>\n",
       "</table>\n",
       "</div>"
      ],
      "text/plain": [
       "   Mean Accuracy                Model\n",
       "5       0.868221           Grad Boost\n",
       "1       0.867268  Logistic Regression\n",
       "4       0.866635            Ada Boost\n",
       "0       0.865053                  SVM\n",
       "2       0.857450        Random Forest\n",
       "3       0.797849        Decision Tree"
      ]
     },
     "execution_count": 186,
     "metadata": {},
     "output_type": "execute_result"
    }
   ],
   "source": [
    "# Creating DataFrame of different Models along with their 10 Fold Cross Validation Mean Accuracy\n",
    "KFoldmodels = pd.DataFrame({\n",
    "    'Model': ['SVM', 'Logistic Regression', \n",
    "              'Random Forest','Decision Tree','Ada Boost','Grad Boost'],\n",
    "    'Mean Accuracy': [scoresvm.mean(), scorelr.mean(), scorerf.mean(), \n",
    "              scoredtree.mean(), scoreada.mean(),scoregrboost.mean()]})\n",
    "KFoldmodels.sort_values(by='Mean Accuracy', ascending=False)"
   ]
  },
  {
   "cell_type": "code",
   "execution_count": 187,
   "metadata": {},
   "outputs": [
    {
     "data": {
      "image/png": "[encoded data removed]",
      "text/plain": [
       "<matplotlib.figure.Figure at 0x23f01bf2c50>"
      ]
     },
     "metadata": {},
     "output_type": "display_data"
    }
   ],
   "source": [
    "#Plotting different Models 10 Fold Cross Validation Mean Accuracy\n",
    "KFoldmodels.sort_values(by='Mean Accuracy', ascending=False).plot('Model','Mean Accuracy',kind='bar')\n",
    "plt.ylabel('Mean 10 Fold CV Accuracy')\n",
    "plt.gca().get_legend().remove()"
   ]
  },
  {
   "cell_type": "markdown",
   "metadata": {},
   "source": [
    "## Tuning Models"
   ]
  },
  {
   "cell_type": "code",
   "execution_count": 188,
   "metadata": {
    "collapsed": true
   },
   "outputs": [],
   "source": [
    "from sklearn.model_selection import GridSearchCV"
   ]
  },
  {
   "cell_type": "code",
   "execution_count": 190,
   "metadata": {
    "collapsed": true
   },
   "outputs": [],
   "source": [
    "#Tuning Decision Tree Model\n",
    "params ={'min_samples_leaf': list(range(5, 20)),\n",
    "        'min_samples_split':[2,3,4],\n",
    "        'max_leaf_nodes':list(range(2,50))}"
   ]
  },
  {
   "cell_type": "code",
   "execution_count": 191,
   "metadata": {
    "collapsed": true
   },
   "outputs": [],
   "source": [
    "gridtree = GridSearchCV(dtree, params,cv=10,n_jobs=-1, verbose=1)"
   ]
  },
  {
   "cell_type": "code",
   "execution_count": 192,
   "metadata": {},
   "outputs": [
    {
     "name": "stdout",
     "output_type": "stream",
     "text": [
      "Fitting 10 folds for each of 2160 candidates, totalling 21600 fits\n"
     ]
    },
    {
     "name": "stderr",
     "output_type": "stream",
     "text": [
      "[Parallel(n_jobs=-1)]: Done  34 tasks      | elapsed:    2.3s\n",
      "[Parallel(n_jobs=-1)]: Done 805 tasks      | elapsed:    5.1s\n",
      "[Parallel(n_jobs=-1)]: Done 2305 tasks      | elapsed:   10.9s\n",
      "[Parallel(n_jobs=-1)]: Done 4405 tasks      | elapsed:   19.6s\n",
      "[Parallel(n_jobs=-1)]: Done 7105 tasks      | elapsed:   31.3s\n",
      "[Parallel(n_jobs=-1)]: Done 10405 tasks      | elapsed:   46.1s\n",
      "[Parallel(n_jobs=-1)]: Done 14305 tasks      | elapsed:  1.1min\n",
      "[Parallel(n_jobs=-1)]: Done 18805 tasks      | elapsed:  1.4min\n",
      "[Parallel(n_jobs=-1)]: Done 21600 out of 21600 | elapsed:  1.7min finished\n"
     ]
    },
    {
     "data": {
      "text/plain": [
       "GridSearchCV(cv=10, error_score='raise',\n",
       "       estimator=DecisionTreeClassifier(class_weight=None, criterion='gini', max_depth=None,\n",
       "            max_features=None, max_leaf_nodes=None,\n",
       "            min_impurity_split=1e-07, min_samples_leaf=1,\n",
       "            min_samples_split=2, min_weight_fraction_leaf=0.0,\n",
       "            presort=False, random_state=None, splitter='best'),\n",
       "       fit_params={}, iid=True, n_jobs=-1,\n",
       "       param_grid={'min_samples_leaf': [5, 6, 7, 8, 9, 10, 11, 12, 13, 14, 15, 16, 17, 18, 19], 'min_samples_split': [2, 3, 4], 'max_leaf_nodes': [2, 3, 4, 5, 6, 7, 8, 9, 10, 11, 12, 13, 14, 15, 16, 17, 18, 19, 20, 21, 22, 23, 24, 25, 26, 27, 28, 29, 30, 31, 32, 33, 34, 35, 36, 37, 38, 39, 40, 41, 42, 43, 44, 45, 46, 47, 48, 49]},\n",
       "       pre_dispatch='2*n_jobs', refit=True, return_train_score=True,\n",
       "       scoring=None, verbose=1)"
      ]
     },
     "execution_count": 192,
     "metadata": {},
     "output_type": "execute_result"
    }
   ],
   "source": [
    "# fit the grid with data\n",
    "gridtree.fit(X, y)"
   ]
  },
  {
   "cell_type": "code",
   "execution_count": 193,
   "metadata": {},
   "outputs": [
    {
     "name": "stdout",
     "output_type": "stream",
     "text": [
      "0.865652724968\n",
      "{'max_leaf_nodes': 10, 'min_samples_leaf': 5, 'min_samples_split': 2}\n",
      "DecisionTreeClassifier(class_weight=None, criterion='gini', max_depth=None,\n",
      "            max_features=None, max_leaf_nodes=10, min_impurity_split=1e-07,\n",
      "            min_samples_leaf=5, min_samples_split=2,\n",
      "            min_weight_fraction_leaf=0.0, presort=False, random_state=None,\n",
      "            splitter='best')\n"
     ]
    }
   ],
   "source": [
    "# examine the best model\n",
    "print(gridtree.best_score_)\n",
    "print(gridtree.best_params_)\n",
    "print(gridtree.best_estimator_)"
   ]
  },
  {
   "cell_type": "code",
   "execution_count": 194,
   "metadata": {
    "collapsed": true
   },
   "outputs": [],
   "source": [
    "#Tuning Random Forst Model\n",
    "params   = {\"max_depth\": [3,5,None],\n",
    "               \"min_samples_split\": [2, 3, 10],\n",
    "               \"min_samples_leaf\": [1, 3, 5, 10],\n",
    "               \"criterion\": ['gini', 'entropy']}"
   ]
  },
  {
   "cell_type": "code",
   "execution_count": 195,
   "metadata": {
    "collapsed": true
   },
   "outputs": [],
   "source": [
    "gridrf = GridSearchCV(rf,params, n_jobs=-1, cv=10, verbose=1, scoring='accuracy')"
   ]
  },
  {
   "cell_type": "code",
   "execution_count": 196,
   "metadata": {},
   "outputs": [
    {
     "name": "stdout",
     "output_type": "stream",
     "text": [
      "Fitting 10 folds for each of 72 candidates, totalling 720 fits\n"
     ]
    },
    {
     "name": "stderr",
     "output_type": "stream",
     "text": [
      "[Parallel(n_jobs=-1)]: Done  34 tasks      | elapsed:    4.8s\n",
      "[Parallel(n_jobs=-1)]: Done 184 tasks      | elapsed:   17.8s\n",
      "[Parallel(n_jobs=-1)]: Done 434 tasks      | elapsed:   43.4s\n",
      "[Parallel(n_jobs=-1)]: Done 720 out of 720 | elapsed:  1.2min finished\n"
     ]
    },
    {
     "data": {
      "text/plain": [
       "GridSearchCV(cv=10, error_score='raise',\n",
       "       estimator=RandomForestClassifier(bootstrap=True, class_weight=None, criterion='gini',\n",
       "            max_depth=None, max_features='auto', max_leaf_nodes=None,\n",
       "            min_impurity_split=1e-07, min_samples_leaf=5,\n",
       "            min_samples_split=2, min_weight_fraction_leaf=0.0,\n",
       "            n_estimators=100, n_jobs=1, oob_score=False, random_state=None,\n",
       "            verbose=0, warm_start=False),\n",
       "       fit_params={}, iid=True, n_jobs=-1,\n",
       "       param_grid={'max_depth': [3, 5, None], 'min_samples_split': [2, 3, 10], 'min_samples_leaf': [1, 3, 5, 10], 'criterion': ['gini', 'entropy']},\n",
       "       pre_dispatch='2*n_jobs', refit=True, return_train_score=True,\n",
       "       scoring='accuracy', verbose=1)"
      ]
     },
     "execution_count": 196,
     "metadata": {},
     "output_type": "execute_result"
    }
   ],
   "source": [
    "gridrf.fit(X, y)"
   ]
  },
  {
   "cell_type": "code",
   "execution_count": 197,
   "metadata": {},
   "outputs": [
    {
     "name": "stdout",
     "output_type": "stream",
     "text": [
      "0.861216730038\n",
      "{'criterion': 'gini', 'max_depth': None, 'min_samples_leaf': 5, 'min_samples_split': 10}\n",
      "RandomForestClassifier(bootstrap=True, class_weight=None, criterion='gini',\n",
      "            max_depth=None, max_features='auto', max_leaf_nodes=None,\n",
      "            min_impurity_split=1e-07, min_samples_leaf=5,\n",
      "            min_samples_split=10, min_weight_fraction_leaf=0.0,\n",
      "            n_estimators=100, n_jobs=1, oob_score=False, random_state=None,\n",
      "            verbose=0, warm_start=False)\n"
     ]
    }
   ],
   "source": [
    "# examine the best model\n",
    "print(gridrf.best_score_)\n",
    "print(gridrf.best_params_)\n",
    "print(gridrf.best_estimator_)"
   ]
  },
  {
   "cell_type": "code",
   "execution_count": 198,
   "metadata": {
    "collapsed": true
   },
   "outputs": [],
   "source": [
    "##Tuning SVM Model\n",
    "params = {'C':(0.1, 0.5, 1, 2, 5, 10, 20,30), \n",
    "          'gamma':(0.001, 0.01, 0.1, 0.25, 0.5, 0.75, 1),\n",
    "           'kernel': ['linear','rbf']} "
   ]
  },
  {
   "cell_type": "code",
   "execution_count": 199,
   "metadata": {
    "collapsed": true
   },
   "outputs": [],
   "source": [
    "gridsvm = GridSearchCV(svm,params, n_jobs=-1, cv=10, verbose=1, scoring='accuracy')"
   ]
  },
  {
   "cell_type": "code",
   "execution_count": 200,
   "metadata": {},
   "outputs": [
    {
     "name": "stdout",
     "output_type": "stream",
     "text": [
      "Fitting 10 folds for each of 112 candidates, totalling 1120 fits\n"
     ]
    },
    {
     "name": "stderr",
     "output_type": "stream",
     "text": [
      "[Parallel(n_jobs=-1)]: Done  34 tasks      | elapsed:   12.5s\n",
      "[Parallel(n_jobs=-1)]: Done 184 tasks      | elapsed:   54.4s\n",
      "[Parallel(n_jobs=-1)]: Done 434 tasks      | elapsed:  2.0min\n",
      "[Parallel(n_jobs=-1)]: Done 784 tasks      | elapsed:  3.7min\n",
      "[Parallel(n_jobs=-1)]: Done 1120 out of 1120 | elapsed:  5.9min finished\n"
     ]
    },
    {
     "data": {
      "text/plain": [
       "GridSearchCV(cv=10, error_score='raise',\n",
       "       estimator=SVC(C=1.0, cache_size=200, class_weight=None, coef0=0.0,\n",
       "  decision_function_shape=None, degree=3, gamma='auto', kernel='rbf',\n",
       "  max_iter=-1, probability=False, random_state=None, shrinking=True,\n",
       "  tol=0.001, verbose=False),\n",
       "       fit_params={}, iid=True, n_jobs=-1,\n",
       "       param_grid={'C': (0.1, 0.5, 1, 2, 5, 10, 20, 30), 'gamma': (0.001, 0.01, 0.1, 0.25, 0.5, 0.75, 1), 'kernel': ['linear', 'rbf']},\n",
       "       pre_dispatch='2*n_jobs', refit=True, return_train_score=True,\n",
       "       scoring='accuracy', verbose=1)"
      ]
     },
     "execution_count": 200,
     "metadata": {},
     "output_type": "execute_result"
    }
   ],
   "source": [
    "gridsvm.fit(X, y)"
   ]
  },
  {
   "cell_type": "code",
   "execution_count": 201,
   "metadata": {},
   "outputs": [
    {
     "name": "stdout",
     "output_type": "stream",
     "text": [
      "0.867553865653\n",
      "{'C': 0.1, 'gamma': 0.001, 'kernel': 'linear'}\n",
      "SVC(C=0.1, cache_size=200, class_weight=None, coef0=0.0,\n",
      "  decision_function_shape=None, degree=3, gamma=0.001, kernel='linear',\n",
      "  max_iter=-1, probability=False, random_state=None, shrinking=True,\n",
      "  tol=0.001, verbose=False)\n"
     ]
    }
   ],
   "source": [
    "# examine the best model\n",
    "print(gridsvm.best_score_)\n",
    "print(gridsvm.best_params_)\n",
    "print(gridsvm.best_estimator_)"
   ]
  },
  {
   "cell_type": "code",
   "execution_count": 202,
   "metadata": {
    "collapsed": true
   },
   "outputs": [],
   "source": [
    "##Tuning AdaBoost Model\n",
    "params = {'learning_rate':(0.01,0.1, 0.5,1), \n",
    "          'n_estimators':(50,100,150)}"
   ]
  },
  {
   "cell_type": "code",
   "execution_count": 203,
   "metadata": {
    "collapsed": true
   },
   "outputs": [],
   "source": [
    "gridada = GridSearchCV(ad,params, n_jobs=-1, cv=10, verbose=1, scoring='accuracy')"
   ]
  },
  {
   "cell_type": "code",
   "execution_count": 204,
   "metadata": {},
   "outputs": [
    {
     "name": "stdout",
     "output_type": "stream",
     "text": [
      "Fitting 10 folds for each of 12 candidates, totalling 120 fits\n"
     ]
    },
    {
     "name": "stderr",
     "output_type": "stream",
     "text": [
      "[Parallel(n_jobs=-1)]: Done  34 tasks      | elapsed:    6.8s\n",
      "[Parallel(n_jobs=-1)]: Done 120 out of 120 | elapsed:   19.2s finished\n"
     ]
    },
    {
     "data": {
      "text/plain": [
       "GridSearchCV(cv=10, error_score='raise',\n",
       "       estimator=AdaBoostClassifier(algorithm='SAMME.R', base_estimator=None,\n",
       "          learning_rate=1.0, n_estimators=50, random_state=None),\n",
       "       fit_params={}, iid=True, n_jobs=-1,\n",
       "       param_grid={'learning_rate': (0.01, 0.1, 0.5, 1), 'n_estimators': (50, 100, 150)},\n",
       "       pre_dispatch='2*n_jobs', refit=True, return_train_score=True,\n",
       "       scoring='accuracy', verbose=1)"
      ]
     },
     "execution_count": 204,
     "metadata": {},
     "output_type": "execute_result"
    }
   ],
   "source": [
    "gridada.fit(X, y)"
   ]
  },
  {
   "cell_type": "code",
   "execution_count": 205,
   "metadata": {},
   "outputs": [
    {
     "name": "stdout",
     "output_type": "stream",
     "text": [
      "0.867553865653\n",
      "{'learning_rate': 0.1, 'n_estimators': 150}\n",
      "AdaBoostClassifier(algorithm='SAMME.R', base_estimator=None,\n",
      "          learning_rate=0.1, n_estimators=150, random_state=None)\n"
     ]
    }
   ],
   "source": [
    "# examine the best model\n",
    "print(gridada.best_score_)\n",
    "print(gridada.best_params_)\n",
    "print(gridada.best_estimator_)"
   ]
  },
  {
   "cell_type": "code",
   "execution_count": 206,
   "metadata": {
    "collapsed": true
   },
   "outputs": [],
   "source": [
    "##Tuning Gradient Boost Model\n",
    "params = {'learning_rate':(0.01,0.1,0.3,0.5,1), \n",
    "          'n_estimators':(50,100,150,200),\n",
    "         \"min_samples_leaf\": [1,3,5,7,10]}\n"
   ]
  },
  {
   "cell_type": "code",
   "execution_count": 207,
   "metadata": {
    "collapsed": true
   },
   "outputs": [],
   "source": [
    "gridgrboost = GridSearchCV(grboost,params, n_jobs=-1, cv=10, verbose=1, scoring='accuracy')"
   ]
  },
  {
   "cell_type": "code",
   "execution_count": 208,
   "metadata": {},
   "outputs": [
    {
     "name": "stdout",
     "output_type": "stream",
     "text": [
      "Fitting 10 folds for each of 100 candidates, totalling 1000 fits\n"
     ]
    },
    {
     "name": "stderr",
     "output_type": "stream",
     "text": [
      "[Parallel(n_jobs=-1)]: Done  34 tasks      | elapsed:   10.9s\n",
      "[Parallel(n_jobs=-1)]: Done 184 tasks      | elapsed:   50.2s\n",
      "[Parallel(n_jobs=-1)]: Done 434 tasks      | elapsed:  1.9min\n",
      "[Parallel(n_jobs=-1)]: Done 784 tasks      | elapsed:  3.4min\n",
      "[Parallel(n_jobs=-1)]: Done 1000 out of 1000 | elapsed:  4.3min finished\n"
     ]
    },
    {
     "data": {
      "text/plain": [
       "GridSearchCV(cv=10, error_score='raise',\n",
       "       estimator=GradientBoostingClassifier(criterion='friedman_mse', init=None,\n",
       "              learning_rate=0.1, loss='deviance', max_depth=3,\n",
       "              max_features=None, max_leaf_nodes=None,\n",
       "              min_impurity_split=1e-07, min_samples_leaf=1,\n",
       "              min_samples_split=2, min_weight_fraction_leaf=0.0,\n",
       "              n_estimators=100, presort='auto', random_state=None,\n",
       "              subsample=1.0, verbose=0, warm_start=False),\n",
       "       fit_params={}, iid=True, n_jobs=-1,\n",
       "       param_grid={'learning_rate': (0.01, 0.1, 0.3, 0.5, 1), 'n_estimators': (50, 100, 150, 200), 'min_samples_leaf': [1, 3, 5, 7, 10]},\n",
       "       pre_dispatch='2*n_jobs', refit=True, return_train_score=True,\n",
       "       scoring='accuracy', verbose=1)"
      ]
     },
     "execution_count": 208,
     "metadata": {},
     "output_type": "execute_result"
    }
   ],
   "source": [
    "gridgrboost.fit(X, y)"
   ]
  },
  {
   "cell_type": "code",
   "execution_count": 209,
   "metadata": {},
   "outputs": [
    {
     "name": "stdout",
     "output_type": "stream",
     "text": [
      "0.869455006337\n",
      "{'learning_rate': 0.1, 'min_samples_leaf': 3, 'n_estimators': 100}\n",
      "GradientBoostingClassifier(criterion='friedman_mse', init=None,\n",
      "              learning_rate=0.1, loss='deviance', max_depth=3,\n",
      "              max_features=None, max_leaf_nodes=None,\n",
      "              min_impurity_split=1e-07, min_samples_leaf=3,\n",
      "              min_samples_split=2, min_weight_fraction_leaf=0.0,\n",
      "              n_estimators=100, presort='auto', random_state=None,\n",
      "              subsample=1.0, verbose=0, warm_start=False)\n"
     ]
    }
   ],
   "source": [
    "# examine the best model\n",
    "print(gridgrboost.best_score_)\n",
    "print(gridgrboost.best_params_)\n",
    "print(gridgrboost.best_estimator_)"
   ]
  },
  {
   "cell_type": "code",
   "execution_count": 210,
   "metadata": {},
   "outputs": [
    {
     "data": {
      "text/html": [
       "<div>\n",
       "<style>\n",
       "    .dataframe thead tr:only-child th {\n",
       "        text-align: right;\n",
       "    }\n",
       "\n",
       "    .dataframe thead th {\n",
       "        text-align: left;\n",
       "    }\n",
       "\n",
       "    .dataframe tbody tr th {\n",
       "        vertical-align: top;\n",
       "    }\n",
       "</style>\n",
       "<table border=\"1\" class=\"dataframe\">\n",
       "  <thead>\n",
       "    <tr style=\"text-align: right;\">\n",
       "      <th></th>\n",
       "      <th>Best Accuracy Score</th>\n",
       "      <th>Tuned Model</th>\n",
       "    </tr>\n",
       "  </thead>\n",
       "  <tbody>\n",
       "    <tr>\n",
       "      <th>4</th>\n",
       "      <td>0.869455</td>\n",
       "      <td>Grad Boost</td>\n",
       "    </tr>\n",
       "    <tr>\n",
       "      <th>0</th>\n",
       "      <td>0.867554</td>\n",
       "      <td>SVM</td>\n",
       "    </tr>\n",
       "    <tr>\n",
       "      <th>3</th>\n",
       "      <td>0.867554</td>\n",
       "      <td>Ada Boost</td>\n",
       "    </tr>\n",
       "    <tr>\n",
       "      <th>2</th>\n",
       "      <td>0.865653</td>\n",
       "      <td>Decision Tree</td>\n",
       "    </tr>\n",
       "    <tr>\n",
       "      <th>1</th>\n",
       "      <td>0.861217</td>\n",
       "      <td>Random Forest</td>\n",
       "    </tr>\n",
       "  </tbody>\n",
       "</table>\n",
       "</div>"
      ],
      "text/plain": [
       "   Best Accuracy Score    Tuned Model\n",
       "4             0.869455     Grad Boost\n",
       "0             0.867554            SVM\n",
       "3             0.867554      Ada Boost\n",
       "2             0.865653  Decision Tree\n",
       "1             0.861217  Random Forest"
      ]
     },
     "execution_count": 210,
     "metadata": {},
     "output_type": "execute_result"
    }
   ],
   "source": [
    "# Creating DataFrame of different Tuned Models along with their Best Accuracy Score\n",
    "tunedmodels = pd.DataFrame({\n",
    "    'Tuned Model': ['SVM','Random Forest','Decision Tree','Ada Boost','Grad Boost'],\n",
    "    'Best Accuracy Score': [gridsvm.best_score_,gridrf.best_score_,\n",
    "              gridtree.best_score_, gridada.best_score_,gridgrboost.best_score_]})\n",
    "tunedmodels.sort_values(by='Best Accuracy Score', ascending=False)"
   ]
  },
  {
   "cell_type": "code",
   "execution_count": 211,
   "metadata": {},
   "outputs": [
    {
     "data": {
      "image/png": "[encoded data removed]",
      "text/plain": [
       "<matplotlib.figure.Figure at 0x23f02c8c0b8>"
      ]
     },
     "metadata": {},
     "output_type": "display_data"
    }
   ],
   "source": [
    "#Plotting different Tuned Models with their Best Accuracy Score\n",
    "tunedmodels.sort_values(by='Best Accuracy Score', ascending=False).plot('Tuned Model','Best Accuracy Score',kind='bar')\n",
    "plt.ylabel('Best Accuracy Score')\n",
    "plt.gca().get_legend().remove()"
   ]
  },
  {
   "cell_type": "markdown",
   "metadata": {},
   "source": [
    "### Feature Engineering and Tuning Models"
   ]
  },
  {
   "cell_type": "code",
   "execution_count": 213,
   "metadata": {
    "collapsed": true
   },
   "outputs": [],
   "source": [
    "#Considering only these features as it has got more importance\n",
    "features=['Peak Power','Cylinder deactivation','Fuel Type','Compression ratio','material grade']"
   ]
  },
  {
   "cell_type": "code",
   "execution_count": 214,
   "metadata": {},
   "outputs": [
    {
     "data": {
      "text/html": [
       "<div>\n",
       "<style>\n",
       "    .dataframe thead tr:only-child th {\n",
       "        text-align: right;\n",
       "    }\n",
       "\n",
       "    .dataframe thead th {\n",
       "        text-align: left;\n",
       "    }\n",
       "\n",
       "    .dataframe tbody tr th {\n",
       "        vertical-align: top;\n",
       "    }\n",
       "</style>\n",
       "<table border=\"1\" class=\"dataframe\">\n",
       "  <thead>\n",
       "    <tr style=\"text-align: right;\">\n",
       "      <th></th>\n",
       "      <th>ID</th>\n",
       "      <th>y</th>\n",
       "      <th>Number of Cylinders</th>\n",
       "      <th>material grade</th>\n",
       "      <th>Lubrication</th>\n",
       "      <th>Valve Type</th>\n",
       "      <th>Bearing Vendor</th>\n",
       "      <th>Fuel Type</th>\n",
       "      <th>Compression ratio</th>\n",
       "      <th>cam arrangement</th>\n",
       "      <th>...</th>\n",
       "      <th>Direct injection</th>\n",
       "      <th>main bearing type</th>\n",
       "      <th>displacement</th>\n",
       "      <th>piston type</th>\n",
       "      <th>Max. Torque</th>\n",
       "      <th>Peak Power</th>\n",
       "      <th>Crankshaft Design</th>\n",
       "      <th>Liner Design</th>\n",
       "      <th>TestA</th>\n",
       "      <th>TestB</th>\n",
       "    </tr>\n",
       "  </thead>\n",
       "  <tbody>\n",
       "    <tr>\n",
       "      <th>0</th>\n",
       "      <td>1</td>\n",
       "      <td>1</td>\n",
       "      <td>6</td>\n",
       "      <td>a</td>\n",
       "      <td>L4</td>\n",
       "      <td>C</td>\n",
       "      <td>V4</td>\n",
       "      <td>gasoline</td>\n",
       "      <td>low</td>\n",
       "      <td>SOHC</td>\n",
       "      <td>...</td>\n",
       "      <td>Yes</td>\n",
       "      <td>Roller</td>\n",
       "      <td>high</td>\n",
       "      <td>linear</td>\n",
       "      <td>high</td>\n",
       "      <td>high</td>\n",
       "      <td>CD2</td>\n",
       "      <td>LD1</td>\n",
       "      <td>1</td>\n",
       "      <td>1</td>\n",
       "    </tr>\n",
       "    <tr>\n",
       "      <th>1</th>\n",
       "      <td>2</td>\n",
       "      <td>0</td>\n",
       "      <td>6</td>\n",
       "      <td>b</td>\n",
       "      <td>L4</td>\n",
       "      <td>C</td>\n",
       "      <td>V3</td>\n",
       "      <td>gasoline</td>\n",
       "      <td>high</td>\n",
       "      <td>SOHC</td>\n",
       "      <td>...</td>\n",
       "      <td>Yes</td>\n",
       "      <td>Roller</td>\n",
       "      <td>high</td>\n",
       "      <td>linear</td>\n",
       "      <td>high</td>\n",
       "      <td>high</td>\n",
       "      <td>CD1</td>\n",
       "      <td>LD1</td>\n",
       "      <td>1</td>\n",
       "      <td>0</td>\n",
       "    </tr>\n",
       "    <tr>\n",
       "      <th>2</th>\n",
       "      <td>3</td>\n",
       "      <td>1</td>\n",
       "      <td>4</td>\n",
       "      <td>c</td>\n",
       "      <td>L3</td>\n",
       "      <td>D</td>\n",
       "      <td>V2</td>\n",
       "      <td>gasoline</td>\n",
       "      <td>high</td>\n",
       "      <td>SOHC</td>\n",
       "      <td>...</td>\n",
       "      <td>Yes</td>\n",
       "      <td>Roller</td>\n",
       "      <td>high</td>\n",
       "      <td>linear</td>\n",
       "      <td>high</td>\n",
       "      <td>high</td>\n",
       "      <td>CD1</td>\n",
       "      <td>LD1</td>\n",
       "      <td>1</td>\n",
       "      <td>1</td>\n",
       "    </tr>\n",
       "    <tr>\n",
       "      <th>3</th>\n",
       "      <td>4</td>\n",
       "      <td>1</td>\n",
       "      <td>4</td>\n",
       "      <td>f</td>\n",
       "      <td>L2</td>\n",
       "      <td>D</td>\n",
       "      <td>V2</td>\n",
       "      <td>gasoline</td>\n",
       "      <td>low</td>\n",
       "      <td>SOHC</td>\n",
       "      <td>...</td>\n",
       "      <td>Yes</td>\n",
       "      <td>Roller</td>\n",
       "      <td>high</td>\n",
       "      <td>linear</td>\n",
       "      <td>high</td>\n",
       "      <td>high</td>\n",
       "      <td>CD1</td>\n",
       "      <td>LD1</td>\n",
       "      <td>1</td>\n",
       "      <td>1</td>\n",
       "    </tr>\n",
       "    <tr>\n",
       "      <th>4</th>\n",
       "      <td>5</td>\n",
       "      <td>0</td>\n",
       "      <td>8</td>\n",
       "      <td>d</td>\n",
       "      <td>L2</td>\n",
       "      <td>B</td>\n",
       "      <td>V2</td>\n",
       "      <td>gasoline</td>\n",
       "      <td>high</td>\n",
       "      <td>SOHC</td>\n",
       "      <td>...</td>\n",
       "      <td>Yes</td>\n",
       "      <td>Roller</td>\n",
       "      <td>high</td>\n",
       "      <td>linear</td>\n",
       "      <td>high</td>\n",
       "      <td>high</td>\n",
       "      <td>CD1</td>\n",
       "      <td>LD2</td>\n",
       "      <td>0</td>\n",
       "      <td>1</td>\n",
       "    </tr>\n",
       "  </tbody>\n",
       "</table>\n",
       "<p>5 rows × 24 columns</p>\n",
       "</div>"
      ],
      "text/plain": [
       "   ID  y Number of Cylinders material grade Lubrication Valve Type  \\\n",
       "0   1  1                   6              a          L4          C   \n",
       "1   2  0                   6              b          L4          C   \n",
       "2   3  1                   4              c          L3          D   \n",
       "3   4  1                   4              f          L2          D   \n",
       "4   5  0                   8              d          L2          B   \n",
       "\n",
       "  Bearing Vendor Fuel Type Compression ratio cam arrangement  ...   \\\n",
       "0             V4  gasoline               low            SOHC  ...    \n",
       "1             V3  gasoline              high            SOHC  ...    \n",
       "2             V2  gasoline              high            SOHC  ...    \n",
       "3             V2  gasoline               low            SOHC  ...    \n",
       "4             V2  gasoline              high            SOHC  ...    \n",
       "\n",
       "  Direct injection main bearing type displacement piston type Max. Torque  \\\n",
       "0              Yes            Roller         high      linear        high   \n",
       "1              Yes            Roller         high      linear        high   \n",
       "2              Yes            Roller         high      linear        high   \n",
       "3              Yes            Roller         high      linear        high   \n",
       "4              Yes            Roller         high      linear        high   \n",
       "\n",
       "  Peak Power Crankshaft Design Liner Design  TestA TestB  \n",
       "0       high               CD2           LD1     1     1  \n",
       "1       high               CD1           LD1     1     0  \n",
       "2       high               CD1           LD1     1     1  \n",
       "3       high               CD1           LD1     1     1  \n",
       "4       high               CD1           LD2     0     1  \n",
       "\n",
       "[5 rows x 24 columns]"
      ]
     },
     "execution_count": 214,
     "metadata": {},
     "output_type": "execute_result"
    }
   ],
   "source": [
    "trainwithad.head()"
   ]
  },
  {
   "cell_type": "code",
   "execution_count": 215,
   "metadata": {},
   "outputs": [
    {
     "data": {
      "text/html": [
       "<div>\n",
       "<style>\n",
       "    .dataframe thead tr:only-child th {\n",
       "        text-align: right;\n",
       "    }\n",
       "\n",
       "    .dataframe thead th {\n",
       "        text-align: left;\n",
       "    }\n",
       "\n",
       "    .dataframe tbody tr th {\n",
       "        vertical-align: top;\n",
       "    }\n",
       "</style>\n",
       "<table border=\"1\" class=\"dataframe\">\n",
       "  <thead>\n",
       "    <tr style=\"text-align: right;\">\n",
       "      <th></th>\n",
       "      <th>ID</th>\n",
       "      <th>Number of Cylinders</th>\n",
       "      <th>material grade</th>\n",
       "      <th>Lubrication</th>\n",
       "      <th>Valve Type</th>\n",
       "      <th>Bearing Vendor</th>\n",
       "      <th>Fuel Type</th>\n",
       "      <th>Compression ratio</th>\n",
       "      <th>cam arrangement</th>\n",
       "      <th>Cylinder arragement</th>\n",
       "      <th>...</th>\n",
       "      <th>Direct injection</th>\n",
       "      <th>main bearing type</th>\n",
       "      <th>displacement</th>\n",
       "      <th>piston type</th>\n",
       "      <th>Max. Torque</th>\n",
       "      <th>Peak Power</th>\n",
       "      <th>Crankshaft Design</th>\n",
       "      <th>Liner Design</th>\n",
       "      <th>TestA</th>\n",
       "      <th>TestB</th>\n",
       "    </tr>\n",
       "  </thead>\n",
       "  <tbody>\n",
       "    <tr>\n",
       "      <th>0</th>\n",
       "      <td>5001</td>\n",
       "      <td>4</td>\n",
       "      <td>c</td>\n",
       "      <td>L1</td>\n",
       "      <td>A</td>\n",
       "      <td>V2</td>\n",
       "      <td>gasoline</td>\n",
       "      <td>high</td>\n",
       "      <td>SOHC</td>\n",
       "      <td>inline</td>\n",
       "      <td>...</td>\n",
       "      <td>Yes</td>\n",
       "      <td>Roller</td>\n",
       "      <td>high</td>\n",
       "      <td>linear</td>\n",
       "      <td>high</td>\n",
       "      <td>low</td>\n",
       "      <td>CD1</td>\n",
       "      <td>LD1</td>\n",
       "      <td>0</td>\n",
       "      <td>1</td>\n",
       "    </tr>\n",
       "    <tr>\n",
       "      <th>1</th>\n",
       "      <td>5002</td>\n",
       "      <td>8</td>\n",
       "      <td>e</td>\n",
       "      <td>L1</td>\n",
       "      <td>B</td>\n",
       "      <td>V1</td>\n",
       "      <td>gasoline</td>\n",
       "      <td>high</td>\n",
       "      <td>SOHC</td>\n",
       "      <td>V</td>\n",
       "      <td>...</td>\n",
       "      <td>Yes</td>\n",
       "      <td>Roller</td>\n",
       "      <td>high</td>\n",
       "      <td>linear</td>\n",
       "      <td>high</td>\n",
       "      <td>high</td>\n",
       "      <td>CD1</td>\n",
       "      <td>LD2</td>\n",
       "      <td>0</td>\n",
       "      <td>1</td>\n",
       "    </tr>\n",
       "    <tr>\n",
       "      <th>2</th>\n",
       "      <td>5003</td>\n",
       "      <td>8</td>\n",
       "      <td>c</td>\n",
       "      <td>L1</td>\n",
       "      <td>B</td>\n",
       "      <td>V3</td>\n",
       "      <td>gasoline</td>\n",
       "      <td>low</td>\n",
       "      <td>SOHC</td>\n",
       "      <td>inline</td>\n",
       "      <td>...</td>\n",
       "      <td>Yes</td>\n",
       "      <td>Roller</td>\n",
       "      <td>high</td>\n",
       "      <td>linear</td>\n",
       "      <td>high</td>\n",
       "      <td>high</td>\n",
       "      <td>CD1</td>\n",
       "      <td>LD2</td>\n",
       "      <td>1</td>\n",
       "      <td>1</td>\n",
       "    </tr>\n",
       "    <tr>\n",
       "      <th>3</th>\n",
       "      <td>5004</td>\n",
       "      <td>8</td>\n",
       "      <td>c</td>\n",
       "      <td>L1</td>\n",
       "      <td>A</td>\n",
       "      <td>V2</td>\n",
       "      <td>gasoline</td>\n",
       "      <td>high</td>\n",
       "      <td>SOHC</td>\n",
       "      <td>inline</td>\n",
       "      <td>...</td>\n",
       "      <td>Yes</td>\n",
       "      <td>Roller</td>\n",
       "      <td>high</td>\n",
       "      <td>linear</td>\n",
       "      <td>high</td>\n",
       "      <td>low</td>\n",
       "      <td>CD1</td>\n",
       "      <td>LD2</td>\n",
       "      <td>1</td>\n",
       "      <td>0</td>\n",
       "    </tr>\n",
       "    <tr>\n",
       "      <th>4</th>\n",
       "      <td>5005</td>\n",
       "      <td>4</td>\n",
       "      <td>f</td>\n",
       "      <td>L4</td>\n",
       "      <td>D</td>\n",
       "      <td>V5</td>\n",
       "      <td>petrol</td>\n",
       "      <td>high</td>\n",
       "      <td>SOHC</td>\n",
       "      <td>inline</td>\n",
       "      <td>...</td>\n",
       "      <td>Yes</td>\n",
       "      <td>Roller</td>\n",
       "      <td>high</td>\n",
       "      <td>linear</td>\n",
       "      <td>high</td>\n",
       "      <td>high</td>\n",
       "      <td>CD1</td>\n",
       "      <td>LD1</td>\n",
       "      <td>1</td>\n",
       "      <td>0</td>\n",
       "    </tr>\n",
       "  </tbody>\n",
       "</table>\n",
       "<p>5 rows × 23 columns</p>\n",
       "</div>"
      ],
      "text/plain": [
       "     ID Number of Cylinders material grade Lubrication Valve Type  \\\n",
       "0  5001                   4              c          L1          A   \n",
       "1  5002                   8              e          L1          B   \n",
       "2  5003                   8              c          L1          B   \n",
       "3  5004                   8              c          L1          A   \n",
       "4  5005                   4              f          L4          D   \n",
       "\n",
       "  Bearing Vendor Fuel Type Compression ratio cam arrangement  \\\n",
       "0             V2  gasoline              high            SOHC   \n",
       "1             V1  gasoline              high            SOHC   \n",
       "2             V3  gasoline               low            SOHC   \n",
       "3             V2  gasoline              high            SOHC   \n",
       "4             V5    petrol              high            SOHC   \n",
       "\n",
       "  Cylinder arragement  ...  Direct injection main bearing type displacement  \\\n",
       "0              inline  ...               Yes            Roller         high   \n",
       "1                   V  ...               Yes            Roller         high   \n",
       "2              inline  ...               Yes            Roller         high   \n",
       "3              inline  ...               Yes            Roller         high   \n",
       "4              inline  ...               Yes            Roller         high   \n",
       "\n",
       "  piston type Max. Torque Peak Power Crankshaft Design Liner Design  TestA  \\\n",
       "0      linear        high        low               CD1           LD1     0   \n",
       "1      linear        high       high               CD1           LD2     0   \n",
       "2      linear        high       high               CD1           LD2     1   \n",
       "3      linear        high        low               CD1           LD2     1   \n",
       "4      linear        high       high               CD1           LD1     1   \n",
       "\n",
       "  TestB  \n",
       "0     1  \n",
       "1     1  \n",
       "2     1  \n",
       "3     0  \n",
       "4     0  \n",
       "\n",
       "[5 rows x 23 columns]"
      ]
     },
     "execution_count": 215,
     "metadata": {},
     "output_type": "execute_result"
    }
   ],
   "source": [
    "testwithad.head()"
   ]
  },
  {
   "cell_type": "code",
   "execution_count": 217,
   "metadata": {
    "collapsed": true
   },
   "outputs": [],
   "source": [
    "trainfeature=trainwithad[features]\n",
    "testfeature=testwithad[features]"
   ]
  },
  {
   "cell_type": "code",
   "execution_count": 218,
   "metadata": {},
   "outputs": [
    {
     "name": "stderr",
     "output_type": "stream",
     "text": [
      "C:\\Users\\sandeep\\Anaconda3\\lib\\site-packages\\ipykernel_launcher.py:2: SettingWithCopyWarning: \n",
      "A value is trying to be set on a copy of a slice from a DataFrame.\n",
      "Try using .loc[row_indexer,col_indexer] = value instead\n",
      "\n",
      "See the caveats in the documentation: http://pandas.pydata.org/pandas-docs/stable/indexing.html#indexing-view-versus-copy\n",
      "  \n",
      "C:\\Users\\sandeep\\Anaconda3\\lib\\site-packages\\ipykernel_launcher.py:3: SettingWithCopyWarning: \n",
      "A value is trying to be set on a copy of a slice from a DataFrame.\n",
      "Try using .loc[row_indexer,col_indexer] = value instead\n",
      "\n",
      "See the caveats in the documentation: http://pandas.pydata.org/pandas-docs/stable/indexing.html#indexing-view-versus-copy\n",
      "  This is separate from the ipykernel package so we can avoid doing imports until\n"
     ]
    }
   ],
   "source": [
    "#Deriving feature from testA and testB columns\n",
    "trainfeature['derived']=trainwithad['TestA']+trainwithad['TestB']\n",
    "testfeature['derived']=testwithad['TestA']+testwithad['TestB']"
   ]
  },
  {
   "cell_type": "code",
   "execution_count": 220,
   "metadata": {},
   "outputs": [
    {
     "data": {
      "text/html": [
       "<div>\n",
       "<style>\n",
       "    .dataframe thead tr:only-child th {\n",
       "        text-align: right;\n",
       "    }\n",
       "\n",
       "    .dataframe thead th {\n",
       "        text-align: left;\n",
       "    }\n",
       "\n",
       "    .dataframe tbody tr th {\n",
       "        vertical-align: top;\n",
       "    }\n",
       "</style>\n",
       "<table border=\"1\" class=\"dataframe\">\n",
       "  <thead>\n",
       "    <tr style=\"text-align: right;\">\n",
       "      <th></th>\n",
       "      <th>Peak Power</th>\n",
       "      <th>Cylinder deactivation</th>\n",
       "      <th>Fuel Type</th>\n",
       "      <th>Compression ratio</th>\n",
       "      <th>material grade</th>\n",
       "      <th>derived</th>\n",
       "    </tr>\n",
       "  </thead>\n",
       "  <tbody>\n",
       "    <tr>\n",
       "      <th>0</th>\n",
       "      <td>low</td>\n",
       "      <td>No</td>\n",
       "      <td>gasoline</td>\n",
       "      <td>high</td>\n",
       "      <td>c</td>\n",
       "      <td>1</td>\n",
       "    </tr>\n",
       "    <tr>\n",
       "      <th>1</th>\n",
       "      <td>high</td>\n",
       "      <td>No</td>\n",
       "      <td>gasoline</td>\n",
       "      <td>high</td>\n",
       "      <td>e</td>\n",
       "      <td>1</td>\n",
       "    </tr>\n",
       "    <tr>\n",
       "      <th>2</th>\n",
       "      <td>high</td>\n",
       "      <td>No</td>\n",
       "      <td>gasoline</td>\n",
       "      <td>low</td>\n",
       "      <td>c</td>\n",
       "      <td>2</td>\n",
       "    </tr>\n",
       "    <tr>\n",
       "      <th>3</th>\n",
       "      <td>low</td>\n",
       "      <td>No</td>\n",
       "      <td>gasoline</td>\n",
       "      <td>high</td>\n",
       "      <td>c</td>\n",
       "      <td>1</td>\n",
       "    </tr>\n",
       "    <tr>\n",
       "      <th>4</th>\n",
       "      <td>high</td>\n",
       "      <td>Yes</td>\n",
       "      <td>petrol</td>\n",
       "      <td>high</td>\n",
       "      <td>f</td>\n",
       "      <td>1</td>\n",
       "    </tr>\n",
       "  </tbody>\n",
       "</table>\n",
       "</div>"
      ],
      "text/plain": [
       "  Peak Power Cylinder deactivation Fuel Type Compression ratio material grade  \\\n",
       "0        low                    No  gasoline              high              c   \n",
       "1       high                    No  gasoline              high              e   \n",
       "2       high                    No  gasoline               low              c   \n",
       "3        low                    No  gasoline              high              c   \n",
       "4       high                   Yes    petrol              high              f   \n",
       "\n",
       "   derived  \n",
       "0        1  \n",
       "1        1  \n",
       "2        2  \n",
       "3        1  \n",
       "4        1  "
      ]
     },
     "execution_count": 220,
     "metadata": {},
     "output_type": "execute_result"
    }
   ],
   "source": [
    "testfeature.head()"
   ]
  },
  {
   "cell_type": "code",
   "execution_count": 222,
   "metadata": {
    "collapsed": true
   },
   "outputs": [],
   "source": [
    "#Converting to dummy variables\n",
    "trainfeature=pd.get_dummies(trainfeature)\n",
    "testfeature=pd.get_dummies(testfeature)"
   ]
  },
  {
   "cell_type": "code",
   "execution_count": 223,
   "metadata": {},
   "outputs": [
    {
     "name": "stdout",
     "output_type": "stream",
     "text": [
      "(3156, 16)\n",
      "(1053, 16)\n"
     ]
    }
   ],
   "source": [
    "print(trainfeature.shape)\n",
    "print(testfeature.shape)"
   ]
  },
  {
   "cell_type": "code",
   "execution_count": 224,
   "metadata": {
    "collapsed": true
   },
   "outputs": [],
   "source": [
    "#Splitting data into X(input) and y(output) variables for model building\n",
    "X=trainfeature.values\n",
    "y=trainwithad['y'].values"
   ]
  },
  {
   "cell_type": "code",
   "execution_count": 225,
   "metadata": {
    "collapsed": true
   },
   "outputs": [],
   "source": [
    "X_train,X_test,y_train,y_test=train_test_split(X,y,test_size=0.3,random_state=42)"
   ]
  },
  {
   "cell_type": "code",
   "execution_count": 226,
   "metadata": {},
   "outputs": [
    {
     "data": {
      "text/plain": [
       "GradientBoostingClassifier(criterion='friedman_mse', init=None,\n",
       "              learning_rate=0.1, loss='deviance', max_depth=3,\n",
       "              max_features=None, max_leaf_nodes=None,\n",
       "              min_impurity_split=1e-07, min_samples_leaf=1,\n",
       "              min_samples_split=2, min_weight_fraction_leaf=0.0,\n",
       "              n_estimators=100, presort='auto', random_state=None,\n",
       "              subsample=1.0, verbose=0, warm_start=False)"
      ]
     },
     "execution_count": 226,
     "metadata": {},
     "output_type": "execute_result"
    }
   ],
   "source": [
    "#Importing Gradient Boost Classifier\n",
    "from sklearn.ensemble import GradientBoostingClassifier\n",
    "griboost=GradientBoostingClassifier()\n",
    "griboost.fit(X_train,y_train)"
   ]
  },
  {
   "cell_type": "code",
   "execution_count": 227,
   "metadata": {},
   "outputs": [
    {
     "name": "stdout",
     "output_type": "stream",
     "text": [
      "Gradient Boost Accuracy: 0.856388595565\n"
     ]
    }
   ],
   "source": [
    "#Doing predictions on test data\n",
    "predgriboost=griboost.predict(X_test)\n",
    "print('Gradient Boost Accuracy:',accuracy_score(y_test,predgriboost))\n",
    "acc_griboost=accuracy_score(y_test,predgriboost)"
   ]
  },
  {
   "cell_type": "code",
   "execution_count": 228,
   "metadata": {},
   "outputs": [
    {
     "name": "stdout",
     "output_type": "stream",
     "text": [
      "Cross validation score Gradient Boost: 0.862200677256\n"
     ]
    }
   ],
   "source": [
    "#Performing 10 fold cross validation on Gradient Boost\n",
    "scoregriboost=cross_val_score(griboost,X,y,cv=10,scoring='accuracy')\n",
    "print('Cross validation score Gradient Boost:',scoregriboost.mean())"
   ]
  },
  {
   "cell_type": "code",
   "execution_count": 229,
   "metadata": {
    "collapsed": true
   },
   "outputs": [],
   "source": [
    "##Tuning Gradient Boost Model\n",
    "params = {'learning_rate':(0.01,0.1,0.3,0.5,1), \n",
    "          'n_estimators':(50,100,150,200),\n",
    "         \"min_samples_leaf\": [1,3,5,7,10]}"
   ]
  },
  {
   "cell_type": "code",
   "execution_count": 232,
   "metadata": {
    "collapsed": true
   },
   "outputs": [],
   "source": [
    "gridgriboost = GridSearchCV(griboost,params, n_jobs=-1, cv=10, verbose=1, scoring='accuracy')"
   ]
  },
  {
   "cell_type": "code",
   "execution_count": 233,
   "metadata": {},
   "outputs": [
    {
     "name": "stdout",
     "output_type": "stream",
     "text": [
      "Fitting 10 folds for each of 100 candidates, totalling 1000 fits\n"
     ]
    },
    {
     "name": "stderr",
     "output_type": "stream",
     "text": [
      "[Parallel(n_jobs=-1)]: Done  34 tasks      | elapsed:    5.2s\n",
      "[Parallel(n_jobs=-1)]: Done 184 tasks      | elapsed:   18.7s\n",
      "[Parallel(n_jobs=-1)]: Done 434 tasks      | elapsed:   41.6s\n",
      "[Parallel(n_jobs=-1)]: Done 784 tasks      | elapsed:  1.2min\n",
      "[Parallel(n_jobs=-1)]: Done 1000 out of 1000 | elapsed:  1.5min finished\n"
     ]
    },
    {
     "data": {
      "text/plain": [
       "GridSearchCV(cv=10, error_score='raise',\n",
       "       estimator=GradientBoostingClassifier(criterion='friedman_mse', init=None,\n",
       "              learning_rate=0.1, loss='deviance', max_depth=3,\n",
       "              max_features=None, max_leaf_nodes=None,\n",
       "              min_impurity_split=1e-07, min_samples_leaf=1,\n",
       "              min_samples_split=2, min_weight_fraction_leaf=0.0,\n",
       "              n_estimators=100, presort='auto', random_state=None,\n",
       "              subsample=1.0, verbose=0, warm_start=False),\n",
       "       fit_params={}, iid=True, n_jobs=-1,\n",
       "       param_grid={'learning_rate': (0.01, 0.1, 0.3, 0.5, 1), 'n_estimators': (50, 100, 150, 200), 'min_samples_leaf': [1, 3, 5, 7, 10]},\n",
       "       pre_dispatch='2*n_jobs', refit=True, return_train_score=True,\n",
       "       scoring='accuracy', verbose=1)"
      ]
     },
     "execution_count": 233,
     "metadata": {},
     "output_type": "execute_result"
    }
   ],
   "source": [
    "gridgriboost.fit(X, y)"
   ]
  },
  {
   "cell_type": "code",
   "execution_count": 234,
   "metadata": {},
   "outputs": [
    {
     "name": "stdout",
     "output_type": "stream",
     "text": [
      "0.863751584284\n",
      "{'learning_rate': 0.01, 'min_samples_leaf': 1, 'n_estimators': 50}\n",
      "GradientBoostingClassifier(criterion='friedman_mse', init=None,\n",
      "              learning_rate=0.01, loss='deviance', max_depth=3,\n",
      "              max_features=None, max_leaf_nodes=None,\n",
      "              min_impurity_split=1e-07, min_samples_leaf=1,\n",
      "              min_samples_split=2, min_weight_fraction_leaf=0.0,\n",
      "              n_estimators=50, presort='auto', random_state=None,\n",
      "              subsample=1.0, verbose=0, warm_start=False)\n"
     ]
    }
   ],
   "source": [
    "# examine the best model\n",
    "print(gridgriboost.best_score_)\n",
    "print(gridgriboost.best_params_)\n",
    "print(gridgriboost.best_estimator_)"
   ]
  },
  {
   "cell_type": "code",
   "execution_count": 239,
   "metadata": {},
   "outputs": [
    {
     "data": {
      "text/plain": [
       "AdaBoostClassifier(algorithm='SAMME.R', base_estimator=None,\n",
       "          learning_rate=1.0, n_estimators=50, random_state=None)"
      ]
     },
     "execution_count": 239,
     "metadata": {},
     "output_type": "execute_result"
    }
   ],
   "source": [
    "#Importing AdaBoost Classifier\n",
    "from sklearn.ensemble import AdaBoostClassifier\n",
    "adi=AdaBoostClassifier()\n",
    "adi.fit(X_train,y_train)"
   ]
  },
  {
   "cell_type": "code",
   "execution_count": 240,
   "metadata": {},
   "outputs": [
    {
     "name": "stdout",
     "output_type": "stream",
     "text": [
      "AdaBoost Accuracy: 0.856388595565\n"
     ]
    }
   ],
   "source": [
    "#Doing predictions on test data\n",
    "predadai=adi.predict(X_test)\n",
    "print('AdaBoost Accuracy:',accuracy_score(y_test,predadai))\n",
    "acc_adai=accuracy_score(y_test,predadai)"
   ]
  },
  {
   "cell_type": "code",
   "execution_count": 241,
   "metadata": {},
   "outputs": [
    {
     "name": "stdout",
     "output_type": "stream",
     "text": [
      "Cross validation score Ada Boost: 0.863784971378\n"
     ]
    }
   ],
   "source": [
    "#Performing 10 fold cross validation on AdaBoost\n",
    "scoreadai=cross_val_score(adi,X,y,cv=10,scoring='accuracy')\n",
    "print('Cross validation score Ada Boost:',scoreadai.mean())"
   ]
  },
  {
   "cell_type": "code",
   "execution_count": 242,
   "metadata": {
    "collapsed": true
   },
   "outputs": [],
   "source": [
    "##Tuning AdaBoost Model\n",
    "params = {'learning_rate':(0.01,0.1, 0.5,1), \n",
    "          'n_estimators':(50,100,150)}"
   ]
  },
  {
   "cell_type": "code",
   "execution_count": 243,
   "metadata": {
    "collapsed": true
   },
   "outputs": [],
   "source": [
    "gridadai = GridSearchCV(adi,params, n_jobs=-1, cv=10, verbose=1, scoring='accuracy')"
   ]
  },
  {
   "cell_type": "code",
   "execution_count": 244,
   "metadata": {},
   "outputs": [
    {
     "name": "stdout",
     "output_type": "stream",
     "text": [
      "Fitting 10 folds for each of 12 candidates, totalling 120 fits\n"
     ]
    },
    {
     "name": "stderr",
     "output_type": "stream",
     "text": [
      "[Parallel(n_jobs=-1)]: Done  34 tasks      | elapsed:    5.1s\n",
      "[Parallel(n_jobs=-1)]: Done 120 out of 120 | elapsed:   13.3s finished\n"
     ]
    },
    {
     "data": {
      "text/plain": [
       "GridSearchCV(cv=10, error_score='raise',\n",
       "       estimator=AdaBoostClassifier(algorithm='SAMME.R', base_estimator=None,\n",
       "          learning_rate=1.0, n_estimators=50, random_state=None),\n",
       "       fit_params={}, iid=True, n_jobs=-1,\n",
       "       param_grid={'learning_rate': (0.01, 0.1, 0.5, 1), 'n_estimators': (50, 100, 150)},\n",
       "       pre_dispatch='2*n_jobs', refit=True, return_train_score=True,\n",
       "       scoring='accuracy', verbose=1)"
      ]
     },
     "execution_count": 244,
     "metadata": {},
     "output_type": "execute_result"
    }
   ],
   "source": [
    "gridadai.fit(X, y)"
   ]
  },
  {
   "cell_type": "code",
   "execution_count": 245,
   "metadata": {},
   "outputs": [
    {
     "name": "stdout",
     "output_type": "stream",
     "text": [
      "0.863751584284\n",
      "{'learning_rate': 0.1, 'n_estimators': 50}\n",
      "AdaBoostClassifier(algorithm='SAMME.R', base_estimator=None,\n",
      "          learning_rate=0.1, n_estimators=50, random_state=None)\n"
     ]
    }
   ],
   "source": [
    "# examine the best model\n",
    "print(gridadai.best_score_)\n",
    "print(gridadai.best_params_)\n",
    "print(gridadai.best_estimator_)"
   ]
  },
  {
   "cell_type": "markdown",
   "metadata": {},
   "source": [
    "## Doing Predictions on Final Test Data with revised Feature"
   ]
  },
  {
   "cell_type": "code",
   "execution_count": 246,
   "metadata": {
    "collapsed": true
   },
   "outputs": [],
   "source": [
    "X_testpred=testfeature.values"
   ]
  },
  {
   "cell_type": "code",
   "execution_count": 236,
   "metadata": {
    "collapsed": true
   },
   "outputs": [],
   "source": [
    "#Doing Predictions using Gradient Boost tuned Model\n",
    "predtestgriboost=gridgriboost.predict(X_testpred)"
   ]
  },
  {
   "cell_type": "code",
   "execution_count": 237,
   "metadata": {
    "collapsed": true
   },
   "outputs": [],
   "source": [
    "#Creating predictions Dataframe and Mapping 1 with Pass and 0 with Fail\n",
    "predictions=pd.DataFrame({'ID': testwithad['ID'],'y':predtestgriboost})\n",
    "predictions['y']=predictions['y'].map({1:'pass',0:'fail'})"
   ]
  },
  {
   "cell_type": "code",
   "execution_count": 238,
   "metadata": {
    "collapsed": true
   },
   "outputs": [],
   "source": [
    "#Saving GradientBoost tuned Predictions\n",
    "predictions.to_csv('predictionsgriboost.csv',index=False)"
   ]
  },
  {
   "cell_type": "code",
   "execution_count": 247,
   "metadata": {
    "collapsed": true
   },
   "outputs": [],
   "source": [
    "#Doing Predictions using AdaBoost tuned Model\n",
    "predtestadai=gridadai.predict(X_testpred)"
   ]
  },
  {
   "cell_type": "code",
   "execution_count": 248,
   "metadata": {
    "collapsed": true
   },
   "outputs": [],
   "source": [
    "#Creating predictions Dataframe and Mapping 1 with Pass and 0 with Fail\n",
    "predictions=pd.DataFrame({'ID': testwithad['ID'],'y':predtestadai})\n",
    "predictions['y']=predictions['y'].map({1:'pass',0:'fail'})"
   ]
  },
  {
   "cell_type": "code",
   "execution_count": 249,
   "metadata": {
    "collapsed": true
   },
   "outputs": [],
   "source": [
    "#Saving Adaboost tuned Predictions\n",
    "predictions.to_csv('predictionsadai.csv',index=False)"
   ]
  },
  {
   "cell_type": "code",
   "execution_count": null,
   "metadata": {
    "collapsed": true
   },
   "outputs": [],
   "source": []
  }
 ],
 "metadata": {
  "kernelspec": {
   "display_name": "Python 3",
   "language": "python",
   "name": "python3"
  },
  "language_info": {
   "codemirror_mode": {
    "name": "ipython",
    "version": 3
   },
   "file_extension": ".py",
   "mimetype": "text/x-python",
   "name": "python",
   "nbconvert_exporter": "python",
   "pygments_lexer": "ipython3",
   "version": "3.8.5"
  }
 },
 "nbformat": 4,
 "nbformat_minor": 2
}
