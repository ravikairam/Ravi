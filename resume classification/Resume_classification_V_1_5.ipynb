{
 "cells": [
  {
   "cell_type": "markdown",
   "metadata": {},
   "source": [
    "Revision History: Changed the way Punctuations are handled"
   ]
  },
  {
   "cell_type": "markdown",
   "metadata": {},
   "source": [
    "### Importing all the required Modules"
   ]
  },
  {
   "cell_type": "code",
   "execution_count": 1,
   "metadata": {},
   "outputs": [
    {
     "name": "stdout",
     "output_type": "stream",
     "text": [
      "Requirement already satisfied: tensorflow==2.1 in /home/ravikrishnak/anaconda3/lib/python3.7/site-packages (2.1.0)\n",
      "Requirement already satisfied: google-pasta>=0.1.6 in /home/ravikrishnak/anaconda3/lib/python3.7/site-packages (from tensorflow==2.1) (0.1.8)\n",
      "Requirement already satisfied: wrapt>=1.11.1 in /home/ravikrishnak/anaconda3/lib/python3.7/site-packages (from tensorflow==2.1) (1.11.2)\n",
      "Requirement already satisfied: tensorboard<2.2.0,>=2.1.0 in /home/ravikrishnak/anaconda3/lib/python3.7/site-packages (from tensorflow==2.1) (2.1.0)\n",
      "Requirement already satisfied: numpy<2.0,>=1.16.0 in /home/ravikrishnak/anaconda3/lib/python3.7/site-packages (from tensorflow==2.1) (1.18.1)\n",
      "Requirement already satisfied: absl-py>=0.7.0 in /home/ravikrishnak/anaconda3/lib/python3.7/site-packages (from tensorflow==2.1) (0.9.0)\n",
      "Requirement already satisfied: astor>=0.6.0 in /home/ravikrishnak/anaconda3/lib/python3.7/site-packages (from tensorflow==2.1) (0.8.1)\n",
      "Requirement already satisfied: six>=1.12.0 in /home/ravikrishnak/anaconda3/lib/python3.7/site-packages (from tensorflow==2.1) (1.12.0)\n",
      "Requirement already satisfied: keras-preprocessing>=1.1.0 in /home/ravikrishnak/anaconda3/lib/python3.7/site-packages (from tensorflow==2.1) (1.1.0)\n",
      "Requirement already satisfied: grpcio>=1.8.6 in /home/ravikrishnak/anaconda3/lib/python3.7/site-packages (from tensorflow==2.1) (1.27.2)\n",
      "Requirement already satisfied: tensorflow-estimator<2.2.0,>=2.1.0rc0 in /home/ravikrishnak/anaconda3/lib/python3.7/site-packages (from tensorflow==2.1) (2.1.0)\n",
      "Requirement already satisfied: wheel>=0.26; python_version >= \"3\" in /home/ravikrishnak/anaconda3/lib/python3.7/site-packages (from tensorflow==2.1) (0.33.6)\n",
      "Requirement already satisfied: protobuf>=3.8.0 in /home/ravikrishnak/anaconda3/lib/python3.7/site-packages (from tensorflow==2.1) (3.11.3)\n",
      "Requirement already satisfied: scipy==1.4.1; python_version >= \"3\" in /home/ravikrishnak/anaconda3/lib/python3.7/site-packages (from tensorflow==2.1) (1.4.1)\n",
      "Requirement already satisfied: keras-applications>=1.0.8 in /home/ravikrishnak/anaconda3/lib/python3.7/site-packages (from tensorflow==2.1) (1.0.8)\n",
      "Requirement already satisfied: gast==0.2.2 in /home/ravikrishnak/anaconda3/lib/python3.7/site-packages (from tensorflow==2.1) (0.2.2)\n",
      "Requirement already satisfied: opt-einsum>=2.3.2 in /home/ravikrishnak/anaconda3/lib/python3.7/site-packages (from tensorflow==2.1) (3.1.0)\n",
      "Requirement already satisfied: termcolor>=1.1.0 in /home/ravikrishnak/anaconda3/lib/python3.7/site-packages (from tensorflow==2.1) (1.1.0)\n",
      "Requirement already satisfied: google-auth-oauthlib<0.5,>=0.4.1 in /home/ravikrishnak/anaconda3/lib/python3.7/site-packages (from tensorboard<2.2.0,>=2.1.0->tensorflow==2.1) (0.4.1)\n",
      "Requirement already satisfied: setuptools>=41.0.0 in /home/ravikrishnak/anaconda3/lib/python3.7/site-packages (from tensorboard<2.2.0,>=2.1.0->tensorflow==2.1) (41.4.0)\n",
      "Requirement already satisfied: requests<3,>=2.21.0 in /home/ravikrishnak/anaconda3/lib/python3.7/site-packages (from tensorboard<2.2.0,>=2.1.0->tensorflow==2.1) (2.22.0)\n",
      "Requirement already satisfied: markdown>=2.6.8 in /home/ravikrishnak/anaconda3/lib/python3.7/site-packages (from tensorboard<2.2.0,>=2.1.0->tensorflow==2.1) (3.2.1)\n",
      "Requirement already satisfied: werkzeug>=0.11.15 in /home/ravikrishnak/anaconda3/lib/python3.7/site-packages (from tensorboard<2.2.0,>=2.1.0->tensorflow==2.1) (0.16.0)\n",
      "Requirement already satisfied: google-auth<2,>=1.6.3 in /home/ravikrishnak/anaconda3/lib/python3.7/site-packages (from tensorboard<2.2.0,>=2.1.0->tensorflow==2.1) (1.11.2)\n",
      "Requirement already satisfied: h5py in /home/ravikrishnak/anaconda3/lib/python3.7/site-packages (from keras-applications>=1.0.8->tensorflow==2.1) (2.9.0)\n",
      "Requirement already satisfied: requests-oauthlib>=0.7.0 in /home/ravikrishnak/anaconda3/lib/python3.7/site-packages (from google-auth-oauthlib<0.5,>=0.4.1->tensorboard<2.2.0,>=2.1.0->tensorflow==2.1) (1.3.0)\n",
      "Requirement already satisfied: chardet<3.1.0,>=3.0.2 in /home/ravikrishnak/anaconda3/lib/python3.7/site-packages (from requests<3,>=2.21.0->tensorboard<2.2.0,>=2.1.0->tensorflow==2.1) (3.0.4)\n",
      "Requirement already satisfied: certifi>=2017.4.17 in /home/ravikrishnak/anaconda3/lib/python3.7/site-packages (from requests<3,>=2.21.0->tensorboard<2.2.0,>=2.1.0->tensorflow==2.1) (2019.9.11)\n",
      "Requirement already satisfied: urllib3!=1.25.0,!=1.25.1,<1.26,>=1.21.1 in /home/ravikrishnak/anaconda3/lib/python3.7/site-packages (from requests<3,>=2.21.0->tensorboard<2.2.0,>=2.1.0->tensorflow==2.1) (1.24.2)\n",
      "Requirement already satisfied: idna<2.9,>=2.5 in /home/ravikrishnak/anaconda3/lib/python3.7/site-packages (from requests<3,>=2.21.0->tensorboard<2.2.0,>=2.1.0->tensorflow==2.1) (2.8)\n",
      "Requirement already satisfied: cachetools<5.0,>=2.0.0 in /home/ravikrishnak/anaconda3/lib/python3.7/site-packages (from google-auth<2,>=1.6.3->tensorboard<2.2.0,>=2.1.0->tensorflow==2.1) (4.0.0)\n",
      "Requirement already satisfied: rsa<4.1,>=3.1.4 in /home/ravikrishnak/anaconda3/lib/python3.7/site-packages (from google-auth<2,>=1.6.3->tensorboard<2.2.0,>=2.1.0->tensorflow==2.1) (4.0)\n",
      "Requirement already satisfied: pyasn1-modules>=0.2.1 in /home/ravikrishnak/anaconda3/lib/python3.7/site-packages (from google-auth<2,>=1.6.3->tensorboard<2.2.0,>=2.1.0->tensorflow==2.1) (0.2.8)\n",
      "Requirement already satisfied: oauthlib>=3.0.0 in /home/ravikrishnak/anaconda3/lib/python3.7/site-packages (from requests-oauthlib>=0.7.0->google-auth-oauthlib<0.5,>=0.4.1->tensorboard<2.2.0,>=2.1.0->tensorflow==2.1) (3.1.0)\n",
      "Requirement already satisfied: pyasn1>=0.1.3 in /home/ravikrishnak/anaconda3/lib/python3.7/site-packages (from rsa<4.1,>=3.1.4->google-auth<2,>=1.6.3->tensorboard<2.2.0,>=2.1.0->tensorflow==2.1) (0.4.8)\n",
      "Requirement already satisfied: nltk in /home/ravikrishnak/anaconda3/lib/python3.7/site-packages (3.4.5)\n",
      "Requirement already satisfied: six in /home/ravikrishnak/anaconda3/lib/python3.7/site-packages (from nltk) (1.12.0)\n",
      "Requirement already satisfied: tika in /home/ravikrishnak/anaconda3/lib/python3.7/site-packages (1.23.1)\n",
      "Requirement already satisfied: requests in /home/ravikrishnak/anaconda3/lib/python3.7/site-packages (from tika) (2.22.0)\n",
      "Requirement already satisfied: setuptools in /home/ravikrishnak/anaconda3/lib/python3.7/site-packages (from tika) (41.4.0)\n",
      "Requirement already satisfied: chardet<3.1.0,>=3.0.2 in /home/ravikrishnak/anaconda3/lib/python3.7/site-packages (from requests->tika) (3.0.4)\n",
      "Requirement already satisfied: idna<2.9,>=2.5 in /home/ravikrishnak/anaconda3/lib/python3.7/site-packages (from requests->tika) (2.8)\n",
      "Requirement already satisfied: certifi>=2017.4.17 in /home/ravikrishnak/anaconda3/lib/python3.7/site-packages (from requests->tika) (2019.9.11)\n",
      "Requirement already satisfied: urllib3!=1.25.0,!=1.25.1,<1.26,>=1.21.1 in /home/ravikrishnak/anaconda3/lib/python3.7/site-packages (from requests->tika) (1.24.2)\n",
      "Requirement already satisfied: textblob in /home/ravikrishnak/anaconda3/lib/python3.7/site-packages (0.15.3)\n",
      "Requirement already satisfied: nltk>=3.1 in /home/ravikrishnak/anaconda3/lib/python3.7/site-packages (from textblob) (3.4.5)\n",
      "Requirement already satisfied: six in /home/ravikrishnak/anaconda3/lib/python3.7/site-packages (from nltk>=3.1->textblob) (1.12.0)\n",
      "/usr/bin/sh: pip3: command not found\n",
      "Requirement already satisfied: scikit-learn in /home/ravikrishnak/anaconda3/lib/python3.7/site-packages (0.21.3)\n",
      "Requirement already satisfied: joblib>=0.11 in /home/ravikrishnak/anaconda3/lib/python3.7/site-packages (from scikit-learn) (0.13.2)\n",
      "Requirement already satisfied: numpy>=1.11.0 in /home/ravikrishnak/anaconda3/lib/python3.7/site-packages (from scikit-learn) (1.18.1)\n",
      "Requirement already satisfied: scipy>=0.17.0 in /home/ravikrishnak/anaconda3/lib/python3.7/site-packages (from scikit-learn) (1.4.1)\n"
     ]
    }
   ],
   "source": [
    "!pip install tensorflow==2.1\n",
    "!pip install nltk\n",
    "!pip install tika\n",
    "!pip install textblob\n",
    "!pip3 install --upgrade numpy\n",
    "!pip install scikit-learn"
   ]
  },
  {
   "cell_type": "code",
   "execution_count": 2,
   "metadata": {},
   "outputs": [],
   "source": [
    "# To handle Paths\n",
    "import os\n",
    "\n",
    "# To remove Hyperlinks and Dates\n",
    "import re\n",
    "\n",
    "# To remove Puncutations\n",
    "import string\n",
    "\n",
    "'''\n",
    "# For Tokenization and Accessing Stopwords\n",
    "import nltk\n",
    "from nltk.corpus import stopwords\n",
    "from nltk import word_tokenize\n",
    "nltk.download('punkt')\n",
    "'''\n",
    "\n",
    "# This helps to remove the unnecessary words from our Text Data\n",
    "from nltk.corpus import stopwords\n",
    "STOPWORDS = set(stopwords.words('english'))\n",
    "\n",
    "# To Parse the Input Data Files\n",
    "from tika import parser\n",
    "\n",
    "from textblob import TextBlob\n",
    "\n",
    "# In order to use the Libraries of Tensorflow\n",
    "import tensorflow as tf\n",
    "\n",
    "# For Preprocessing the Text => To Tokenize the Text\n",
    "from tensorflow.keras.preprocessing.text import Tokenizer\n",
    "# If the Two Articles are of different length, pad_sequences will make the length equal\n",
    "from tensorflow.keras.preprocessing.sequence import pad_sequences\n",
    "\n",
    "# Package for performing Numerical Operations\n",
    "import numpy as np\n",
    "\n",
    "# MatplotLib for Plotting Graphs\n",
    "import matplotlib.pyplot as plt\n",
    "\n",
    "# To shuffle the Data\n",
    "from random import shuffle\n",
    "\n",
    "# To Partition the Data into Train Data and Test Data\n",
    "from sklearn.model_selection import train_test_split\n",
    "\n",
    "# To add Regularizer in order to reduce Overfitting\n",
    "from tensorflow.keras.regularizers import l2"
   ]
  },
  {
   "cell_type": "code",
   "execution_count": 3,
   "metadata": {},
   "outputs": [
    {
     "data": {
      "text/plain": [
       "'2.1.0'"
      ]
     },
     "execution_count": 3,
     "metadata": {},
     "output_type": "execute_result"
    }
   ],
   "source": [
    "tf.__version__"
   ]
  },
  {
   "cell_type": "code",
   "execution_count": 4,
   "metadata": {},
   "outputs": [
    {
     "name": "stdout",
     "output_type": "stream",
     "text": [
      "['Civil', 'Python', 'SAP', 'Mechanical', 'Networking', 'Testing']\n"
     ]
    }
   ],
   "source": [
    "# Give the Path of our Data\n",
    "Path_Of_Data = '/home/ravikrishnak/Desktop/REsume classification/New_Data'\n",
    "\n",
    "# Extract the Labels from the Folders inside the Path mentioned above\n",
    "Unique_Labels_List = os.listdir(Path_Of_Data)\n",
    "print(Unique_Labels_List)"
   ]
  },
  {
   "cell_type": "code",
   "execution_count": 5,
   "metadata": {},
   "outputs": [],
   "source": [
    "def Pre_Process_Data_And_Create_BOW(folder_path):\n",
    "  #creating empty lists in order to Create Resume Text and the respective Label\n",
    "  Resumes_List = [] \n",
    "  Labels_List = []\n",
    "  for EachLabel in Unique_Labels_List:      \n",
    "      for root, dirs, files in os.walk(os.path.join(folder_path, EachLabel),topdown=False):\n",
    "        for file in files:\n",
    "          i = 0\n",
    "          if file.endswith('.pdf'):\n",
    "            #Access individual file\n",
    "            Full_Resume_Path = os.path.join(root, file)\n",
    "            # Parse the Data inside the file\n",
    "            file_data = parser.from_file(Full_Resume_Path)\n",
    "            # Extract the Content of the File\n",
    "            Resume_Text = file_data['content']\n",
    "            \n",
    "            # Below Code removes the Hyperlinks in the Resume, like LinkedIn Profile, Certifications, etc..\n",
    "            HyperLink_Regex = r'http[s]?://(?:[a-zA-Z]|[0-9]|[$-_@.&+]|[!*\\(\\), ]|(?:%[0-9a-fA-F][0-9a-fA-F]))+'\n",
    "            Text_Without_HL = re.sub(HyperLink_Regex, ' ', Resume_Text, flags=re.MULTILINE)\n",
    "\n",
    "            # Below Code removes the Date from the Resume\n",
    "            Date_regEx = r'(?:\\d{1,2}[-/th|st|nd|rd\\s]*)?(?:Jan|Feb|Mar|Apr|May|Jun|Jul|Aug|Sep|Oct|Nov|Dec)?[a-z\\s,.]*(?:\\d{1,2}[-/th|st|nd|rd)\\s,]*)+(?:\\d{2,4})+'\n",
    "            CleanedText = re.sub(Date_regEx,' ',Text_Without_HL)\n",
    "\n",
    "            List_Of_All_Punctuations = list(string.punctuation)\n",
    "            Important_Punctuations = ['#', '.', '+' , '-'] #Add more, if any other Punctuation is observed as Important\n",
    "\n",
    "            NewLineChar = '\\n'\n",
    "\n",
    "            # Below Set Comprises all the Punctuations, which can be Removed from the Text of Resume\n",
    "            Total_Punct = len(List_Of_All_Punctuations)\n",
    "\n",
    "            for EachImpPunct in Important_Punctuations:\n",
    "                for CountOfPunct in range(Total_Punct):\n",
    "                    if CountOfPunct == Total_Punct:\n",
    "                        break\n",
    "                    elif EachImpPunct == List_Of_All_Punctuations[CountOfPunct]:\n",
    "                        del List_Of_All_Punctuations[CountOfPunct]\n",
    "                        Total_Punct = Total_Punct - 1\n",
    "\n",
    "            List_Of_All_Punctuations.append(NewLineChar)\n",
    "\n",
    "            for EachPunct in List_Of_All_Punctuations:\n",
    "                CleanedText = CleanedText.replace(EachPunct, \" \")\n",
    "            \n",
    "            # Below Code converts all the Words in the Resume to Lowercase ======> Check if it has to come after Tokenization if Splitting Code is delet instead of integed\n",
    "            #Final_Cleaned_Resume_Text = Text_Without_Punct.lower()\n",
    "            Final_Cleaned_Resume_Text = CleanedText.lower()\n",
    "\n",
    "            #Code to remove Stopwords from each Resume\n",
    "            for word in STOPWORDS:\n",
    "                #stop_token = ' ' + word + ' '\n",
    "                stop_token = word\n",
    "                Resume_Text = Final_Cleaned_Resume_Text.replace(stop_token, ' ')\n",
    "                #Resume_Text = Resume_Text.replace(' ', ' ')\n",
    "            Resumes_List.append(Resume_Text)\n",
    "            Labels_List.append(EachLabel)\n",
    "      #print('Successfully executed for the Folder, ', EachLabel)\n",
    "  #Return Final Lists\n",
    "  return Resumes_List, Labels_List"
   ]
  },
  {
   "cell_type": "code",
   "execution_count": 6,
   "metadata": {},
   "outputs": [],
   "source": [
    "#calling the function and passing the path\n",
    "Resumes_List,  Labels_List = Pre_Process_Data_And_Create_BOW(Path_Of_Data)"
   ]
  },
  {
   "cell_type": "code",
   "execution_count": 7,
   "metadata": {},
   "outputs": [
    {
     "data": {
      "text/plain": [
       "'   …   … 1 3  current designation  billing nd civil site engineer  current company  kailash infrastructure pvt. ltd  current location  delhi  pref. location  delhi   ncr jaipur lucknow  functional area  site engineering   project management  role  construction-general building  industry  oil and gas power infrastructure energy  date of birth   gender      male  marital status  single unmarried  total experience  3 year s  7 month s   annual salary  rs 3.55 lac s   notice period  15 days or less  highest degree  pg diploma  civil   address  blocke- nearambedkarpark samratchowk - vijaynaga  ghaziabad -   verified    phone number     email - id   kailash infrastructure pvt. ltd as billing nd civil site engineer    to till date client -siemens gamesa renwable enegry  environment -  mw wind power project. costofproject  cr.   som projectspvt.ltd as junior engineer civil   to   client -tatamotorsltd. environment -industrialconstructiondivision. costofproject  cr.  id  af  last active  17-dec-19 last modified  17-dec-19  navneet thakur       billing   site engineer seeking assignment in project management construction management site management contract management project planning civil engineering project execution quantity surveying billing engineering estimation engineering autocad   key skills  billing   site engineer construction-general building project management construction management site management contract management project planning civil engineering project execution quantity surveying billing engineering autocad ms project     summary a sr civil engg site incharge with exposure to site incharge for civil construction work responsibilities  including report analysis   map given by site architect.     work experience     education  javascript void    …   … 2 3  ug  b.tech b.e.  civil  from js u   pg  pg diploma  civil  from board of technical education  bte    other qualifications certifications programs   diplomaincivileeng  nature of employment  full time project location  gujrat bhuj role  project leader  duration    -   onsite   offsite  onsite team size  26     nature of employment  full time project location  pune pimpri pvbu role  project leader  duration    -   onsite   offsite  onsite team size  14     nature of employment  full time project location  pune chinchwad car plant role  project leader  duration    -   onsite   offsite  onsite team size  23     nature of employment  full time project location  pune chinchwad  duration    -   onsite   offsite  onsite          it skills  skill name version last used experience  autocad  languages known  language proficiency read write speak  english proficient      punjabi expert      gujarati proficient      hindi      marathi         projects  project title  wind foundation project client  suzlon energy   skill used  best performance on site.. role description  civil site incharge project details  mp wind energy project  project title  building structures nd facilities client  tata motors   role description  site incharge project details  3 floor building project with ground label work  project title  footing  column  slabe nd beam casting nd line out as a drawing detials  client  tata motors   role description  civil site incharge project details  3 floor building project with ground label  project title  pipe line client  tata m   …   … 3 3  role  test engineer team size  6  affirmative action category  general  physically challenged  no  work authorization us work status  us citizen  countries  india australia dubai  job type  permanent   temporary  employment status  full time   role description  site engineer project details  under ground stome water l mtr      '"
      ]
     },
     "execution_count": 7,
     "metadata": {},
     "output_type": "execute_result"
    }
   ],
   "source": [
    "Resumes_List[0]"
   ]
  },
  {
   "cell_type": "code",
   "execution_count": 8,
   "metadata": {},
   "outputs": [
    {
     "data": {
      "text/plain": [
       "list"
      ]
     },
     "execution_count": 8,
     "metadata": {},
     "output_type": "execute_result"
    }
   ],
   "source": [
    "type(Resumes_List)"
   ]
  },
  {
   "cell_type": "code",
   "execution_count": 9,
   "metadata": {},
   "outputs": [
    {
     "name": "stdout",
     "output_type": "stream",
     "text": [
      "Total Number of Classes are  6\n",
      "Total Number of Resumes are  1963\n",
      "Total Number of Labels are  1963\n"
     ]
    }
   ],
   "source": [
    "print(\"Total Number of Classes are \", len(Unique_Labels_List))\n",
    "print(\"Total Number of Resumes are \", len(Resumes_List))\n",
    "print(\"Total Number of Labels are \", len(Labels_List))"
   ]
  },
  {
   "cell_type": "code",
   "execution_count": 10,
   "metadata": {},
   "outputs": [],
   "source": [
    "# Code to Delete the Duplicate Resumes and the Respective Labels\n",
    "\n",
    "Total_Number_Of_Resumes = len(Resumes_List)\n",
    "\n",
    "Count = 0\n",
    "\n",
    "for Each_Resume in Resumes_List:\n",
    "    \n",
    "    for Instance_Count in range(Count+1, Total_Number_Of_Resumes):\n",
    "        if Instance_Count == Total_Number_Of_Resumes:\n",
    "            break\n",
    "        elif Each_Resume == Resumes_List[Instance_Count]:\n",
    "          del Resumes_List[Instance_Count]\n",
    "          del Labels_List[Instance_Count]\n",
    "          Total_Number_Of_Resumes = Total_Number_Of_Resumes - 1\n",
    "    Count = Count + 1"
   ]
  },
  {
   "cell_type": "code",
   "execution_count": 11,
   "metadata": {},
   "outputs": [
    {
     "name": "stdout",
     "output_type": "stream",
     "text": [
      "Total Number of Classes are  6\n",
      "Total Number of Unique Resumes are  1911\n",
      "Total Number of Unique Labels are  1911\n"
     ]
    }
   ],
   "source": [
    "print(\"Total Number of Classes are \", len(Unique_Labels_List))\n",
    "print(\"Total Number of Unique Resumes are \", len(Resumes_List))\n",
    "print(\"Total Number of Unique Labels are \", len(Labels_List))"
   ]
  },
  {
   "cell_type": "code",
   "execution_count": 12,
   "metadata": {},
   "outputs": [],
   "source": [
    "vocab_size = 5000\n",
    "#vocab_size = 8000\n",
    "# We want the Output of the Embedding Layer to be 64\n",
    "embedding_dim = 64\n",
    "#max_length = 200\n",
    "max_length = 800\n",
    "trunc_type = 'post'\n",
    "padding_type = 'post'\n",
    "oov_tok = '<OOV>'\n",
    "# Taking 80% of the Data as Training Data and remaining 20% will be for Test Data\n",
    "training_portion = .8"
   ]
  },
  {
   "cell_type": "code",
   "execution_count": 13,
   "metadata": {},
   "outputs": [
    {
     "name": "stdout",
     "output_type": "stream",
     "text": [
      "train_size = 1528\n",
      "Number of Train Resumes = 1528\n",
      "Number of Train Labels = 1528\n",
      "Number of Validation Resumes = 383\n",
      "Number of Validation Labels = 383\n"
     ]
    }
   ],
   "source": [
    "# Size of Train Data is 80% of the Entire Dataset => 0.8 * 2225\n",
    "\n",
    "Train_Resume_Size = int(len(Resumes_List) * training_portion)\n",
    "'''\n",
    "# Extracting Train Data\n",
    "Train_Resume_Data = Resumes_List[0: Train_Resume_Size]\n",
    "Train_Labels = Labels_List[0: Train_Resume_Size]\n",
    "\n",
    "# Extracting Validation Data\n",
    "Validation_Resume_Data = Resumes_List[Train_Resume_Size:]\n",
    "Validation_Labels = Labels_List[Train_Resume_Size:]\n",
    "'''\n",
    "\n",
    "Train_Resume_Data, Validation_Resume_Data, Train_Labels, Validation_Labels = \\\n",
    "                    train_test_split(Resumes_List, Labels_List, train_size = training_portion, \n",
    "                                     shuffle = True\n",
    "                                     , stratify= Labels_List)\n",
    "\n",
    "print('train_size = {}'.format(Train_Resume_Size))\n",
    "print('Number of Train Resumes = {}'.format(len(Train_Resume_Data)))\n",
    "print('Number of Train Labels = {}'.format(len(Train_Labels)))\n",
    "print('Number of Validation Resumes = {}'.format(len(Validation_Resume_Data)))\n",
    "print('Number of Validation Labels = {}'.format(len(Validation_Labels)))"
   ]
  },
  {
   "cell_type": "code",
   "execution_count": 15,
   "metadata": {},
   "outputs": [
    {
     "name": "stdout",
     "output_type": "stream",
     "text": [
      "Average Number of Words in Each Training Resume is 5371.485602094241\n"
     ]
    }
   ],
   "source": [
    "from statistics import mean\n",
    "print('Average Number of Words in Each Training Resume is {}'.format(mean([len(i) for i in Train_Resume_Data])))"
   ]
  },
  {
   "cell_type": "code",
   "execution_count": 16,
   "metadata": {},
   "outputs": [
    {
     "data": {
      "text/plain": [
       "str"
      ]
     },
     "execution_count": 16,
     "metadata": {},
     "output_type": "execute_result"
    }
   ],
   "source": [
    "type(Train_Resume_Data[0])"
   ]
  },
  {
   "cell_type": "code",
   "execution_count": 17,
   "metadata": {},
   "outputs": [
    {
     "name": "stdout",
     "output_type": "stream",
     "text": [
      "Number of Unique Training Labels = 6\n",
      "Number of Unique Validation Labels = 6\n"
     ]
    }
   ],
   "source": [
    "print(\"Number of Unique Training Labels = {}\".format(len(set(Train_Labels))))\n",
    "print(\"Number of Unique Validation Labels = {}\".format(len(set(Validation_Labels))))"
   ]
  },
  {
   "cell_type": "code",
   "execution_count": 18,
   "metadata": {},
   "outputs": [
    {
     "data": {
      "text/plain": [
       "{'<OOV>': 1,\n",
       " 'and': 2,\n",
       " 'of': 3,\n",
       " 'the': 4,\n",
       " 'to': 5,\n",
       " 'in': 6,\n",
       " 'for': 7,\n",
       " 'project': 8,\n",
       " 's': 9,\n",
       " 'management': 10}"
      ]
     },
     "execution_count": 18,
     "metadata": {},
     "output_type": "execute_result"
    }
   ],
   "source": [
    "tokenizer = Tokenizer(num_words = vocab_size, oov_token=oov_tok)\n",
    "tokenizer.fit_on_texts(Train_Resume_Data)\n",
    "word_index = tokenizer.word_index\n",
    "dict(list(word_index.items())[0:10])"
   ]
  },
  {
   "cell_type": "code",
   "execution_count": 19,
   "metadata": {},
   "outputs": [
    {
     "name": "stdout",
     "output_type": "stream",
     "text": [
      "Average Number of Words in Each Training Resume is 745.3933246073299\n"
     ]
    }
   ],
   "source": [
    "# Convert the Word Tokens into Integer equivalents, before passing it to keras embedding layer\n",
    "train_sequences = tokenizer.texts_to_sequences(Train_Resume_Data)\n",
    "#print(train_sequences[10])\n",
    "\n",
    "from statistics import mean\n",
    "\n",
    "# To calculate the average length of all the Train Resumes\n",
    "print('Average Number of Words in Each Training Resume is {}'.format(mean([len(i) for i in train_sequences])))"
   ]
  },
  {
   "cell_type": "code",
   "execution_count": 20,
   "metadata": {},
   "outputs": [
    {
     "data": {
      "text/plain": [
       "list"
      ]
     },
     "execution_count": 20,
     "metadata": {},
     "output_type": "execute_result"
    }
   ],
   "source": [
    "type(train_sequences)"
   ]
  },
  {
   "cell_type": "code",
   "execution_count": 21,
   "metadata": {},
   "outputs": [
    {
     "name": "stdout",
     "output_type": "stream",
     "text": [
      "577\n",
      "800\n",
      "933\n",
      "800\n",
      "491\n",
      "800\n"
     ]
    }
   ],
   "source": [
    "train_padded = pad_sequences(train_sequences, maxlen=max_length, padding=padding_type, truncating=trunc_type)\n",
    "print(len(train_sequences[0]))\n",
    "print(len(train_padded[0]))\n",
    "\n",
    "print(len(train_sequences[1]))\n",
    "print(len(train_padded[1]))\n",
    "\n",
    "print(len(train_sequences[10]))\n",
    "print(len(train_padded[10]))"
   ]
  },
  {
   "cell_type": "code",
   "execution_count": 22,
   "metadata": {},
   "outputs": [
    {
     "name": "stdout",
     "output_type": "stream",
     "text": [
      "1528\n"
     ]
    }
   ],
   "source": [
    "print(len(train_padded))"
   ]
  },
  {
   "cell_type": "code",
   "execution_count": 23,
   "metadata": {},
   "outputs": [
    {
     "data": {
      "text/plain": [
       "numpy.ndarray"
      ]
     },
     "execution_count": 23,
     "metadata": {},
     "output_type": "execute_result"
    }
   ],
   "source": [
    "type(train_padded)"
   ]
  },
  {
   "cell_type": "code",
   "execution_count": 24,
   "metadata": {},
   "outputs": [
    {
     "name": "stdout",
     "output_type": "stream",
     "text": [
      "383\n",
      "(383, 800)\n"
     ]
    }
   ],
   "source": [
    "validation_sequences = tokenizer.texts_to_sequences(Validation_Resume_Data)\n",
    "validation_padded = pad_sequences(validation_sequences, maxlen=max_length, padding=padding_type, truncating=trunc_type)\n",
    "\n",
    "print(len(validation_sequences))\n",
    "print(validation_padded.shape)"
   ]
  },
  {
   "cell_type": "code",
   "execution_count": 25,
   "metadata": {},
   "outputs": [],
   "source": [
    "# Initializing the Tokenizer Object\n",
    "label_tokenizer = Tokenizer()\n",
    "\n",
    "# We are (Fitting) using \"fit_on_texts\" here, which we \n",
    "# haven't used for Test Data because we want the Labels to be Tokenized differently from that of Training Data\n",
    "\n",
    "label_tokenizer.fit_on_texts(Unique_Labels_List)\n",
    "\n",
    "# Since it should be a Numpy Array, we should Convert the Sequences to Numpy Array, for both Training and \n",
    "# Test Labels\n",
    "\n",
    "#training_label_seq = np.array(label_tokenizer.texts_to_sequences(Train_Labels))\n",
    "\n",
    "#validation_label_seq = np.array(label_tokenizer.texts_to_sequences(Validation_Labels))"
   ]
  },
  {
   "cell_type": "code",
   "execution_count": 31,
   "metadata": {},
   "outputs": [],
   "source": [
    "training_label_list = label_tokenizer.texts_to_sequences(Train_Labels)\n",
    "\n",
    "for x in training_label_list:\n",
    "  x[0] = x[0] - 1"
   ]
  },
  {
   "cell_type": "code",
   "execution_count": 33,
   "metadata": {},
   "outputs": [],
   "source": [
    "validation_label_list = label_tokenizer.texts_to_sequences(Validation_Labels)\n",
    "for x in validation_label_list:\n",
    "  x[0] = x[0] - 1"
   ]
  },
  {
   "cell_type": "code",
   "execution_count": 34,
   "metadata": {},
   "outputs": [
    {
     "data": {
      "text/plain": [
       "array([1, 5, 3, ..., 3, 5, 0])"
      ]
     },
     "execution_count": 34,
     "metadata": {},
     "output_type": "execute_result"
    }
   ],
   "source": [
    "training_label_seq = np.hstack(training_label_list)\n",
    "training_label_seq"
   ]
  },
  {
   "cell_type": "code",
   "execution_count": 35,
   "metadata": {},
   "outputs": [
    {
     "data": {
      "text/plain": [
       "array([2, 1, 2, 1, 1, 3, 2, 3, 3, 2, 2, 1, 0, 4, 0, 4, 1, 2, 0, 1, 4, 4,\n",
       "       5, 2, 3, 0, 5, 4, 4, 5, 3, 0, 4, 4, 5, 3, 3, 2, 2, 2, 2, 2, 2, 2,\n",
       "       4, 1, 0, 5, 3, 3, 0, 1, 2, 2, 1, 3, 3, 2, 1, 2, 1, 2, 1, 3, 4, 3,\n",
       "       3, 1, 0, 0, 4, 0, 2, 0, 0, 4, 1, 5, 1, 2, 5, 4, 1, 3, 4, 2, 1, 4,\n",
       "       0, 1, 2, 2, 5, 5, 4, 2, 1, 2, 3, 3, 1, 0, 1, 0, 3, 5, 0, 3, 2, 0,\n",
       "       5, 1, 5, 4, 5, 1, 1, 1, 5, 1, 0, 3, 1, 2, 5, 4, 4, 4, 1, 4, 2, 0,\n",
       "       4, 0, 3, 4, 2, 3, 2, 5, 4, 4, 4, 0, 4, 4, 0, 5, 0, 0, 4, 5, 1, 2,\n",
       "       5, 0, 0, 5, 1, 5, 3, 0, 5, 0, 3, 4, 1, 3, 0, 5, 0, 0, 0, 3, 2, 1,\n",
       "       4, 3, 0, 5, 4, 4, 5, 0, 3, 0, 5, 2, 2, 3, 0, 0, 3, 3, 3, 4, 5, 3,\n",
       "       1, 5, 3, 1, 4, 5, 3, 3, 4, 2, 0, 5, 5, 3, 2, 3, 1, 3, 0, 0, 2, 2,\n",
       "       0, 0, 5, 0, 3, 5, 3, 0, 2, 4, 4, 4, 2, 3, 0, 1, 2, 3, 0, 1, 4, 2,\n",
       "       0, 5, 4, 2, 2, 0, 5, 3, 5, 4, 0, 3, 1, 1, 4, 1, 1, 2, 2, 5, 5, 5,\n",
       "       1, 5, 1, 5, 3, 4, 0, 5, 4, 4, 3, 5, 5, 4, 5, 3, 4, 1, 2, 5, 5, 2,\n",
       "       3, 3, 2, 5, 2, 2, 5, 1, 2, 3, 5, 5, 3, 4, 3, 0, 0, 5, 1, 3, 5, 4,\n",
       "       4, 1, 0, 2, 1, 1, 1, 1, 4, 1, 4, 1, 2, 4, 1, 2, 2, 2, 3, 0, 5, 5,\n",
       "       3, 0, 4, 1, 0, 5, 3, 0, 2, 4, 0, 5, 3, 1, 0, 3, 2, 0, 5, 1, 3, 2,\n",
       "       3, 4, 2, 1, 2, 0, 4, 2, 3, 4, 0, 5, 3, 1, 1, 5, 5, 4, 1, 3, 3, 4,\n",
       "       5, 3, 0, 5, 3, 4, 3, 1, 1])"
      ]
     },
     "execution_count": 35,
     "metadata": {},
     "output_type": "execute_result"
    }
   ],
   "source": [
    "validation_label_seq = np.hstack(validation_label_list)\n",
    "validation_label_seq"
   ]
  },
  {
   "cell_type": "code",
   "execution_count": 36,
   "metadata": {},
   "outputs": [
    {
     "name": "stdout",
     "output_type": "stream",
     "text": [
      "type(training_label_seq) = <class 'numpy.ndarray'>\n",
      "type(validation_label_seq) = <class 'numpy.ndarray'>\n",
      "(training_label_seq[0:5]) = [1 5 3 0 3]\n",
      "(validation_label_seq[0:5]) = [2 1 2 1 1]\n",
      "len(training_label_seq) = 1528\n",
      "len(validation_label_seq) = 383\n"
     ]
    }
   ],
   "source": [
    "print('type(training_label_seq) = {}'.format(type(training_label_seq)))\n",
    "print('type(validation_label_seq) = {}'.format(type(validation_label_seq)))\n",
    "\n",
    "print('(training_label_seq[0:5]) = {}'.format(training_label_seq[0:5]))\n",
    "print('(validation_label_seq[0:5]) = {}'.format(validation_label_seq[0:5]))\n",
    "\n",
    "print('len(training_label_seq) = {}'.format(len(training_label_seq)))\n",
    "print('len(validation_label_seq) = {}'.format(len(validation_label_seq)))"
   ]
  },
  {
   "cell_type": "code",
   "execution_count": 37,
   "metadata": {},
   "outputs": [
    {
     "data": {
      "text/plain": [
       "numpy.int64"
      ]
     },
     "execution_count": 37,
     "metadata": {},
     "output_type": "execute_result"
    }
   ],
   "source": [
    "type(validation_label_seq[1])"
   ]
  },
  {
   "cell_type": "code",
   "execution_count": 38,
   "metadata": {},
   "outputs": [
    {
     "name": "stdout",
     "output_type": "stream",
     "text": [
      "… … 1 3 current designation senior software engineer current company <OOV> current location noida pref location noida gurgaon delhi ncr functional area it software erp crm role software developer industry it software software services marital status married total experience 7 year s 0 month s notice period 15 days or less highest degree m tech computers verified phone number email id <OOV> as senior software engineer to till date i am working as senior software engineer at client wipro working in python django and angularjs <OOV> labs limited mumbai as senior software engineer to i worked in python and network automation using django and flask digital marketing systems pvt ltd as software engineer developer to i was <OOV> as a sr software <OOV> in <OOV> django flask and iot using python and <OOV> <OOV> <OOV> digital solution pvt ltd as hadoop developer trainee to id <OOV> last active 15 feb 20 last modified 3 feb 20 <OOV> gupta software engineer seeking roles in software development application development it project mgmt requirement gathering application testing technical support software design c python mysql html php hadoop open cv <OOV> django flask key skills software engineer software developer software development application development it project mgmt requirement gathering application testing technical support software design c python mysql html php hadoop open cv <OOV> django flask <OOV> summary a competent professional offering 9 years of rich cross functional experience in all aspects of software development gained exposure in software development application development it project mgmt requirement gathering application testing technical support software design c python mysql html php hadoop open cv <OOV> django flask work experience javascript void … … 2 3 <OOV> institute ghaziabad as guest <OOV> to <OOV> <OOV> das institute of technology technology as assistant professor to ug b tech b e computers from <OOV> uptu l pg m tech computers from indian institute of technology iit k other qualifications certifications programs big data analytics nature of employment full time duration onsite offsite onsite nature of employment full time duration onsite offsite onsite affirmative action category general work authorization job type permanent education it skills skill name version last used experience c python <OOV> django flask iot 2 year s 10 month s mysql html php open cv p 0 year s 10 month s windows 7 8 ubuntu <OOV> <OOV> 8 year s 0 month s languages known language proficiency read write speak english proficient projects project title close loop monitoring client hdfc bank project details close loop monitoring is continuously monitor router and switches using commands each command execute using <OOV> in clm tool in this tool <OOV> network engineer needs to schedule command collection event <OOV> like send email or sms to respective person or execute next command according to pass or fail each command project title method of procedure automation client jio project details c … … 3 3 physically challenged no employment status full time part time ? ? ? ? ? ? ? ? ? ? ? ? ? ? ? ? ? ? ? ? ? ? ? ? ? ? ? ? ? ? ? ? ? ? ? ? ? ? ? ? ? ? ? ? ? ? ? ? ? ? ? ? ? ? ? ? ? ? ? ? ? ? ? ? ? ? ? ? ? ? ? ? ? ? ? ? ? ? ? ? ? ? ? ? ? ? ? ? ? ? ? ? ? ? ? ? ? ? ? ? ? ? ? ? ? ? ? ? ? ? ? ? ? ? ? ? ? ? ? ? ? ? ? ? ? ? ? ? ? ? ? ? ? ? ? ? ? ? ? ? ? ? ? ? ? ? ? ? ? ? ? ? ? ? ? ? ? ? ? ? ? ? ? ? ? ? ? ? ? ? ? ? ? ? ? ? ? ? ? ? ? ? ? ? ? ? ? ? ? ? ? ? ? ? ? ? ? ? ? ? ? ? ? ? ? ? ? ? ? ? ? ? ? ? ? ? ? ? ? ? ? ? ? ? ? ? ? ? ? ? ? ? ? ? ? ? ? ? ? ? ? ? ? ? ? ? ? ? ? ? ? ? ? ? ? ? ? ? ? ? ? ? ? ? ? ? ? ? ? ? ? ? ? ? ? ? ? ? ? ? ? ? ? ? ? ? ? ? ? ? ? ? ? ? ? ? ? ? ? ? ? ? ? ? ? ? ? ? ?\n",
      "-------------------------------------------------------------------------\n",
      "   …   … 1 3  current designation  senior software engineer  current company  suprasoft  current location  noida  pref. location  noida gurgaon delhi   ncr  functional area  it software - erp   crm  role  software developer  industry  it-software software services  marital status  married  total experience  7 year s  0 month s   notice period  15 days or less  highest degree  m.tech  computers   verified    phone number     email - id   suprasoft as senior software engineer   to till date  i am  working as senior software engineer at client wipro  working in python django and angularjs.   infinity labs limited mumbai as senior software engineer   to    i worked in python and network automation using django and flask.   digital marketing systems pvt. ltd as software engineer  developer    to    i was woked as a sr. software enginner in odooerp django  flask and iot using python and respberry pi3   b3 digital solution pvt. ltd. as hadoop developer trainee   to       id  bf8fb0fdde  last active  15-feb-20 last modified  3-feb-20  madhur gupta      software engineer seeking roles in software development application development it project mgmt requirement gathering application testing technical support software design c python mysql html php hadoop open cv odoo django flask  key skills  software engineer software developer software development application development it project mgmt requirement gathering application testing technical support software design c python mysql html php hadoop open cv odoo django flask odoo     summary a competent professional offering 9 years of rich cross-functional experience in all aspects of software development. gained exposure in software development application development it project mgmt requirement gathering application testing technical support software design c python mysql html php hadoop open cv odoo django flask     work experience  javascript void    …   … 2 3  jaipuria institute ghaziabad as guest faculty   to     babu banarsi das institute of technology technology as assistant professor   to    ug  b.tech b.e.  computers  from cet uptu l   pg  m.tech  computers  from indian institute of technology  iit   k   other qualifications certifications programs   big data analytics  nature of employment  full time duration    -   onsite   offsite  onsite     nature of employment  full time duration    -   onsite   offsite  onsite     affirmative action category  general  work authorization job type  permanent     education       it skills skill name version last used experience  c  python  odoo  django  flask iot   2 year s  10 month s   mysql html  php  open cv p  0 year s  10 month s   windows 7 8  ubuntu  fedora  respberrypi   8 year s  0 month s   languages known language proficiency read write speak  english proficient         projects  project title  close loop monitoring client  hdfc bank   project details  close loop monitoring is continuously monitor router and switches using commands. each command execute using scheduler in clm tool. in this tool nce network engineer  needs to schedule command collection. event executes like send email or sms to respective person or execute next command  according to pass or fail each command.  project title  method of procedure automation client  jio   project details  c   …   … 3 3  physically challenged  no employment status  full time  part time   \n"
     ]
    }
   ],
   "source": [
    "reverse_word_index = dict([(value, key) for (key, value) in word_index.items()])\n",
    "\n",
    "def decode_article(text):\n",
    "    return ' '.join([reverse_word_index.get(i, '?') for i in text])\n",
    "print(decode_article(train_padded[10]))\n",
    "print('-------------------------------------------------------------------------')\n",
    "print(Train_Resume_Data[10])"
   ]
  },
  {
   "cell_type": "markdown",
   "metadata": {},
   "source": [
    "ValueError: Failed to convert a NumPy array to a Tensor (Unsupported object type list). => Has taken more than 6 hours to resolve this. Finally, https://stackoverflow.com/a/42499122/11530462 has resolved it\n",
    "\n",
    "ValueError: Input arrays should have the same number of samples as target arrays. Found 3002 input samples and 3717 target samples. https://stackoverflow.com/a/60239112/11253331 has resolved it"
   ]
  },
  {
   "cell_type": "code",
   "execution_count": 40,
   "metadata": {},
   "outputs": [
    {
     "name": "stdout",
     "output_type": "stream",
     "text": [
      "Model: \"sequential_1\"\n",
      "_________________________________________________________________\n",
      "Layer (type)                 Output Shape              Param #   \n",
      "=================================================================\n",
      "embedding_1 (Embedding)      (None, None, 64)          320000    \n",
      "_________________________________________________________________\n",
      "bidirectional_2 (Bidirection (None, None, 128)         66048     \n",
      "_________________________________________________________________\n",
      "bidirectional_3 (Bidirection (None, 64)                41216     \n",
      "_________________________________________________________________\n",
      "dense_2 (Dense)              (None, 64)                4160      \n",
      "_________________________________________________________________\n",
      "dense_3 (Dense)              (None, 6)                 390       \n",
      "=================================================================\n",
      "Total params: 431,814\n",
      "Trainable params: 431,814\n",
      "Non-trainable params: 0\n",
      "_________________________________________________________________\n"
     ]
    }
   ],
   "source": [
    "Regularizer = l2(0.001)\n",
    "\n",
    "model = tf.keras.Sequential([\n",
    "    # Add an Embedding layer expecting input vocab of size 5000, and output embedding dimension of size 64 we set at the top\n",
    "    tf.keras.layers.Embedding(vocab_size, embedding_dim,\n",
    "                              embeddings_regularizer = Regularizer),\n",
    "    tf.keras.layers.Bidirectional(tf.keras.layers.LSTM(embedding_dim, return_sequences=True)),\n",
    "    tf.keras.layers.Bidirectional(tf.keras.layers.LSTM(32)),\n",
    "    # use ReLU in place of tanh function since they are very good alternatives of each other.\n",
    "    tf.keras.layers.Dense(embedding_dim, activation='relu'),\n",
    "    # Add a Dense layer with 18 units and softmax activation.\n",
    "    # When we have multiple outputs, softmax convert outputs layers into a probability distribution.\n",
    "    tf.keras.layers.Dense(6, activation='softmax')\n",
    "])\n",
    "model.summary()"
   ]
  },
  {
   "cell_type": "code",
   "execution_count": 41,
   "metadata": {
    "scrolled": true
   },
   "outputs": [
    {
     "name": "stdout",
     "output_type": "stream",
     "text": [
      "Train on 1528 samples, validate on 383 samples\n",
      "Epoch 1/100\n"
     ]
    },
    {
     "name": "stderr",
     "output_type": "stream",
     "text": [
      "/home/ravikrishnak/anaconda3/lib/python3.7/site-packages/tensorflow_core/python/framework/indexed_slices.py:433: UserWarning: Converting sparse IndexedSlices to a dense Tensor of unknown shape. This may consume a large amount of memory.\n",
      "  \"Converting sparse IndexedSlices to a dense Tensor of unknown shape. \"\n",
      "/home/ravikrishnak/anaconda3/lib/python3.7/site-packages/tensorflow_core/python/framework/indexed_slices.py:433: UserWarning: Converting sparse IndexedSlices to a dense Tensor of unknown shape. This may consume a large amount of memory.\n",
      "  \"Converting sparse IndexedSlices to a dense Tensor of unknown shape. \"\n"
     ]
    },
    {
     "name": "stdout",
     "output_type": "stream",
     "text": [
      "1528/1528 [==============================] - 46s 30ms/sample - loss: 1.7491 - accuracy: 0.2336 - val_loss: 1.4375 - val_accuracy: 0.3290\n",
      "Epoch 2/100\n",
      "1528/1528 [==============================] - 41s 27ms/sample - loss: 1.3583 - accuracy: 0.3940 - val_loss: 1.1341 - val_accuracy: 0.5013\n",
      "Epoch 3/100\n",
      "1528/1528 [==============================] - 42s 27ms/sample - loss: 0.8593 - accuracy: 0.6466 - val_loss: 0.6955 - val_accuracy: 0.7180\n",
      "Epoch 4/100\n",
      "1528/1528 [==============================] - 42s 28ms/sample - loss: 0.5220 - accuracy: 0.7768 - val_loss: 0.5041 - val_accuracy: 0.7807\n",
      "Epoch 5/100\n",
      "1528/1528 [==============================] - 46s 30ms/sample - loss: 1.0944 - accuracy: 0.7277 - val_loss: 2.1636 - val_accuracy: 0.1828\n",
      "Epoch 6/100\n",
      "1528/1528 [==============================] - 41s 27ms/sample - loss: 1.8577 - accuracy: 0.1950 - val_loss: 1.8033 - val_accuracy: 0.2063\n",
      "Epoch 7/100\n",
      "1528/1528 [==============================] - 47s 31ms/sample - loss: 1.7119 - accuracy: 0.2533 - val_loss: 1.5683 - val_accuracy: 0.3185\n",
      "Epoch 8/100\n",
      "1528/1528 [==============================] - 42s 28ms/sample - loss: 1.5305 - accuracy: 0.3711 - val_loss: 1.2448 - val_accuracy: 0.5379\n",
      "Epoch 9/100\n",
      "1528/1528 [==============================] - 43s 28ms/sample - loss: 1.2449 - accuracy: 0.5327 - val_loss: 1.4496 - val_accuracy: 0.3943\n",
      "Epoch 10/100\n",
      "1528/1528 [==============================] - 47s 31ms/sample - loss: 1.5568 - accuracy: 0.3999 - val_loss: 1.7425 - val_accuracy: 0.2768\n",
      "Epoch 11/100\n",
      "1528/1528 [==============================] - 47s 31ms/sample - loss: 1.5330 - accuracy: 0.3914 - val_loss: 1.6009 - val_accuracy: 0.3290\n",
      "Epoch 12/100\n",
      "1528/1528 [==============================] - 50s 33ms/sample - loss: 1.4126 - accuracy: 0.4378 - val_loss: 1.4418 - val_accuracy: 0.4726\n",
      "Epoch 13/100\n",
      "1528/1528 [==============================] - 44s 29ms/sample - loss: 1.1145 - accuracy: 0.5903 - val_loss: 0.8099 - val_accuracy: 0.7650\n",
      "Epoch 14/100\n",
      "1528/1528 [==============================] - 41s 27ms/sample - loss: 0.5575 - accuracy: 0.8390 - val_loss: 0.4900 - val_accuracy: 0.8956\n",
      "Epoch 15/100\n",
      "1528/1528 [==============================] - 42s 28ms/sample - loss: 0.2811 - accuracy: 0.9470 - val_loss: 0.3986 - val_accuracy: 0.9112\n",
      "Epoch 16/100\n",
      "1528/1528 [==============================] - 42s 27ms/sample - loss: 0.1992 - accuracy: 0.9679 - val_loss: 0.3861 - val_accuracy: 0.9269\n",
      "Epoch 17/100\n",
      "1528/1528 [==============================] - 43s 28ms/sample - loss: 0.1714 - accuracy: 0.9719 - val_loss: 0.3266 - val_accuracy: 0.9373\n",
      "Epoch 18/100\n",
      "1528/1528 [==============================] - 43s 28ms/sample - loss: 0.1333 - accuracy: 0.9856 - val_loss: 0.3529 - val_accuracy: 0.9295\n",
      "Epoch 19/100\n",
      "1528/1528 [==============================] - 50s 33ms/sample - loss: 0.1176 - accuracy: 0.9863 - val_loss: 0.3899 - val_accuracy: 0.9269\n",
      "Epoch 20/100\n",
      "1528/1528 [==============================] - 42s 27ms/sample - loss: 0.1050 - accuracy: 0.9882 - val_loss: 0.3654 - val_accuracy: 0.9217\n",
      "Epoch 21/100\n",
      "1528/1528 [==============================] - 41s 27ms/sample - loss: 0.0916 - accuracy: 0.9915 - val_loss: 0.3463 - val_accuracy: 0.9426\n",
      "Epoch 22/100\n",
      "1528/1528 [==============================] - 45s 29ms/sample - loss: 0.0818 - accuracy: 0.9935 - val_loss: 0.3402 - val_accuracy: 0.9399\n",
      "Epoch 23/100\n",
      "1528/1528 [==============================] - 42s 28ms/sample - loss: 0.0793 - accuracy: 0.9908 - val_loss: 0.3567 - val_accuracy: 0.9321\n",
      "Epoch 24/100\n",
      "1528/1528 [==============================] - 42s 28ms/sample - loss: 0.0890 - accuracy: 0.9889 - val_loss: 0.3498 - val_accuracy: 0.9295\n",
      "Epoch 25/100\n",
      "1528/1528 [==============================] - 41s 27ms/sample - loss: 0.1444 - accuracy: 0.9732 - val_loss: 0.4338 - val_accuracy: 0.9138\n",
      "Epoch 26/100\n",
      "1528/1528 [==============================] - 42s 27ms/sample - loss: 0.1229 - accuracy: 0.9804 - val_loss: 0.3705 - val_accuracy: 0.9295\n",
      "Epoch 27/100\n",
      "1528/1528 [==============================] - 42s 28ms/sample - loss: 0.0871 - accuracy: 0.9915 - val_loss: 0.3461 - val_accuracy: 0.9243\n"
     ]
    }
   ],
   "source": [
    "#Using Early Stopping in order to handle Overfitting\n",
    "ES_Callback = tf.keras.callbacks.EarlyStopping(monitor='val_loss', patience=10)\n",
    "\n",
    "model.compile(loss = tf.keras.losses.SparseCategoricalCrossentropy(), optimizer='adam', metrics=['accuracy'])\n",
    "\n",
    "num_epochs = 100\n",
    "\n",
    "history = model.fit(x = train_padded, y = training_label_seq, epochs=num_epochs, \n",
    "                    callbacks=[ES_Callback],\n",
    "                    validation_data=(validation_padded, validation_label_seq),\n",
    "                    batch_size = 32, shuffle=True, verbose=1)"
   ]
  },
  {
   "cell_type": "code",
   "execution_count": 42,
   "metadata": {},
   "outputs": [
    {
     "data": {
      "image/png": "[encoded data removed]",
      "text/plain": [
       "<Figure size 432x288 with 1 Axes>"
      ]
     },
     "metadata": {
      "needs_background": "light"
     },
     "output_type": "display_data"
    },
    {
     "data": {
      "image/png": "[encoded data removed]",
      "text/plain": [
       "<Figure size 432x288 with 1 Axes>"
      ]
     },
     "metadata": {
      "needs_background": "light"
     },
     "output_type": "display_data"
    }
   ],
   "source": [
    "def plot_graphs(history, string):\n",
    "  plt.plot(history.history[string])\n",
    "  plt.plot(history.history['val_'+string])\n",
    "  plt.xlabel(\"Epochs\")\n",
    "  plt.ylabel(string)\n",
    "  plt.legend([string, 'val_'+string])\n",
    "  plt.show()\n",
    "  \n",
    "plot_graphs(history, \"accuracy\")\n",
    "plot_graphs(history, \"loss\")"
   ]
  },
  {
   "cell_type": "code",
   "execution_count": 43,
   "metadata": {},
   "outputs": [
    {
     "name": "stdout",
     "output_type": "stream",
     "text": [
      "WARNING:tensorflow:From /home/ravikrishnak/anaconda3/lib/python3.7/site-packages/tensorflow_core/python/ops/resource_variable_ops.py:1786: calling BaseResourceVariable.__init__ (from tensorflow.python.ops.resource_variable_ops) with constraint is deprecated and will be removed in a future version.\n",
      "Instructions for updating:\n",
      "If using Keras pass *_constraint arguments to layers.\n",
      "INFO:tensorflow:Assets written to: Resume_Classification_Model/1/assets\n",
      "total 4668\n",
      "drwxr-xr-x 2 ravikrishnak primarygroup    4096 Mar 17 16:40 assets\n",
      "-rw-r--r-- 1 ravikrishnak primarygroup 4769830 Mar 17 16:40 saved_model.pb\n",
      "drwxr-xr-x 2 ravikrishnak primarygroup    4096 Mar 17 16:40 variables\n"
     ]
    }
   ],
   "source": [
    "version = 1\n",
    "MODEL_DIR = 'Resume_Classification_Model'\n",
    "export_path = os.path.join(MODEL_DIR, str(version))\n",
    "\n",
    "tf.keras.models.save_model(model = model, filepath = export_path)\n",
    "\n",
    "!ls -l {export_path}"
   ]
  },
  {
   "cell_type": "code",
   "execution_count": 44,
   "metadata": {},
   "outputs": [
    {
     "name": "stdout",
     "output_type": "stream",
     "text": [
      "2020-03-17 16:40:22.042011: W tensorflow/stream_executor/platform/default/dso_loader.cc:55] Could not load dynamic library 'libnvinfer.so.6'; dlerror: libnvinfer.so.6: cannot open shared object file: No such file or directory\n",
      "2020-03-17 16:40:22.042103: W tensorflow/stream_executor/platform/default/dso_loader.cc:55] Could not load dynamic library 'libnvinfer_plugin.so.6'; dlerror: libnvinfer_plugin.so.6: cannot open shared object file: No such file or directory\n",
      "2020-03-17 16:40:22.042114: W tensorflow/compiler/tf2tensorrt/utils/py_utils.cc:30] Cannot dlopen some TensorRT libraries. If you would like to use Nvidia GPU with TensorRT, please make sure the missing libraries mentioned above are installed properly.\n",
      "\n",
      "MetaGraphDef with tag-set: 'serve' contains the following SignatureDefs:\n",
      "\n",
      "signature_def['__saved_model_init_op']:\n",
      "  The given SavedModel SignatureDef contains the following input(s):\n",
      "  The given SavedModel SignatureDef contains the following output(s):\n",
      "    outputs['__saved_model_init_op'] tensor_info:\n",
      "        dtype: DT_INVALID\n",
      "        shape: unknown_rank\n",
      "        name: NoOp\n",
      "  Method name is: \n",
      "\n",
      "signature_def['serving_default']:\n",
      "  The given SavedModel SignatureDef contains the following input(s):\n",
      "    inputs['embedding_1_input'] tensor_info:\n",
      "        dtype: DT_FLOAT\n",
      "        shape: (-1, -1)\n",
      "        name: serving_default_embedding_1_input:0\n",
      "  The given SavedModel SignatureDef contains the following output(s):\n",
      "    outputs['dense_3'] tensor_info:\n",
      "        dtype: DT_FLOAT\n",
      "        shape: (-1, 6)\n",
      "        name: StatefulPartitionedCall:0\n",
      "  Method name is: tensorflow/serving/predict\n",
      "WARNING:tensorflow:From /home/ravikrishnak/anaconda3/lib/python3.7/site-packages/tensorflow_core/python/ops/resource_variable_ops.py:1786: calling BaseResourceVariable.__init__ (from tensorflow.python.ops.resource_variable_ops) with constraint is deprecated and will be removed in a future version.\n",
      "Instructions for updating:\n",
      "If using Keras pass *_constraint arguments to layers.\n",
      "\n",
      "Defined Functions:\n",
      "  Function Name: '__call__'\n",
      "    Option #1\n",
      "      Callable with:\n",
      "        Argument #1\n",
      "          inputs: TensorSpec(shape=(None, None), dtype=tf.float32, name='inputs')\n",
      "        Argument #2\n",
      "          DType: bool\n",
      "          Value: False\n",
      "        Argument #3\n",
      "          DType: NoneType\n",
      "          Value: None\n",
      "    Option #2\n",
      "      Callable with:\n",
      "        Argument #1\n",
      "          embedding_1_input: TensorSpec(shape=(None, None), dtype=tf.float32, name='embedding_1_input')\n",
      "        Argument #2\n",
      "          DType: bool\n",
      "          Value: False\n",
      "        Argument #3\n",
      "          DType: NoneType\n",
      "          Value: None\n",
      "    Option #3\n",
      "      Callable with:\n",
      "        Argument #1\n",
      "          embedding_1_input: TensorSpec(shape=(None, None), dtype=tf.float32, name='embedding_1_input')\n",
      "        Argument #2\n",
      "          DType: bool\n",
      "          Value: True\n",
      "        Argument #3\n",
      "          DType: NoneType\n",
      "          Value: None\n",
      "    Option #4\n",
      "      Callable with:\n",
      "        Argument #1\n",
      "          inputs: TensorSpec(shape=(None, None), dtype=tf.float32, name='inputs')\n",
      "        Argument #2\n",
      "          DType: bool\n",
      "          Value: True\n",
      "        Argument #3\n",
      "          DType: NoneType\n",
      "          Value: None\n",
      "\n",
      "  Function Name: '_default_save_signature'\n",
      "    Option #1\n",
      "      Callable with:\n",
      "        Argument #1\n",
      "          embedding_1_input: TensorSpec(shape=(None, None), dtype=tf.float32, name='embedding_1_input')\n",
      "\n",
      "  Function Name: 'call_and_return_all_conditional_losses'\n",
      "    Option #1\n",
      "      Callable with:\n",
      "        Argument #1\n",
      "          embedding_1_input: TensorSpec(shape=(None, None), dtype=tf.float32, name='embedding_1_input')\n",
      "        Argument #2\n",
      "          DType: bool\n",
      "          Value: False\n",
      "        Argument #3\n",
      "          DType: NoneType\n",
      "          Value: None\n",
      "    Option #2\n",
      "      Callable with:\n",
      "        Argument #1\n",
      "          inputs: TensorSpec(shape=(None, None), dtype=tf.float32, name='inputs')\n",
      "        Argument #2\n",
      "          DType: bool\n",
      "          Value: False\n",
      "        Argument #3\n",
      "          DType: NoneType\n",
      "          Value: None\n",
      "    Option #3\n",
      "      Callable with:\n",
      "        Argument #1\n",
      "          inputs: TensorSpec(shape=(None, None), dtype=tf.float32, name='inputs')\n",
      "        Argument #2\n",
      "          DType: bool\n",
      "          Value: True\n",
      "        Argument #3\n",
      "          DType: NoneType\n",
      "          Value: None\n",
      "    Option #4\n",
      "      Callable with:\n",
      "        Argument #1\n",
      "          embedding_1_input: TensorSpec(shape=(None, None), dtype=tf.float32, name='embedding_1_input')\n",
      "        Argument #2\n",
      "          DType: bool\n",
      "          Value: True\n",
      "        Argument #3\n",
      "          DType: NoneType\n",
      "          Value: None\n"
     ]
    }
   ],
   "source": [
    "!saved_model_cli show --dir {export_path} --all"
   ]
  },
  {
   "cell_type": "code",
   "execution_count": 45,
   "metadata": {},
   "outputs": [
    {
     "data": {
      "text/plain": [
       "'/home/ravikrishnak/Desktop/REsume classification/Ravi'"
      ]
     },
     "execution_count": 45,
     "metadata": {},
     "output_type": "execute_result"
    }
   ],
   "source": [
    "pwd"
   ]
  },
  {
   "cell_type": "code",
   "execution_count": null,
   "metadata": {},
   "outputs": [],
   "source": []
  }
 ],
 "metadata": {
  "kernelspec": {
   "display_name": "Python 3",
   "language": "python",
   "name": "python3"
  },
  "language_info": {
   "codemirror_mode": {
    "name": "ipython",
    "version": 3
   },
   "file_extension": ".py",
   "mimetype": "text/x-python",
   "name": "python",
   "nbconvert_exporter": "python",
   "pygments_lexer": "ipython3",
   "version": "3.7.4"
  }
 },
 "nbformat": 4,
 "nbformat_minor": 2
}
