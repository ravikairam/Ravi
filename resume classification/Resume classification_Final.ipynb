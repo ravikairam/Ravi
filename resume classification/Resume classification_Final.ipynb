{
 "cells": [
  {
   "cell_type": "code",
   "execution_count": 1,
   "metadata": {},
   "outputs": [],
   "source": [
    "# Renaming the resumes\n",
    "\n",
    "import os\n",
    "#path = '/home/ravikrishnak/Desktop/REsume classification/New_Data_Test/'\n",
    "for root, dirs, files in os.walk(\"/home/ravikrishnak/Desktop/Data\"):\n",
    "    if not files:\n",
    "        continue\n",
    "    prefix = os.path.basename(root)\n",
    "    #print(prefix)\n",
    "    for f in files:\n",
    "        os.rename(os.path.join(root, f), os.path.join(root, \"{}{}\".format(prefix, f)))\n"
   ]
  },
  {
   "cell_type": "code",
   "execution_count": 2,
   "metadata": {},
   "outputs": [
    {
     "name": "stdout",
     "output_type": "stream",
     "text": [
      "Requirement already satisfied: tensorflow==2.2.0 in /home/ravikrishnak/anaconda3/lib/python3.8/site-packages (2.2.0)\n",
      "Requirement already satisfied: tensorflow-estimator<2.3.0,>=2.2.0 in /home/ravikrishnak/anaconda3/lib/python3.8/site-packages (from tensorflow==2.2.0) (2.2.0)\n",
      "Requirement already satisfied: termcolor>=1.1.0 in /home/ravikrishnak/anaconda3/lib/python3.8/site-packages (from tensorflow==2.2.0) (1.1.0)\n",
      "Requirement already satisfied: grpcio>=1.8.6 in /home/ravikrishnak/anaconda3/lib/python3.8/site-packages (from tensorflow==2.2.0) (1.30.0)\n",
      "Requirement already satisfied: wheel>=0.26; python_version >= \"3\" in /home/ravikrishnak/anaconda3/lib/python3.8/site-packages (from tensorflow==2.2.0) (0.34.2)\n",
      "Requirement already satisfied: absl-py>=0.7.0 in /home/ravikrishnak/anaconda3/lib/python3.8/site-packages (from tensorflow==2.2.0) (0.9.0)\n",
      "Requirement already satisfied: scipy==1.4.1; python_version >= \"3\" in /home/ravikrishnak/anaconda3/lib/python3.8/site-packages (from tensorflow==2.2.0) (1.4.1)\n",
      "Requirement already satisfied: numpy<2.0,>=1.16.0 in /home/ravikrishnak/anaconda3/lib/python3.8/site-packages (from tensorflow==2.2.0) (1.19.1)\n",
      "Requirement already satisfied: astunparse==1.6.3 in /home/ravikrishnak/anaconda3/lib/python3.8/site-packages (from tensorflow==2.2.0) (1.6.3)\n",
      "Requirement already satisfied: google-pasta>=0.1.8 in /home/ravikrishnak/anaconda3/lib/python3.8/site-packages (from tensorflow==2.2.0) (0.2.0)\n",
      "Requirement already satisfied: tensorboard<2.3.0,>=2.2.0 in /home/ravikrishnak/anaconda3/lib/python3.8/site-packages (from tensorflow==2.2.0) (2.2.2)\n",
      "Requirement already satisfied: protobuf>=3.8.0 in /home/ravikrishnak/anaconda3/lib/python3.8/site-packages (from tensorflow==2.2.0) (3.12.4)\n",
      "Requirement already satisfied: six>=1.12.0 in /home/ravikrishnak/anaconda3/lib/python3.8/site-packages (from tensorflow==2.2.0) (1.15.0)\n",
      "Requirement already satisfied: keras-preprocessing>=1.1.0 in /home/ravikrishnak/anaconda3/lib/python3.8/site-packages (from tensorflow==2.2.0) (1.1.2)\n",
      "Requirement already satisfied: gast==0.3.3 in /home/ravikrishnak/anaconda3/lib/python3.8/site-packages (from tensorflow==2.2.0) (0.3.3)\n",
      "Requirement already satisfied: h5py<2.11.0,>=2.10.0 in /home/ravikrishnak/anaconda3/lib/python3.8/site-packages (from tensorflow==2.2.0) (2.10.0)\n",
      "Requirement already satisfied: opt-einsum>=2.3.2 in /home/ravikrishnak/anaconda3/lib/python3.8/site-packages (from tensorflow==2.2.0) (3.3.0)\n",
      "Requirement already satisfied: wrapt>=1.11.1 in /home/ravikrishnak/anaconda3/lib/python3.8/site-packages (from tensorflow==2.2.0) (1.11.2)\n",
      "Requirement already satisfied: markdown>=2.6.8 in /home/ravikrishnak/anaconda3/lib/python3.8/site-packages (from tensorboard<2.3.0,>=2.2.0->tensorflow==2.2.0) (3.2.2)\n",
      "Requirement already satisfied: tensorboard-plugin-wit>=1.6.0 in /home/ravikrishnak/anaconda3/lib/python3.8/site-packages (from tensorboard<2.3.0,>=2.2.0->tensorflow==2.2.0) (1.7.0)\n",
      "Requirement already satisfied: werkzeug>=0.11.15 in /home/ravikrishnak/anaconda3/lib/python3.8/site-packages (from tensorboard<2.3.0,>=2.2.0->tensorflow==2.2.0) (1.0.1)\n",
      "Requirement already satisfied: google-auth<2,>=1.6.3 in /home/ravikrishnak/anaconda3/lib/python3.8/site-packages (from tensorboard<2.3.0,>=2.2.0->tensorflow==2.2.0) (1.20.0)\n",
      "Requirement already satisfied: requests<3,>=2.21.0 in /home/ravikrishnak/anaconda3/lib/python3.8/site-packages (from tensorboard<2.3.0,>=2.2.0->tensorflow==2.2.0) (2.24.0)\n",
      "Requirement already satisfied: setuptools>=41.0.0 in /home/ravikrishnak/anaconda3/lib/python3.8/site-packages (from tensorboard<2.3.0,>=2.2.0->tensorflow==2.2.0) (49.2.0.post20200714)\n",
      "Requirement already satisfied: google-auth-oauthlib<0.5,>=0.4.1 in /home/ravikrishnak/anaconda3/lib/python3.8/site-packages (from tensorboard<2.3.0,>=2.2.0->tensorflow==2.2.0) (0.4.1)\n",
      "Requirement already satisfied: pyasn1-modules>=0.2.1 in /home/ravikrishnak/anaconda3/lib/python3.8/site-packages (from google-auth<2,>=1.6.3->tensorboard<2.3.0,>=2.2.0->tensorflow==2.2.0) (0.2.8)\n",
      "Requirement already satisfied: rsa<5,>=3.1.4; python_version >= \"3.5\" in /home/ravikrishnak/anaconda3/lib/python3.8/site-packages (from google-auth<2,>=1.6.3->tensorboard<2.3.0,>=2.2.0->tensorflow==2.2.0) (4.6)\n",
      "Requirement already satisfied: cachetools<5.0,>=2.0.0 in /home/ravikrishnak/anaconda3/lib/python3.8/site-packages (from google-auth<2,>=1.6.3->tensorboard<2.3.0,>=2.2.0->tensorflow==2.2.0) (4.1.1)\n",
      "Requirement already satisfied: certifi>=2017.4.17 in /home/ravikrishnak/anaconda3/lib/python3.8/site-packages (from requests<3,>=2.21.0->tensorboard<2.3.0,>=2.2.0->tensorflow==2.2.0) (2020.6.20)\n",
      "Requirement already satisfied: idna<3,>=2.5 in /home/ravikrishnak/anaconda3/lib/python3.8/site-packages (from requests<3,>=2.21.0->tensorboard<2.3.0,>=2.2.0->tensorflow==2.2.0) (2.10)\n",
      "Requirement already satisfied: urllib3!=1.25.0,!=1.25.1,<1.26,>=1.21.1 in /home/ravikrishnak/anaconda3/lib/python3.8/site-packages (from requests<3,>=2.21.0->tensorboard<2.3.0,>=2.2.0->tensorflow==2.2.0) (1.25.9)\n",
      "Requirement already satisfied: chardet<4,>=3.0.2 in /home/ravikrishnak/anaconda3/lib/python3.8/site-packages (from requests<3,>=2.21.0->tensorboard<2.3.0,>=2.2.0->tensorflow==2.2.0) (3.0.4)\n",
      "Requirement already satisfied: requests-oauthlib>=0.7.0 in /home/ravikrishnak/anaconda3/lib/python3.8/site-packages (from google-auth-oauthlib<0.5,>=0.4.1->tensorboard<2.3.0,>=2.2.0->tensorflow==2.2.0) (1.3.0)\n",
      "Requirement already satisfied: pyasn1<0.5.0,>=0.4.6 in /home/ravikrishnak/anaconda3/lib/python3.8/site-packages (from pyasn1-modules>=0.2.1->google-auth<2,>=1.6.3->tensorboard<2.3.0,>=2.2.0->tensorflow==2.2.0) (0.4.8)\n",
      "Requirement already satisfied: oauthlib>=3.0.0 in /home/ravikrishnak/anaconda3/lib/python3.8/site-packages (from requests-oauthlib>=0.7.0->google-auth-oauthlib<0.5,>=0.4.1->tensorboard<2.3.0,>=2.2.0->tensorflow==2.2.0) (3.1.0)\n",
      "Requirement already satisfied: nltk in /home/ravikrishnak/anaconda3/lib/python3.8/site-packages (3.5)\n",
      "Requirement already satisfied: tqdm in /home/ravikrishnak/anaconda3/lib/python3.8/site-packages (from nltk) (4.47.0)\n",
      "Requirement already satisfied: regex in /home/ravikrishnak/anaconda3/lib/python3.8/site-packages (from nltk) (2020.6.8)\n",
      "Requirement already satisfied: joblib in /home/ravikrishnak/anaconda3/lib/python3.8/site-packages (from nltk) (0.16.0)\n",
      "Requirement already satisfied: click in /home/ravikrishnak/anaconda3/lib/python3.8/site-packages (from nltk) (7.1.2)\n",
      "Requirement already satisfied: tika in /home/ravikrishnak/anaconda3/lib/python3.8/site-packages (1.24)\n",
      "Requirement already satisfied: setuptools in /home/ravikrishnak/anaconda3/lib/python3.8/site-packages (from tika) (49.2.0.post20200714)\n",
      "Requirement already satisfied: requests in /home/ravikrishnak/anaconda3/lib/python3.8/site-packages (from tika) (2.24.0)\n",
      "Requirement already satisfied: urllib3!=1.25.0,!=1.25.1,<1.26,>=1.21.1 in /home/ravikrishnak/anaconda3/lib/python3.8/site-packages (from requests->tika) (1.25.9)\n",
      "Requirement already satisfied: idna<3,>=2.5 in /home/ravikrishnak/anaconda3/lib/python3.8/site-packages (from requests->tika) (2.10)\n",
      "Requirement already satisfied: certifi>=2017.4.17 in /home/ravikrishnak/anaconda3/lib/python3.8/site-packages (from requests->tika) (2020.6.20)\n",
      "Requirement already satisfied: chardet<4,>=3.0.2 in /home/ravikrishnak/anaconda3/lib/python3.8/site-packages (from requests->tika) (3.0.4)\n",
      "Requirement already satisfied: textblob in /home/ravikrishnak/anaconda3/lib/python3.8/site-packages (0.15.3)\n",
      "Requirement already satisfied: nltk>=3.1 in /home/ravikrishnak/anaconda3/lib/python3.8/site-packages (from textblob) (3.5)\n",
      "Requirement already satisfied: joblib in /home/ravikrishnak/anaconda3/lib/python3.8/site-packages (from nltk>=3.1->textblob) (0.16.0)\n",
      "Requirement already satisfied: click in /home/ravikrishnak/anaconda3/lib/python3.8/site-packages (from nltk>=3.1->textblob) (7.1.2)\n",
      "Requirement already satisfied: tqdm in /home/ravikrishnak/anaconda3/lib/python3.8/site-packages (from nltk>=3.1->textblob) (4.47.0)\n",
      "Requirement already satisfied: regex in /home/ravikrishnak/anaconda3/lib/python3.8/site-packages (from nltk>=3.1->textblob) (2020.6.8)\n",
      "\u001b[33mWARNING: Keyring is skipped due to an exception: Failed to unlock the collection!\u001b[0m\n"
     ]
    },
    {
     "name": "stdout",
     "output_type": "stream",
     "text": [
      "\u001b[33mWARNING: Keyring is skipped due to an exception: Failed to unlock the collection!\u001b[0m\n",
      "Requirement already up-to-date: numpy in /home/ravikrishnak/anaconda3/lib/python3.8/site-packages (1.19.1)\n",
      "Requirement already satisfied: scikit-learn in /home/ravikrishnak/anaconda3/lib/python3.8/site-packages (0.23.1)\n",
      "Requirement already satisfied: numpy>=1.13.3 in /home/ravikrishnak/anaconda3/lib/python3.8/site-packages (from scikit-learn) (1.19.1)\n",
      "Requirement already satisfied: threadpoolctl>=2.0.0 in /home/ravikrishnak/anaconda3/lib/python3.8/site-packages (from scikit-learn) (2.1.0)\n",
      "Requirement already satisfied: scipy>=0.19.1 in /home/ravikrishnak/anaconda3/lib/python3.8/site-packages (from scikit-learn) (1.4.1)\n",
      "Requirement already satisfied: joblib>=0.11 in /home/ravikrishnak/anaconda3/lib/python3.8/site-packages (from scikit-learn) (0.16.0)\n",
      "Requirement already satisfied: natsort in /home/ravikrishnak/anaconda3/lib/python3.8/site-packages (7.0.1)\n"
     ]
    }
   ],
   "source": [
    "!pip install tensorflow==2.2.0\n",
    "!pip install nltk\n",
    "!pip install tika\n",
    "!pip install textblob\n",
    "!pip3 install --upgrade numpy\n",
    "!pip install scikit-learn\n",
    "!pip install natsort"
   ]
  },
  {
   "cell_type": "code",
   "execution_count": 3,
   "metadata": {},
   "outputs": [],
   "source": [
    "# To handle Paths\n",
    "import os\n",
    "\n",
    "# To remove Hyperlinks and Dates\n",
    "import re\n",
    "\n",
    "# To remove Puncutations\n",
    "import string\n",
    "\n",
    "# For Tokenization and Accessing Stopwords\n",
    "import nltk\n",
    "\n",
    "# To Parse the Input Data Files\n",
    "from tika import parser\n",
    "\n",
    "#natural sorting in Python.\n",
    "from natsort import natsorted\n",
    "\n",
    "#library for processing textual data\n",
    "from textblob import TextBlob\n",
    "\n",
    "# In order to use the Libraries of Tensorflow\n",
    "import tensorflow as tf\n",
    "\n",
    "# For Preprocessing the Text => To Tokenize the Text\n",
    "from tensorflow.keras.preprocessing.text import Tokenizer\n",
    "\n",
    "# If the Two Articles are of different length, pad_sequences will make the length equal\n",
    "from tensorflow.keras.preprocessing.sequence import pad_sequences\n",
    "\n",
    "## Package for performing Numerical Operations\n",
    "import numpy as np\n",
    "\n",
    "# MatplotLib for Plotting Graphs\n",
    "import matplotlib.pyplot as plt\n",
    "\n",
    "# To shuffle the Data\n",
    "from random import shuffle\n",
    "\n",
    "# To Partition the Data into Train Data and Test Data\n",
    "from sklearn.model_selection import train_test_split\n",
    "\n",
    "# To add Regularizer in order to reduce Overfitting\n",
    "from tensorflow.keras.regularizers import l2\n",
    "\n",
    "#Pandas- data manipulation and processing\n",
    "import pandas as pd\n",
    "\n",
    "#Numpy - support for large, multi-dimensional arrays and matrices\n",
    "import numpy"
   ]
  },
  {
   "cell_type": "code",
   "execution_count": 4,
   "metadata": {},
   "outputs": [
    {
     "data": {
      "text/plain": [
       "'2.2.0'"
      ]
     },
     "execution_count": 4,
     "metadata": {},
     "output_type": "execute_result"
    }
   ],
   "source": [
    "tf.__version__"
   ]
  },
  {
   "cell_type": "code",
   "execution_count": 5,
   "metadata": {},
   "outputs": [
    {
     "name": "stdout",
     "output_type": "stream",
     "text": [
      "['Civil', 'Python', 'SAP', 'Mechanical', 'Networking', 'Testing']\n"
     ]
    }
   ],
   "source": [
    "# Give the Path of our Data\n",
    "Path_Of_Data = '/home/ravikrishnak/Desktop/REsumeclassification/New_Data_Test'\n",
    "\n",
    "# Extract the Labels from the Folders inside the Path mentioned above\n",
    "Unique_Labels_List = os.listdir(Path_Of_Data)\n",
    "print(Unique_Labels_List)"
   ]
  },
  {
   "cell_type": "code",
   "execution_count": 6,
   "metadata": {},
   "outputs": [
    {
     "name": "stderr",
     "output_type": "stream",
     "text": [
      "[nltk_data] Downloading package punkt to\n",
      "[nltk_data]     /home/ravikrishnak/nltk_data...\n",
      "[nltk_data]   Package punkt is already up-to-date!\n",
      "[nltk_data] Downloading package stopwords to\n",
      "[nltk_data]     /home/ravikrishnak/nltk_data...\n",
      "[nltk_data]   Package stopwords is already up-to-date!\n"
     ]
    }
   ],
   "source": [
    "import nltk\n",
    "from nltk.corpus import stopwords\n",
    "from nltk import word_tokenize\n",
    "## This helps to remove the unnecessary words from our Text Data\n",
    "nltk.download('punkt')\n",
    "nltk.download('stopwords')\n",
    "STOPWORDS = set(stopwords.words('english'))"
   ]
  },
  {
   "cell_type": "code",
   "execution_count": 7,
   "metadata": {},
   "outputs": [
    {
     "name": "stdout",
     "output_type": "stream",
     "text": [
      "{'ll', 're', 'weren', 'ourselves', 'with', \"wasn't\", 'haven', 'himself', 'out', \"won't\", 'o', 'they', 'where', 'how', 'into', \"needn't\", 'wasn', 'both', \"it's\", 'again', 'other', 'i', 'because', \"haven't\", 'own', 'further', 'hadn', 'can', 'me', \"you're\", 'after', 'had', 'have', 'them', 's', 'does', 'all', 'her', 'by', 'between', 'these', 'that', 'very', 'she', 'should', 'couldn', \"hasn't\", 'its', 'do', 'on', \"shan't\", 'it', 'once', 'doing', \"doesn't\", 'is', 'whom', 'over', 'while', 'wouldn', 'theirs', \"aren't\", 'are', 'of', 'but', \"that'll\", 'be', 'if', 'most', 'then', \"mightn't\", 'only', 'and', 'hers', 'mustn', 'this', 'why', 'their', 'd', 'as', \"you'd\", 'am', 'when', 'doesn', \"isn't\", 'under', 'won', 'did', \"should've\", 'itself', \"mustn't\", 'your', 'each', 've', 'than', 'ours', 'aren', \"wouldn't\", 'too', 'some', 'below', 'shouldn', 'more', 'ain', 'm', 'yours', 'isn', 'having', 'above', 'you', 'same', 'being', \"weren't\", 'y', 'until', \"don't\", 'through', 'our', 'him', 'has', 'such', 't', 'up', 'just', 'we', 'in', 'what', 'at', 'who', 'ma', 'he', 'here', 'from', 'there', 'themselves', 'herself', 'or', 'needn', 'few', 'down', 'nor', 'his', 'was', 'so', 'not', 'don', 'yourself', 'during', \"couldn't\", 'will', 'were', 'for', \"you've\", 'been', 'now', \"hadn't\", 'which', 'no', \"you'll\", 'yourselves', 'mightn', 'my', 'off', 'those', 'hasn', 'to', \"didn't\", 'against', 'before', 'didn', \"she's\", 'an', 'a', 'about', 'shan', 'myself', 'the', \"shouldn't\", 'any'}\n"
     ]
    },
    {
     "data": {
      "text/plain": [
       "set"
      ]
     },
     "execution_count": 7,
     "metadata": {},
     "output_type": "execute_result"
    }
   ],
   "source": [
    "print(STOPWORDS)\n",
    "type(STOPWORDS)"
   ]
  },
  {
   "cell_type": "code",
   "execution_count": 10,
   "metadata": {},
   "outputs": [],
   "source": [
    "def Pre_Process_Data_And_Create_BOW(folder_path):\n",
    "  #creating empty lists in order to Create Resume Text and the respective Label\n",
    "  Resumes_List = [] \n",
    "  Labels_List = []\n",
    "  for EachLabel in Unique_Labels_List:      \n",
    "      for root, dirs, files in os.walk(os.path.join(folder_path, EachLabel),topdown=False):\n",
    "        for file in files:\n",
    "          i = 0\n",
    "          if file.endswith('.pdf'):\n",
    "            Full_Resume_Path = os.path.join(root, file)\n",
    "            file_data = parser.from_file(Full_Resume_Path)\n",
    "            Resume_Text = file_data['content']\n",
    "            \n",
    "            # Below Code removes the Hyperlinks in the Resume, like LinkedIn Profile, Certifications, etc..\n",
    "            HyperLink_Regex = r'http[s]?://(?:[a-zA-Z]|[0-9]|[$-_@.&+]|[!*\\(\\), ]|(?:%[0-9a-fA-F][0-9a-fA-F]))+'\n",
    "            Text_Without_HL = re.sub(HyperLink_Regex, ' ', Resume_Text, flags=re.MULTILINE)\n",
    "\n",
    "            # Below Code removes the Date from the Resume\n",
    "            Date_regEx = r'(?:\\d{1,2}[-/th|st|nd|rd\\s]*)?(?:Jan|Feb|Mar|Apr|May|Jun|Jul|Aug|Sep|Oct|Nov|Dec)?[a-z\\s,.]*(?:\\d{1,2}[-/th|st|nd|rd)\\s,]*)+(?:\\d{2,4})+'\n",
    "            CleanedText = re.sub(Date_regEx,' ',Text_Without_HL)\n",
    "\n",
    "            List_Of_All_Punctuations = list(string.punctuation)\n",
    "            Important_Punctuations = ['#', '.', '+' , '-'] #Add more, if any other Punctuation is observed as Important\n",
    "            NewLineChar = '\\n'\n",
    "            Total_Punct = len(List_Of_All_Punctuations)\n",
    "            for EachImpPunct in Important_Punctuations:\n",
    "                for CountOfPunct in range(Total_Punct):\n",
    "                    if CountOfPunct == Total_Punct:\n",
    "                        break\n",
    "                    elif EachImpPunct == List_Of_All_Punctuations[CountOfPunct]:\n",
    "                        del List_Of_All_Punctuations[CountOfPunct]\n",
    "                        Total_Punct = Total_Punct - 1\n",
    "            List_Of_All_Punctuations.append(NewLineChar)\n",
    "            for EachPunct in List_Of_All_Punctuations:\n",
    "                CleanedText = CleanedText.replace(EachPunct, \" \")\n",
    "            \n",
    "            Final_Cleaned_Resume_Text = CleanedText.lower()\n",
    "            for word in STOPWORDS:\n",
    "                stop_token = word\n",
    "                Resume_Text = Final_Cleaned_Resume_Text.replace(stop_token, ' ')\n",
    "            Resumes_List.append(Resume_Text)\n",
    "            Labels_List.append(EachLabel)\n",
    "  return Resumes_List, Labels_List"
   ]
  },
  {
   "cell_type": "code",
   "execution_count": 11,
   "metadata": {},
   "outputs": [
    {
     "name": "stderr",
     "output_type": "stream",
     "text": [
      "2020-09-02 12:01:45,216 [MainThread  ] [INFO ]  Retrieving http://search.maven.org/remotecontent?filepath=org/apache/tika/tika-server/1.24/tika-server-1.24.jar to /tmp/tika-server.jar.\n",
      "2020-09-02 12:02:03,314 [MainThread  ] [INFO ]  Retrieving http://search.maven.org/remotecontent?filepath=org/apache/tika/tika-server/1.24/tika-server-1.24.jar.md5 to /tmp/tika-server.jar.md5.\n",
      "2020-09-02 12:02:05,485 [MainThread  ] [WARNI]  Failed to see startup log message; retrying...\n"
     ]
    }
   ],
   "source": [
    "#calling the function and passing the path\n",
    "Resumes_List,  Labels_List = Pre_Process_Data_And_Create_BOW(Path_Of_Data)"
   ]
  },
  {
   "cell_type": "code",
   "execution_count": 12,
   "metadata": {},
   "outputs": [
    {
     "data": {
      "text/plain": [
       "'                            current designation  not workin  current comp   not working  current location  ratnagiri  pref. location  japan kuwait  functional area  site engineering   project management  role  construction-construction management  industry  oil and gas power infrastructure energy  marital status  married  total experience  13 year s  0 month s   notice period  15 days or less  highest degree  pg diploma  civil   verified   phone number    email - id  id   a  last active  17-feb-20 last modified  13-feb-20  not working as not workin   to till date  fluor daniel as civil superintendent   to         managed the selection of construction material   ensured that the selected material is approved as per project  shuaibuddin naimuddin panchbhai  civil superintendent seeking roles in project management construction  management contract management quality management site administration safety  management civil engineering tendering resource utilization techno-commercial  management  key skills  csa superintendent constrution-construction management project management contract management quality management site administration safety management civil engineering tendering resource utilization techno-commercial management vendor management  summary a competent professional with nearly 13 years of experience in construction   project management  site administration  and quantity surveying  led project management  quantity surveying  cost control and contact management for major industrial project like oil   gas   infrastructure projects across east dubai  kuwait   east africa exposure of managing green field brown field civil concrete structure  steel structure   architectural  bulk of earth work  underground   maintenance of ports safety  quality  progress planning and turn over showcased excellence in performing activities including estimation  site inspections  techno-commercial negotiations  settlement of bills and checking   obtaining approvals to ensure maximum profitability experienced in managing a gamut of activities pertaining to the evaluation of bids and negotiation  awarding   reviewing of contracts as per contract regimes  bridging contract agreement   settlement of contract claims and disputes   work experience        5 06 pm    specifications with availability of all heavy vehicles as per project requirements      reviewed   validated the subcontractor itp  qcp  method statement procedure risk assessments to meet the contractual requirements      monitored all activities including tank foundations  equipment foundation  ring wall  retaining wall  dike wall  ramp wall  horizontal pump and house  metering skid  pipe bridge  pre-cast manhole  catch basin  valve box  joint box  concrete pipe sleepers pipe racks  miscellaneous pipe support  pits  duck bank  concrete cable trench   ditches  paving concrete   asphalt road ways      prepared authorizations and obtained approval from refinery concert operations department      obtained approvals of road closures for installation of duct bank  ug  ag sleeves   culverts in coordination with refinery      steered the successful roll-out of project operations entailing defining scope  setting timelines  analyzing requirements  budget review   approval  prioritizing tasks and identifying dependencies as per preset budgets      spearheaded the functions like supervision  coordination   review of survey  quality control  mobilization of manpower  materials   equipment and cost control      ensured delivery including identification   addressed emerging issues  secured deployment of adequate resources  delivered all client commitments within time budget constraints      interfaced with architects  consultants  clients   contractors to ascertain technical specifications  construction related essentials based on the prevalent rules      overcame complex challenges and making high-stakes decisions using experience-backed judgment  strong work ethics   irreproachable integrity      prepared tender specifications   finalized requirements  interacted with consultants for technical   contractual matters      inspected material quality received from vendors  suppliers and monitored subcontractor  quality in work execution      reviewed pre-qualification request  pqr  of proposed bidders  evaluated profile  submitted documents and assessed capabilities in performing similar projects      finalized terms   conditions of contracts  managed settlement of agreements  performed analysis to ensure that contracts are finalized within negotiated   agreed-upon parameters  fluor fdhjv as csa superintendent   to    role  managed the selection of construction material   ensured that the selected material is approved as per project specifications with availability of all heavy vehicles as per project requirements reviewed   validated the subcontractor itp  qcp  method statement procedure risk assessments to meet the contractual requirements monitored all activities including tank foundations  equipment foundation  ring wall  retaining wall  dike wall  ramp wall  horizontal pump and house  metering skid  pipe bridge  pre-cast manhole  catch basin  valve box  joint box  concrete pipe sleepers pipe racks  miscellaneous pipe support  pits  duck bank  concrete cable trench   ditches  paving concrete   asphalt road ways prepared authorizations and obtained approval from refinery concert operations department obtained approvals of road closures for installation of duct bank  ug  ag sleeves   culverts in coordination with refinery steered the successful roll-out of project operations entailing defining scope  setting timelines  analyzing requirements  budget review   approval  prioritizing tasks and identifying dependencies as per preset budgets spearheaded the functions like supervision  coordination   review of survey  quality control  mobilization of manpower  materials   equipment and cost control ensured delivery including identification   addressed emerging issues  secured deployment of adequate resources  delivered all client commitments within time budget constraints interfaced with architects  consultants  clients   contractors to ascertain technical specifications  construction related essentials based on the prevalent rules overcame complex challenges and making high-stakes decisions using experience-backed judgment  strong work ethics   irreproachable integrity prepared tender specifications   finalized requirements  interacted with consultants for technical   contractual matters inspected material quality received from vendors  suppliers and monitored subcontractor  quality in work execution reviewed pre-qualification request  pqr  of proposed bidders  evaluated profile  submitted documents and assessed capabilities in performing similar projects finalized terms   conditions of contracts  managed settlement of agreements  performed analysis to ensure that contracts are finalized within negotiated   agreed-upon parameters highlights  evaluated methods for the tank foundation  sleepers  underground piping  clean fuel p   project as well as facilitated improvements in project work  these included tank erection outcomes        5 06 pm    created and modified details and specifications related to knpc   shell standards for individual project while adhering to respective county and state standards and norms  hanwha  epc  as civil engineer   to    highlights  prepared report in coordination with surveyor about technical analysis   survey of temporary   permanent benchmark sand field data for development of topographic  soil  hydrological or other information managed building foundation   steel structure erection  duct bank  precast manhole  and inter refinery concrete cable trench  manual call pont   junction box foundation installation  underground piping  concrete paving  asphalting work  petroland  epc  as civil site engineer   to    project  network infrastructure project   client  nawfaq  east africa   ug  b.tech b.e.  civil  from bhartiya shikhsha p   pg  pg diploma  civil  from government polytechnic  r   other qualifications certifications programs   diploma in civil engineering  education  it skills  skill name version last used experience  sp3d  autocad  primavera  p  5 year s  7 month s   microsoft office   ms-project o  year s  4 month s   languages known  language proficiency read write speak  english expert  hindi expert  urdu expert  marathi expert  arabic proficient        5 06 pm    nature of employment  full time project location  kuwait role  other  duration    -   onsite   offsite  offsite team size  8  affirmative action  category  general  physically challenged  no  work authorization  us work status  authorized to work in the us  countries  bahrain dubai oman  job type  permanent  employment status  full time  projects  project title  clean fuel p  client  knpc  skill used  production planning  material planning  quality control  quality assurance  role description        pre-plan of work activities to meet contract  schedule and quality requirements including safety action plans.       reviews all contracts  project documentation and plans to ensure the work in the field is built to specifications. project details  a strategic project to expand and upgrade mina abdullah refineries to be an integrated r  bpd. it is expected to boost kuwait s global position in the oil refining industry.        5 06 pm   '"
      ]
     },
     "execution_count": 12,
     "metadata": {},
     "output_type": "execute_result"
    }
   ],
   "source": [
    "Resumes_List[0]"
   ]
  },
  {
   "cell_type": "code",
   "execution_count": 13,
   "metadata": {},
   "outputs": [],
   "source": [
    "resumes = list (zip(Resumes_List,  Labels_List))"
   ]
  },
  {
   "cell_type": "code",
   "execution_count": 14,
   "metadata": {},
   "outputs": [],
   "source": [
    "df = pd.DataFrame(resumes)"
   ]
  },
  {
   "cell_type": "code",
   "execution_count": 20,
   "metadata": {},
   "outputs": [
    {
     "name": "stdout",
     "output_type": "stream",
     "text": [
      "                                                      0        1\n",
      "0                                 current designatio...    Civil\n",
      "1                                 current designatio...    Civil\n",
      "2        …   … 1 2  current designation  engineer ci...    Civil\n",
      "3        …   … 1 2  current designation  deputy mana...    Civil\n",
      "4        …   … 1 2  current designation  civil engin...    Civil\n",
      "...                                                 ...      ...\n",
      "1958     …   … 1 3  current designation  software te...  Testing\n",
      "1959     …   … 1 3  current designation  software te...  Testing\n",
      "1960     …   … 1 6  current designation  software te...  Testing\n",
      "1961     …   … 1 2  current location  bengaluru   ba...  Testing\n",
      "1962     …   … 1 2  current designation  automation ...  Testing\n",
      "\n",
      "[1963 rows x 2 columns]\n"
     ]
    }
   ],
   "source": [
    "print(df)"
   ]
  },
  {
   "cell_type": "code",
   "execution_count": 26,
   "metadata": {},
   "outputs": [],
   "source": [
    "df.to_csv(\"/home/ravikrishnak/Desktop/Data/test.csv\",sep=\",\")"
   ]
  },
  {
   "cell_type": "code",
   "execution_count": 23,
   "metadata": {},
   "outputs": [
    {
     "data": {
      "text/plain": [
       "'/home/ravikrishnak/Desktop/REsumeclassification/Ravi/Ravi_Latest'"
      ]
     },
     "execution_count": 23,
     "metadata": {},
     "output_type": "execute_result"
    }
   ],
   "source": [
    "pwd"
   ]
  },
  {
   "cell_type": "code",
   "execution_count": 27,
   "metadata": {},
   "outputs": [
    {
     "name": "stdout",
     "output_type": "stream",
     "text": [
      "Total Number of Classes are  6\n",
      "Total Number of Resumes are  1963\n",
      "Total Number of Labels are  1963\n"
     ]
    }
   ],
   "source": [
    "print(\"Total Number of Classes are \", len(Unique_Labels_List))\n",
    "print(\"Total Number of Resumes are \", len(Resumes_List))\n",
    "print(\"Total Number of Labels are \", len(Labels_List))"
   ]
  },
  {
   "cell_type": "code",
   "execution_count": 28,
   "metadata": {},
   "outputs": [],
   "source": [
    "# Code to Delete the Duplicate Resumes and the Respective Labels\n",
    "\n",
    "Total_Number_Of_Resumes = len(Resumes_List)\n",
    "\n",
    "Count = 0\n",
    "\n",
    "for Each_Resume in Resumes_List:\n",
    "    \n",
    "    for Instance_Count in range(Count+1, Total_Number_Of_Resumes):\n",
    "        if Instance_Count == Total_Number_Of_Resumes:\n",
    "            break\n",
    "        elif Each_Resume == Resumes_List[Instance_Count]:\n",
    "          del Resumes_List[Instance_Count]\n",
    "          del Labels_List[Instance_Count]\n",
    "          Total_Number_Of_Resumes = Total_Number_Of_Resumes - 1\n",
    "    Count = Count + 1"
   ]
  },
  {
   "cell_type": "code",
   "execution_count": 29,
   "metadata": {},
   "outputs": [
    {
     "name": "stdout",
     "output_type": "stream",
     "text": [
      "Total Number of Classes are  6\n",
      "Total Number of Unique Resumes are  1911\n",
      "Total Number of Unique Labels are  1911\n"
     ]
    }
   ],
   "source": [
    "print(\"Total Number of Classes are \", len(Unique_Labels_List))\n",
    "print(\"Total Number of Unique Resumes are \", len(Resumes_List))\n",
    "print(\"Total Number of Unique Labels are \", len(Labels_List))"
   ]
  },
  {
   "cell_type": "code",
   "execution_count": 31,
   "metadata": {},
   "outputs": [],
   "source": [
    "vocab_size = 5000\n",
    "#vocab_size = 8000\n",
    "# We want the Output of the Embedding Layer to be 64\n",
    "embedding_dim = 64\n",
    "#max_length = 200\n",
    "max_length = 800\n",
    "trunc_type = 'post'\n",
    "padding_type = 'post'\n",
    "oov_tok = '<OOV>'\n",
    "# Taking 80% of the Data as Training Data and remaining 20% will be for Test Data\n",
    "training_portion = .8"
   ]
  },
  {
   "cell_type": "code",
   "execution_count": 32,
   "metadata": {},
   "outputs": [
    {
     "name": "stdout",
     "output_type": "stream",
     "text": [
      "train_size = 1528\n",
      "Number of Train Resumes = 1528\n",
      "Number of Train Labels = 1528\n",
      "Number of Validation Resumes = 383\n",
      "Number of Validation Labels = 383\n"
     ]
    }
   ],
   "source": [
    "# Size of Train Data is 80% of the Entire Dataset => 0.8 * 2225\n",
    "\n",
    "Train_Resume_Size = int(len(Resumes_List) * training_portion)\n",
    "'''\n",
    "# Extracting Train Data\n",
    "Train_Resume_Data = Resumes_List[0: Train_Resume_Size]\n",
    "Train_Labels = Labels_List[0: Train_Resume_Size]\n",
    "\n",
    "# Extracting Validation Data\n",
    "Validation_Resume_Data = Resumes_List[Train_Resume_Size:]\n",
    "Validation_Labels = Labels_List[Train_Resume_Size:]\n",
    "'''\n",
    "\n",
    "Train_Resume_Data, Validation_Resume_Data, Train_Labels, Validation_Labels = \\\n",
    "                    train_test_split(Resumes_List, Labels_List, train_size = training_portion, \n",
    "                                     shuffle = True\n",
    "                                     , stratify= Labels_List,random_state=1234)\n",
    "\n",
    "print('train_size = {}'.format(Train_Resume_Size))\n",
    "print('Number of Train Resumes = {}'.format(len(Train_Resume_Data)))\n",
    "print('Number of Train Labels = {}'.format(len(Train_Labels)))\n",
    "print('Number of Validation Resumes = {}'.format(len(Validation_Resume_Data)))\n",
    "print('Number of Validation Labels = {}'.format(len(Validation_Labels)))"
   ]
  },
  {
   "cell_type": "code",
   "execution_count": 33,
   "metadata": {},
   "outputs": [
    {
     "name": "stdout",
     "output_type": "stream",
     "text": [
      "Average Number of Words in Each Training Resume is 5441.409685863874\n"
     ]
    }
   ],
   "source": [
    "from statistics import mean\n",
    "print('Average Number of Words in Each Training Resume is {}'.format(mean([len(i) for i in Train_Resume_Data])))"
   ]
  },
  {
   "cell_type": "code",
   "execution_count": 34,
   "metadata": {},
   "outputs": [
    {
     "data": {
      "text/plain": [
       "str"
      ]
     },
     "execution_count": 34,
     "metadata": {},
     "output_type": "execute_result"
    }
   ],
   "source": [
    "type(Train_Resume_Data[0])"
   ]
  },
  {
   "cell_type": "code",
   "execution_count": 35,
   "metadata": {},
   "outputs": [],
   "source": [
    "resumes1 = list (zip(Train_Resume_Data,  Train_Labels))"
   ]
  },
  {
   "cell_type": "code",
   "execution_count": 36,
   "metadata": {},
   "outputs": [],
   "source": [
    "df1 = pd.DataFrame(resumes1)"
   ]
  },
  {
   "cell_type": "code",
   "execution_count": 37,
   "metadata": {},
   "outputs": [
    {
     "name": "stdout",
     "output_type": "stream",
     "text": [
      "                                                      0           1\n",
      "0        …   … 1 3  current designation  integrated ...  Networking\n",
      "1        …   … 1 2  current designation  project eng...       Civil\n",
      "2        …   … 1 3  current designation  sap mm srm ...         SAP\n",
      "3        …   … 1 2  current designation  head archit...  Mechanical\n",
      "4        …   … 1 2  current designation  technical l...      Python\n",
      "...                                                 ...         ...\n",
      "1523                              current designatio...       Civil\n",
      "1524     …   … 1 3  current designation  senior prog...  Mechanical\n",
      "1525     …   … 1 1  current designation  big data an...      Python\n",
      "1526                              current designatio...       Civil\n",
      "1527     …   … 1 3  current designation  manager-eng...  Mechanical\n",
      "\n",
      "[1528 rows x 2 columns]\n"
     ]
    }
   ],
   "source": [
    "print(df1)"
   ]
  },
  {
   "cell_type": "code",
   "execution_count": 38,
   "metadata": {},
   "outputs": [],
   "source": [
    "df1.to_csv(\"/home/ravikrishnak/Desktop/Train_Resume_Data.csv\",sep=\",\")\n"
   ]
  },
  {
   "cell_type": "code",
   "execution_count": 39,
   "metadata": {},
   "outputs": [],
   "source": [
    "resumes2 = list (zip(Validation_Resume_Data,  Validation_Labels))"
   ]
  },
  {
   "cell_type": "code",
   "execution_count": 40,
   "metadata": {},
   "outputs": [],
   "source": [
    "df2 = pd.DataFrame(resumes2)"
   ]
  },
  {
   "cell_type": "code",
   "execution_count": 41,
   "metadata": {},
   "outputs": [
    {
     "name": "stdout",
     "output_type": "stream",
     "text": [
      "                                                     0           1\n",
      "0       …   … 1 3  current designation  software te...     Testing\n",
      "1       …   … 1 3  current designation  test analys...     Testing\n",
      "2       …   … 1 4  current designation  senior cons...  Networking\n",
      "3       …   … 1 3  current designation  dcs operato...         SAP\n",
      "4       …   … 1 3  current designation  senior sofw...     Testing\n",
      "..                                                 ...         ...\n",
      "378     …   … 1 3  current designation  associate c...     Testing\n",
      "379     …   … 1 3  current designation  chief execu...  Mechanical\n",
      "380                              current designatio...       Civil\n",
      "381     …   … 1 3  current designation  sap fico co...         SAP\n",
      "382     …   … 1 4  current designation  sap certifi...         SAP\n",
      "\n",
      "[383 rows x 2 columns]\n"
     ]
    }
   ],
   "source": [
    "print(df2)"
   ]
  },
  {
   "cell_type": "code",
   "execution_count": 42,
   "metadata": {},
   "outputs": [],
   "source": [
    "df2.to_csv(\"/home/ravikrishnak/Desktop/Validation_Resume_Data.csv\",sep=\",\")"
   ]
  },
  {
   "cell_type": "code",
   "execution_count": 43,
   "metadata": {},
   "outputs": [
    {
     "name": "stdout",
     "output_type": "stream",
     "text": [
      "Number of Unique Training Labels = 6\n",
      "Number of Unique Validation Labels = 6\n"
     ]
    }
   ],
   "source": [
    "print(\"Number of Unique Training Labels = {}\".format(len(set(Train_Labels))))\n",
    "print(\"Number of Unique Validation Labels = {}\".format(len(set(Validation_Labels))))"
   ]
  },
  {
   "cell_type": "code",
   "execution_count": 44,
   "metadata": {},
   "outputs": [
    {
     "data": {
      "text/plain": [
       "{'<OOV>': 1,\n",
       " 'and': 2,\n",
       " 'of': 3,\n",
       " 'the': 4,\n",
       " 'to': 5,\n",
       " 'in': 6,\n",
       " 'for': 7,\n",
       " 'project': 8,\n",
       " 's': 9,\n",
       " 'management': 10}"
      ]
     },
     "execution_count": 44,
     "metadata": {},
     "output_type": "execute_result"
    }
   ],
   "source": [
    "tokenizer = Tokenizer(num_words = vocab_size, oov_token=oov_tok)\n",
    "tokenizer.fit_on_texts(Train_Resume_Data)       \n",
    "word_index = tokenizer.word_index\n",
    "dict(list(word_index.items())[0:10])\n"
   ]
  },
  {
   "cell_type": "code",
   "execution_count": 45,
   "metadata": {},
   "outputs": [],
   "source": [
    "import pickle\n",
    "\n",
    "# saving\n",
    "with open('tokenizer.pickle', 'wb') as handle:\n",
    "    pickle.dump(tokenizer, handle, protocol=pickle.HIGHEST_PROTOCOL)"
   ]
  },
  {
   "cell_type": "code",
   "execution_count": 46,
   "metadata": {},
   "outputs": [
    {
     "data": {
      "text/plain": [
       "keras_preprocessing.text.Tokenizer"
      ]
     },
     "execution_count": 46,
     "metadata": {},
     "output_type": "execute_result"
    }
   ],
   "source": [
    "type(tokenizer)"
   ]
  },
  {
   "cell_type": "code",
   "execution_count": 47,
   "metadata": {},
   "outputs": [
    {
     "data": {
      "text/plain": [
       "dict"
      ]
     },
     "execution_count": 47,
     "metadata": {},
     "output_type": "execute_result"
    }
   ],
   "source": [
    "type(word_index)"
   ]
  },
  {
   "cell_type": "code",
   "execution_count": 48,
   "metadata": {},
   "outputs": [
    {
     "name": "stdout",
     "output_type": "stream",
     "text": [
      "Average Number of Words in Each Training Resume is 754.8678010471205\n"
     ]
    }
   ],
   "source": [
    "# Convert the Word Tokens into Integer equivalents, before passing it to keras embedding layer\n",
    "train_sequences = tokenizer.texts_to_sequences(Train_Resume_Data)\n",
    "#print(train_sequences[10])\n",
    "\n",
    "from statistics import mean\n",
    "\n",
    "# To calculate the average length of all the Train Resumes\n",
    "print('Average Number of Words in Each Training Resume is {}'.format(mean([len(i) for i in train_sequences])))"
   ]
  },
  {
   "cell_type": "code",
   "execution_count": 37,
   "metadata": {},
   "outputs": [
    {
     "name": "stdout",
     "output_type": "stream",
     "text": [
      "[23, 23, 55, 31, 43, 161, 2, 101, 234, 33, 157, 43, 5, 97, 1, 43, 14, 49, 2, 228, 178, 14, 49, 2, 315, 228, 377, 602, 53, 32, 118, 30, 9, 35, 242, 22, 7, 52, 48, 157, 84, 157, 115, 30, 9, 35, 9, 35, 103, 183, 57, 285, 320, 8, 125, 24, 284, 41, 9, 51, 10, 47, 9, 2, 179, 117, 25, 336, 504, 7, 523, 165, 162, 21, 84, 21, 67, 295, 333, 323, 258, 2, 166, 146, 91, 150, 153, 39, 1, 19, 101, 234, 33, 157, 8, 116, 76, 101, 234, 33, 157, 101, 234, 433, 14, 1, 1, 38, 1, 73, 19, 184, 7, 4, 13, 157, 8, 11, 9, 52, 101, 234, 994, 12, 11, 1799, 2, 39, 1, 46, 134, 675, 46, 10, 159, 675, 1, 3021, 2711, 88, 4458, 184, 7, 4, 13, 157, 101, 234, 33, 157, 101, 234, 22, 187, 431, 33, 94, 33, 522, 38, 321, 14, 1304, 321, 365, 14, 225, 22, 1085, 22, 442, 14, 225, 2121, 442, 607, 442, 443, 9, 1, 358, 95, 58, 184, 7, 5, 191, 101, 234, 33, 42, 22, 647, 101, 234, 22, 187, 431, 33, 94, 33, 522, 38, 321, 14, 1304, 321, 365, 1085, 22, 442, 14, 225, 2121, 442, 607, 442, 443, 9, 1, 358, 14, 225, 22, 99, 2437, 22, 152, 1614, 15, 96, 12, 11, 976, 3, 184, 7, 4, 13, 101, 234, 33, 157, 130, 1, 38, 1, 73, 284, 137, 3, 8, 125, 9, 35, 40, 24, 252, 635, 200, 431, 967, 3879, 343, 1, 2832, 25, 1659, 33, 498, 9, 6, 149, 1896, 12, 388, 2, 6, 123, 2, 3, 33, 241, 33, 4, 583, 6, 33, 490, 1047, 4, 26, 1305, 1127, 2, 20, 11, 94, 6, 1193, 37, 248, 2, 14, 1304, 6, 365, 610, 967, 2520, 6, 358, 1584, 101, 234, 22, 3, 7, 151, 90, 29, 10, 641, 182, 8, 182, 101, 234, 22, 967, 14, 1, 6, 9, 1, 6, 291, 1236, 27, 16, 10, 136, 156, 6, 63, 15, 215, 19, 34, 361, 3, 426, 15, 215, 285, 1, 3, 7, 1334, 4, 75, 19, 378, 1015, 6, 690, 101, 234, 22, 426, 3, 7, 34, 5, 1, 3, 4, 75, 384, 948, 899, 4308, 3, 380, 114, 496, 19, 378, 19, 699, 1, 3, 7, 534, 122, 48, 6, 7, 367, 2, 2, 34, 934, 420, 15, 16, 24, 127, 99, 39, 51, 127, 99, 39, 23, 23, 36, 31, 1342, 112, 148, 73, 19, 184, 7, 5, 191, 8, 187, 431, 20, 11, 4, 13, 48, 33, 8, 14, 738, 273, 11, 15, 16, 14, 225, 10, 356, 4, 26, 1305, 1127, 2, 20, 11, 94, 6, 11, 1193, 2062, 427, 257, 11, 57, 71, 50, 8, 86, 11, 580, 664, 2, 34, 334, 620, 420, 700, 388, 2, 3, 7, 11, 151, 90, 498, 9, 12, 307, 342, 56, 1236, 101, 234, 22, 3, 11, 81, 2, 625, 33, 6, 1618, 11, 907, 3, 1119, 218, 1258, 18, 20, 11, 4, 13, 48, 273, 11, 498, 9, 3, 7, 86, 11, 1244, 663, 6, 2, 2, 663, 14, 225, 1085, 9, 4006, 1, 33, 144, 18, 10, 136, 156, 11, 702, 550, 11, 144, 18, 6, 1047, 11, 676, 63, 71, 50, 1618, 11, 33, 667, 20, 86, 11, 580, 664, 26, 69, 1002, 144, 2, 5, 1, 11, 874, 20, 11, 283, 468, 71, 50, 810, 103, 148, 73, 19, 9, 35, 40, 184, 7, 287, 8, 187, 431, 20, 11, 4, 13, 48, 33, 8, 14, 738, 5, 345, 2, 20, 11, 56, 6, 11, 442, 48, 300, 2210, 503, 273, 11, 15, 16, 14, 225, 10, 356, 4, 26, 1305, 1127, 2, 20, 11, 94, 6, 11, 1193, 2062, 427, 257, 11, 57, 71, 50, 8, 86, 11, 580, 664, 2, 34, 334, 420, 700, 388, 2, 3, 7, 11, 151, 90, 498, 9, 12, 307, 342, 56, 1236, 101, 234, 22, 3, 11, 81, 2, 625, 33, 6, 1618, 11, 907, 3, 1119, 218, 1258, 18, 20, 11, 4, 13, 48, 273, 11, 498, 9, 3, 7, 86, 11, 1244, 663, 6, 2, 2, 663, 14, 225, 1085, 9, 4006, 1, 33, 144, 18, 2432, 198, 11, 1584, 101, 234, 22, 110, 1036, 11, 1584, 88, 893, 12, 2096, 407, 10, 393, 12, 29, 10, 136, 156, 11, 702, 550, 11, 144, 18, 6, 1047, 11, 676, 63, 71, 50, 1618, 11, 33, 667, 20, 86, 11, 580, 664, 26, 69, 1002, 144, 2, 5, 1, 11, 874, 20, 11, 283, 468, 71, 50, 8, 193, 92, 14, 140, 442, 14, 1, 442, 101, 234, 433, 245, 2521, 632, 4, 8, 5, 14, 29, 26, 855, 4847, 2, 5, 4147, 3555, 6, 4847, 2, 2399, 147, 21, 84, 21, 67, 295, 333, 323, 258, 2, 45, 10, 3465, 60, 502, 3, 92, 14, 140, 4148, 121, 330, 18, 301, 18, 4, 299, 387, 832, 671, 81, 2, 291, 5, 177, 2, 1, 1421, 2, 245, 103, 543, 22, 1, 181, 2, 30, 9, 23, 23, 31, 31, 175, 126, 2, 174, 176, 2, 15, 16, 124, 154, 2, 88, 21, 129, 173, 1192, 1235, 66, 65, 57, 78, 54, 107, 142, 158, 2, 46, 77, 24, 442, 14, 225, 2121, 442, 101, 234, 433, 442, 607, 442, 62, 433, 9, 1, 358, 1881, 1, 14, 29, 971, 29, 535, 1, 3879, 1, 15, 1, 167, 79, 122, 143, 4, 160, 171, 168, 188, 209, 210, 185, 210, 1919, 856]\n"
     ]
    }
   ],
   "source": [
    "print(train_sequences[10])"
   ]
  },
  {
   "cell_type": "code",
   "execution_count": 49,
   "metadata": {},
   "outputs": [
    {
     "name": "stdout",
     "output_type": "stream",
     "text": [
      "681\n",
      "800\n",
      "480\n",
      "800\n",
      "708\n",
      "800\n"
     ]
    }
   ],
   "source": [
    "train_padded = pad_sequences(train_sequences, maxlen=max_length, padding=padding_type, truncating=trunc_type)\n",
    "print(len(train_sequences[0]))\n",
    "print(len(train_padded[0]))\n",
    "\n",
    "print(len(train_sequences[1]))\n",
    "print(len(train_padded[1]))\n",
    "\n",
    "print(len(train_sequences[10]))\n",
    "print(len(train_padded[10]))"
   ]
  },
  {
   "cell_type": "code",
   "execution_count": 50,
   "metadata": {},
   "outputs": [
    {
     "name": "stdout",
     "output_type": "stream",
     "text": [
      "383\n",
      "(383, 800)\n"
     ]
    }
   ],
   "source": [
    "validation_sequences = tokenizer.texts_to_sequences(Validation_Resume_Data)\n",
    "validation_padded = pad_sequences(validation_sequences, maxlen=max_length, padding=padding_type, truncating=trunc_type)\n",
    "\n",
    "print(len(validation_sequences))\n",
    "print(validation_padded.shape)"
   ]
  },
  {
   "cell_type": "code",
   "execution_count": 51,
   "metadata": {},
   "outputs": [],
   "source": [
    "# Initializing the Tokenizer Object\n",
    "label_tokenizer = Tokenizer()\n",
    "\n",
    "# We are (Fitting) using \"fit_on_texts\" here, which we \n",
    "# haven't used for Test Data because we want the Labels to be Tokenized differently from that of Training Data\n",
    "\n",
    "label_tokenizer.fit_on_texts(Unique_Labels_List)\n",
    "\n",
    "# Since it should be a Numpy Array, we should Convert the Sequences to Numpy Array, for both Training and \n",
    "# Test Labels\n",
    "\n",
    "#training_label_seq = np.array(label_tokenizer.texts_to_sequences(Train_Labels))\n",
    "\n",
    "#validation_label_seq = np.array(label_tokenizer.texts_to_sequences(Validation_Labels))"
   ]
  },
  {
   "cell_type": "code",
   "execution_count": 52,
   "metadata": {},
   "outputs": [],
   "source": [
    "training_label_list = label_tokenizer.texts_to_sequences(Train_Labels)\n",
    "\n",
    "for x in training_label_list:\n",
    "  x[0] = x[0] - 1\n",
    "#training_label_seq = np.hstack(training_label_list)-1"
   ]
  },
  {
   "cell_type": "code",
   "execution_count": 53,
   "metadata": {},
   "outputs": [],
   "source": [
    "validation_label_list = label_tokenizer.texts_to_sequences(Validation_Labels)\n",
    "for x in validation_label_list:\n",
    "  x[0] = x[0] - 1\n",
    "#validation_label_seq = np.hstack(validation_label_list)-1"
   ]
  },
  {
   "cell_type": "code",
   "execution_count": 54,
   "metadata": {},
   "outputs": [
    {
     "data": {
      "text/plain": [
       "array([4, 0, 2, ..., 1, 0, 3])"
      ]
     },
     "execution_count": 54,
     "metadata": {},
     "output_type": "execute_result"
    }
   ],
   "source": [
    "training_label_seq = np.hstack(training_label_list)\n",
    "training_label_seq"
   ]
  },
  {
   "cell_type": "code",
   "execution_count": 55,
   "metadata": {},
   "outputs": [
    {
     "data": {
      "text/plain": [
       "array([5, 5, 4, 2, 5, 0, 5, 2, 4, 2, 1, 0, 3, 1, 4, 3, 2, 1, 0, 3, 2, 4,\n",
       "       3, 4, 4, 1, 1, 1, 2, 5, 3, 2, 4, 4, 5, 1, 2, 5, 4, 5, 4, 1, 3, 2,\n",
       "       5, 4, 3, 0, 0, 1, 0, 5, 3, 2, 3, 3, 0, 4, 5, 4, 4, 5, 2, 4, 4, 2,\n",
       "       0, 1, 3, 2, 5, 3, 2, 2, 1, 4, 0, 0, 1, 2, 4, 5, 1, 3, 5, 2, 3, 4,\n",
       "       1, 3, 4, 5, 5, 3, 0, 3, 3, 3, 4, 1, 2, 4, 2, 0, 3, 2, 3, 3, 3, 1,\n",
       "       5, 1, 5, 0, 2, 4, 0, 0, 3, 0, 4, 5, 1, 0, 2, 3, 3, 1, 4, 4, 2, 4,\n",
       "       3, 1, 2, 3, 1, 3, 4, 2, 0, 1, 4, 0, 1, 0, 2, 0, 3, 4, 5, 2, 1, 1,\n",
       "       0, 1, 3, 3, 3, 2, 0, 2, 1, 5, 0, 3, 2, 2, 0, 2, 1, 1, 0, 3, 1, 1,\n",
       "       2, 5, 0, 2, 2, 0, 4, 3, 5, 2, 2, 3, 3, 4, 5, 4, 5, 5, 4, 4, 3, 4,\n",
       "       2, 1, 2, 4, 3, 0, 0, 5, 3, 5, 3, 4, 3, 4, 4, 0, 0, 1, 4, 0, 5, 3,\n",
       "       3, 5, 5, 4, 1, 4, 1, 1, 0, 0, 3, 0, 4, 4, 5, 0, 1, 3, 5, 1, 2, 0,\n",
       "       1, 1, 5, 5, 1, 1, 0, 1, 1, 2, 4, 2, 5, 3, 4, 3, 0, 1, 0, 2, 0, 4,\n",
       "       0, 3, 2, 5, 5, 3, 1, 3, 1, 3, 4, 2, 3, 5, 1, 1, 2, 0, 3, 1, 5, 1,\n",
       "       0, 5, 4, 1, 2, 3, 4, 5, 0, 1, 1, 4, 5, 4, 5, 4, 1, 2, 5, 5, 5, 5,\n",
       "       4, 3, 2, 2, 3, 2, 2, 1, 1, 5, 1, 2, 3, 3, 3, 2, 0, 5, 1, 4, 5, 2,\n",
       "       0, 0, 2, 0, 0, 3, 4, 5, 3, 2, 0, 0, 0, 2, 5, 1, 5, 5, 4, 1, 2, 2,\n",
       "       3, 0, 0, 3, 1, 4, 0, 4, 0, 0, 3, 0, 3, 5, 1, 5, 5, 5, 4, 5, 4, 5,\n",
       "       0, 2, 0, 2, 5, 3, 0, 2, 2])"
      ]
     },
     "execution_count": 55,
     "metadata": {},
     "output_type": "execute_result"
    }
   ],
   "source": [
    "validation_label_seq = np.hstack(validation_label_list)\n",
    "validation_label_seq"
   ]
  },
  {
   "cell_type": "code",
   "execution_count": 56,
   "metadata": {},
   "outputs": [
    {
     "data": {
      "text/plain": [
       "'   …   … 1 2  current designation  civil engineer  current comp   utm engineering pvt ltd  current location  burdwan  pref. location  delhi   ncr kolkata shimla  functional area  site engineering   project management  role  civil engnr-highway roadway  industry  mining  date of birth   gender      male  marital status  single unmarried  total experience  1 year s   annual salary  rs 2.20 lac s   notice period  15 days or less  highest degree  b.tech b.e.  civil   address  vill+p.o painta  p.s-madhabdihi  burdwan -   verified    phone number     email - id   utm engineering pvt. ltd as civil engineer   to   project        t1 tunnel project  usbrl project j k-  client      konkan railway corporation ltd.   nrp projects pvt. ltd. as supervisor   to   role  fabrication   erection of oil storage tanks at rajasthan  jaipur  key result areas   id  12cb1dd  c c  last active  15-dec-19 last modified  9-dec-19  ramkrishna mandal       civil engineer seeking roles in civil engineering construction management site operations project management budgeting quality control hse management safety analysis resource management design management quality compliance  key skills  civil engineer  civil engineering construction management site operations project management budgeting quality control hse management safety analysis resource management design management quality compliance     summary a competent professional  completed b.tech. in civil engineering from m.a.k.a.u.t  offering over 1 year of experience in project management  construction management  hse management   civil engineering previously associated with utm engineering pvt. ltd. and nrp projects pvt. ltd.  successfully managed the execution of projects project titled  t1 tunnel project  usbrl project j k-  and fabrication   erection of oil storage tanks at rajasthan  jaipur hands-on experience in the execution of all kinds of civil project work with a comprehensive knowledge of natm method  exposed structures  construction management  project estimation  controlling  design management and quantity checking   estimate  capable of ramping up projects with competent cross-functional skills and ensuring on-time deliverables within preset cost parameters  preparing drawings and resolving day-to-day problems     work experience  javascript void    …   … 2 2  prepared project baselines  monitored and controlled projects with respect to cost  resource deployment  time overrun and quality compliance to ensure satisfactory execution of projects visited site to check all the conditions that may affect the project in coordination with senior ensured quality control in accordance with procedures method statements  quality plans  inspection   test plans prepared by the project management team   subcontractors managed day-to-day activities to achieve the target of section  controlled all resources like manpower  materials and machinery to accomplish the targets developed  worked with subordinates to manage various site activities listed down the resource needs for projects  after considering the budgetary parameters set developed   documented monthly reports to keep track of the material used   ensured savings in every possible way ascertained that the work is completed and delivered without   defect   delay  communicated issues to senior management and resolved within time to avoid the delay conducted tool box talk on daily basis to ensure safe working conditions identified safety requirements and ensured the work performed by workers   other related activities were as per the safety regulation of the respective area highlights  followed natm method  led excavation by hydraulic breaker   twin cutter  sealing of joint  wire mesh fixing  lattice girder erection  shot concrete work  rock bolt   fore poling with s.d.a.  grouting  pull-out testing drove continuous improvement at site level in utilization of materials   manpower maintained   monitored records and ensured the execution of work as per contract-specifications in time with quality   utm engineering pvt ltd as civil engineer n a to till date  ug  b.tech b.e.  civil  from west bengal university of technology  wbut    other qualifications certifications programs   diploma in civil engineering  affirmative action physically challenged  no  work authorization job type  permanent  employment status  full time     education     languages known  language proficiency read write speak  english expert      hindi expert      bengali expert          '"
      ]
     },
     "execution_count": 56,
     "metadata": {},
     "output_type": "execute_result"
    }
   ],
   "source": [
    " Validation_Resume_Data[5]"
   ]
  },
  {
   "cell_type": "code",
   "execution_count": 57,
   "metadata": {},
   "outputs": [
    {
     "name": "stdout",
     "output_type": "stream",
     "text": [
      "type(training_label_seq) = <class 'numpy.ndarray'>\n",
      "type(validation_label_seq) = <class 'numpy.ndarray'>\n",
      "(training_label_seq[0:5]) = [4 0 2 3 1]\n",
      "(validation_label_seq[0:5]) = [5 5 4 2 5]\n",
      "len(training_label_seq) = 1528\n",
      "len(validation_label_seq) = 383\n"
     ]
    }
   ],
   "source": [
    "print('type(training_label_seq) = {}'.format(type(training_label_seq)))\n",
    "print('type(validation_label_seq) = {}'.format(type(validation_label_seq)))\n",
    "\n",
    "print('(training_label_seq[0:5]) = {}'.format(training_label_seq[0:5]))\n",
    "print('(validation_label_seq[0:5]) = {}'.format(validation_label_seq[0:5]))\n",
    "\n",
    "print('len(training_label_seq) = {}'.format(len(training_label_seq)))\n",
    "print('len(validation_label_seq) = {}'.format(len(validation_label_seq)))"
   ]
  },
  {
   "cell_type": "code",
   "execution_count": 58,
   "metadata": {},
   "outputs": [
    {
     "data": {
      "text/plain": [
       "numpy.int64"
      ]
     },
     "execution_count": 58,
     "metadata": {},
     "output_type": "execute_result"
    }
   ],
   "source": [
    "type(validation_label_seq[1])"
   ]
  },
  {
   "cell_type": "code",
   "execution_count": 59,
   "metadata": {},
   "outputs": [
    {
     "name": "stdout",
     "output_type": "stream",
     "text": [
      "… … 1 3 current designation performance test lead current comp <OOV> current location pune pref location mumbai pune delhi ncr functional area it software qa testing role team lead tech lead industry it software software services marital status single unmarried total experience 8 year s 0 month s notice period 15 days or less highest degree b tech b e electronics telecommunication verified phone number email id <OOV> as performance test lead to till date performance test lead performance center <OOV> <OOV> design <OOV> ltd as senior project lead to the <OOV> performance tester in the organisation id <OOV> last active jan last modified jan <OOV> anand immediate joiner senior project lead performance test lead performance testing requirements gathering test planning test case design defect logging defect tracking load testing stress testing hp load runner hp alm hp qc <OOV> jira key skills senior consultant performance test engineer testing engnr performance testing requirements gathering test planning test case design defect logging defect tracking stress testing hp load runner hp alm hp qc <OOV> jira load testing volume testing summary presently working in the capacity of senior project performance test lead at <OOV> design <OOV> ltd 8 years of total software engineering experience which includes requirement gathering via acres preparing <OOV> artifacts documenting test scenarios and involvement in creation and implementation of test cases test procedures and test plans drafting proposal presentation with the planning and estimates data preparation logging and tracking defects via hpqc and jira batch performance testing for various sap modules end to end performance testing via <OOV> and <OOV> and server side network monitoring and analysis worked as a part of teams worked single <OOV> for m projects as well built and led performance testing teams for a <OOV> of projects have been taking interviews of internal resources as well as external <OOV> for my own team and or organization on a regular basis work experience javascript void 0 javascript void … … 2 3 capgemini india pvt ltd as senior consultant to requirements gathering with the project team test tool setup designing the work load model proposal presentation with the planning and the estimates sending across the status report to all the stakeholders on a daily weekly basis script creation for the various scenarios in scope client side performance testing of the application under test and sharing the list of tuning recommendations with the project team designing the scenarios for all the planned critical and non critical load stress <OOV> <OOV> test <OOV> monitoring the servers during the <OOV> and drafting the detailed analysis report sharing the test results with all the stakeholders post every execution <OOV> the assignment with the closure report accenture services pvt ltd as software engineering senior analyst to requirements gathering with the project team test tool setup coordination with the client and the hp team over license purchase designing the work load model proposal presentation with the planning and the estimates sending across the status report to all the stakeholders on a daily basis script creation for the various scenarios in scope client side performance testing of the application under test and sharing the list of tuning recommendations with the project team designing the scenarios for all the planned critical and non critical load stress <OOV> <OOV> test <OOV> carrying out the batch performance testing by running the batch jobs in background mode in sap monitoring the servers during the <OOV> and drafting the detailed analysis report sharing the test results with all the stakeholders post every execution <OOV> the assignment with the closure report tools technology hp <OOV> hp performance center web http html protocol sap portal <OOV> commands winscp and <OOV> analyzer ug b tech b e electronics telecommunication from vellore institute of technology vit other qualifications certifications programs oracle retail predictive application server configuration <OOV> amazon web services api testing <OOV> education it s … … 3 3 affirmative action physically challenged no work authorization job type permanent temporary employment status full time skill name version last used experience hp load runner hp performance center hp alm hp quality center <OOV> jira bmc <OOV> sap fico sap me <OOV> acres <OOV> <OOV> languages known language proficiency read write speak hindi expert english expert german beginner ? ? ? ? ? ? ? ? ? ? ? ? ? ? ? ? ? ? ? ? ? ? ? ? ? ? ? ? ? ? ? ? ? ? ? ? ? ? ? ? ? ? ? ? ? ? ? ? ? ? ? ? ? ? ? ? ? ? ? ? ? ? ? ? ? ? ? ? ? ? ? ? ? ? ? ? ? ? ? ? ? ? ? ? ? ? ? ? ? ? ? ?\n",
      "-------------------------------------------------------------------------\n",
      "   …   … 1 3  current designation  performance test lead  current comp   schlumberger  current location  pune  pref. location  mumbai pune delhi   ncr  functional area  it software - qa   testing  role  team lead tech lead  industry  it-software software services  marital status  single unmarried  total experience  8 year s  0 month s   notice period  15 days or less  highest degree  b.tech b.e.  electronics telecommunication   verified    phone number     email - id   schlumberger as performance test lead   to till date  performance test lead  performance center  loadrunner   intellect design arena ltd. as senior project lead   to    the sole performance tester in the organisation.  id  a27d  last active  jan-  last modified  jan-   anish anand       immediate joiner  senior project lead  performance test lead  performance testing requirements gathering test planning test case design defect logging defect tracking load testing stress testing  hp load runner hp alm hp qc  soasta  jira  key skills  senior consultant  performance test engineer  testing engnr performance testing requirements gathering test planning test case design defect logging defect tracking stress testing hp load runner hp alm hp qc soasta jira load testing volume testing     summary presently working in the capacity of senior project  performance test  lead at intellect design arena ltd.   8+ years of total software engineering experience which includes requirement gathering via acres  preparing aaes artifacts  documenting test scenarios  and involvement in creation and implementation of test cases  test procedures and test plans  drafting proposal presentation with the planning and estimates  data preparation  logging and tracking defects via hpqc and jira  batch performance testing for various sap modules  end-to-end performance testing via loadrunner and soasta  and server-side   network monitoring and analysis.   worked as a part of teams  worked single handedly for m  projects as well.   built and led performance testing teams for a couple of projects.   have been taking interviews of internal resources as well as external candidates  for my own team and or organization  on a regular basis.     work experience  javascript void 0  javascript void    …   … 2 3   capgemini india pvt. ltd. as senior consultant   to    requirements gathering with the project team.  test tool setup.  designing the work-load model.  proposal presentation with the planning and the estimates.  sending across the status report to all the stakeholders on a daily weekly basis.  script creation for the various scenarios in scope.  client side performance testing of the application under test  and sharing the list of tuning recommendations with the project team.  designing the scenarios for all the planned critical and non-critical load stress soak spike test executions.  monitoring the servers during the executions  and drafting the detailed analysis report.  sharing the test results with all the stakeholders  post every execution.  concluding the assignment with the closure report.   accenture services pvt. ltd. as software engineering senior analyst   to    requirements gathering with the project team. test tool setup coordination with the client and the hp team over license purchase designing the work-load model. proposal presentation with the planning and the estimates. sending across the status report to all the stakeholders on a daily basis. script creation for the various scenarios in scope. client side performance testing of the application under test  and sharing the list of tuning recommendations with the project team. designing the scenarios for all the planned critical and non-critical load stress soak spike test executions. carrying out the batch performance testing by running the batch jobs in background mode in sap  monitoring the servers during the executions  and drafting the detailed analysis report. sharing the test results with all the stakeholders  post every execution. concluding the assignment with the closure report.  tools technology hp loadrunner  hp performance center  web-http html protocol  sap portal  nmon commands  winscp  and nmon analyzer.  ug  b.tech b.e.  electronics telecommunication  from vellore institute of technology  vit    other qualifications certifications programs   oracle retail predictive application server configuration essentials amazon web services api testing  smartbear      education       it s   …   … 3 3  affirmative action physically challenged  no  work authorization job type  permanent   temporary  employment status  full time  skill name version last used experience  hp load runner  hp performance center  hp alm  hp quality center  soasta  jira  bmc patrol  sap fico  sap me mii  acres  yslow  firebug  languages known language proficiency read write speak  hindi expert      english expert      german beginner          \n"
     ]
    }
   ],
   "source": [
    "reverse_word_index = dict([(value, key) for (key, value) in word_index.items()])\n",
    "\n",
    "def decode_article(text):\n",
    "    return ' '.join([reverse_word_index.get(i, '?') for i in text])\n",
    "print(decode_article(train_padded[10]))\n",
    "print('-------------------------------------------------------------------------')\n",
    "print(Train_Resume_Data[10])"
   ]
  },
  {
   "cell_type": "code",
   "execution_count": 60,
   "metadata": {},
   "outputs": [
    {
     "name": "stdout",
     "output_type": "stream",
     "text": [
      "Model: \"sequential\"\n",
      "_________________________________________________________________\n",
      "Layer (type)                 Output Shape              Param #   \n",
      "=================================================================\n",
      "embedding (Embedding)        (None, None, 64)          320000    \n",
      "_________________________________________________________________\n",
      "bidirectional (Bidirectional (None, None, 128)         66048     \n",
      "_________________________________________________________________\n",
      "bidirectional_1 (Bidirection (None, 64)                41216     \n",
      "_________________________________________________________________\n",
      "dense (Dense)                (None, 64)                4160      \n",
      "_________________________________________________________________\n",
      "dense_1 (Dense)              (None, 6)                 390       \n",
      "=================================================================\n",
      "Total params: 431,814\n",
      "Trainable params: 431,814\n",
      "Non-trainable params: 0\n",
      "_________________________________________________________________\n"
     ]
    }
   ],
   "source": [
    "Regularizer = l2(0.001)\n",
    "\n",
    "model = tf.keras.Sequential([\n",
    "    # Add an Embedding layer expecting input vocab of size 5000, and output embedding dimension of size 64 we set at the top\n",
    "    tf.keras.layers.Embedding(vocab_size, embedding_dim,\n",
    "                              embeddings_regularizer = Regularizer),\n",
    "    tf.keras.layers.Bidirectional(tf.keras.layers.LSTM(embedding_dim, return_sequences=True)),\n",
    "    tf.keras.layers.Bidirectional(tf.keras.layers.LSTM(32)),\n",
    "    # use ReLU in place of tanh function since they are very good alternatives of each other.\n",
    "    tf.keras.layers.Dense(embedding_dim, activation='relu'),\n",
    "    # Add a Dense layer with 18 units and softmax activation.\n",
    "    # When we have multiple outputs, softmax convert outputs layers into a probability distribution.\n",
    "    tf.keras.layers.Dense(6, activation='softmax')\n",
    "])\n",
    "model.summary()"
   ]
  },
  {
   "cell_type": "code",
   "execution_count": 50,
   "metadata": {},
   "outputs": [
    {
     "name": "stdout",
     "output_type": "stream",
     "text": [
      "Epoch 1/100\n"
     ]
    },
    {
     "name": "stderr",
     "output_type": "stream",
     "text": [
      "/home/ravikrishnak/anaconda3/lib/python3.8/site-packages/tensorflow/python/framework/indexed_slices.py:433: UserWarning: Converting sparse IndexedSlices to a dense Tensor of unknown shape. This may consume a large amount of memory.\n",
      "  warnings.warn(\n"
     ]
    },
    {
     "name": "stdout",
     "output_type": "stream",
     "text": [
      "48/48 [==============================] - 41s 852ms/step - loss: 1.8251 - accuracy: 0.2343 - val_loss: 1.7556 - val_accuracy: 0.3003\n",
      "Epoch 2/100\n",
      "48/48 [==============================] - 41s 854ms/step - loss: 1.4417 - accuracy: 0.3671 - val_loss: 1.0989 - val_accuracy: 0.6005\n",
      "Epoch 3/100\n",
      "48/48 [==============================] - 47s 986ms/step - loss: 0.8046 - accuracy: 0.6826 - val_loss: 0.6386 - val_accuracy: 0.7911\n",
      "Epoch 4/100\n",
      "48/48 [==============================] - 43s 895ms/step - loss: 0.5205 - accuracy: 0.8135 - val_loss: 0.4363 - val_accuracy: 0.8877\n",
      "Epoch 5/100\n",
      "48/48 [==============================] - 42s 865ms/step - loss: 0.4223 - accuracy: 0.8730 - val_loss: 0.4708 - val_accuracy: 0.8930\n",
      "Epoch 6/100\n",
      "48/48 [==============================] - 41s 858ms/step - loss: 0.4985 - accuracy: 0.8370 - val_loss: 0.4602 - val_accuracy: 0.8407\n",
      "Epoch 7/100\n",
      "48/48 [==============================] - 41s 861ms/step - loss: 0.3157 - accuracy: 0.9234 - val_loss: 0.4439 - val_accuracy: 0.8877\n",
      "Epoch 8/100\n",
      "48/48 [==============================] - 45s 928ms/step - loss: 0.2492 - accuracy: 0.9476 - val_loss: 0.3032 - val_accuracy: 0.9217\n",
      "Epoch 9/100\n",
      "48/48 [==============================] - 43s 901ms/step - loss: 0.1721 - accuracy: 0.9725 - val_loss: 0.3006 - val_accuracy: 0.9243\n",
      "Epoch 10/100\n",
      "48/48 [==============================] - 43s 896ms/step - loss: 0.1535 - accuracy: 0.9738 - val_loss: 0.2871 - val_accuracy: 0.9295\n",
      "Epoch 11/100\n",
      "48/48 [==============================] - 43s 902ms/step - loss: 0.1711 - accuracy: 0.9640 - val_loss: 0.4774 - val_accuracy: 0.8799\n",
      "Epoch 12/100\n",
      "48/48 [==============================] - 42s 883ms/step - loss: 0.1893 - accuracy: 0.9666 - val_loss: 0.2972 - val_accuracy: 0.9347\n",
      "Epoch 13/100\n",
      "48/48 [==============================] - 46s 963ms/step - loss: 0.1378 - accuracy: 0.9823 - val_loss: 0.2931 - val_accuracy: 0.9295\n",
      "Epoch 14/100\n",
      "48/48 [==============================] - 48s 995ms/step - loss: 0.1226 - accuracy: 0.9817 - val_loss: 0.3503 - val_accuracy: 0.9269\n",
      "Epoch 15/100\n",
      "48/48 [==============================] - 57s 1s/step - loss: 0.1220 - accuracy: 0.9810 - val_loss: 0.3031 - val_accuracy: 0.9373\n",
      "Epoch 16/100\n",
      "48/48 [==============================] - 54s 1s/step - loss: 0.1217 - accuracy: 0.9791 - val_loss: 0.3418 - val_accuracy: 0.9243\n",
      "Epoch 17/100\n",
      "48/48 [==============================] - 54s 1s/step - loss: 0.1106 - accuracy: 0.9843 - val_loss: 0.3042 - val_accuracy: 0.9321\n",
      "Epoch 18/100\n",
      "48/48 [==============================] - 54s 1s/step - loss: 0.0993 - accuracy: 0.9863 - val_loss: 0.3251 - val_accuracy: 0.9217\n",
      "Epoch 19/100\n",
      "48/48 [==============================] - 55s 1s/step - loss: 0.1220 - accuracy: 0.9784 - val_loss: 0.3251 - val_accuracy: 0.9217\n",
      "Epoch 20/100\n",
      "48/48 [==============================] - 56s 1s/step - loss: 0.1295 - accuracy: 0.9784 - val_loss: 0.3219 - val_accuracy: 0.9321\n"
     ]
    }
   ],
   "source": [
    "#Using Early Stopping in order to handle Overfitting\n",
    "ES_Callback = tf.keras.callbacks.EarlyStopping(monitor='val_loss', patience=10)\n",
    "\n",
    "model.compile(loss = tf.keras.losses.SparseCategoricalCrossentropy(), optimizer='adam', metrics=['accuracy'])\n",
    "\n",
    "num_epochs = 100\n",
    "\n",
    "history = model.fit(x = train_padded, y = training_label_seq, epochs=num_epochs, \n",
    "                    callbacks=[ES_Callback],\n",
    "                    validation_data=(validation_padded, validation_label_seq),\n",
    "                    batch_size = 32, shuffle=True, verbose=1)"
   ]
  },
  {
   "cell_type": "code",
   "execution_count": 51,
   "metadata": {},
   "outputs": [
    {
     "data": {
      "text/plain": [
       "array([5, 5, 4, 3, 1, 0, 5, 2, 4, 2, 1, 0, 3, 1, 4, 3, 2, 1, 0, 3, 2, 4,\n",
       "       3, 4, 4, 1, 1, 1, 2, 5, 3, 2, 4, 4, 5, 1, 2, 5, 4, 5, 4, 1, 3, 1,\n",
       "       5, 4, 3, 0, 0, 1, 0, 5, 3, 3, 3, 3, 0, 4, 5, 4, 4, 1, 2, 4, 4, 2,\n",
       "       0, 1, 3, 2, 1, 3, 2, 2, 1, 4, 0, 0, 1, 2, 4, 5, 1, 3, 5, 2, 1, 4,\n",
       "       1, 0, 4, 5, 5, 3, 0, 3, 3, 3, 4, 1, 2, 4, 2, 0, 3, 2, 3, 3, 3, 1,\n",
       "       5, 1, 5, 0, 2, 4, 0, 0, 3, 0, 4, 5, 1, 0, 2, 3, 3, 1, 4, 4, 2, 4,\n",
       "       3, 1, 2, 3, 1, 3, 4, 2, 0, 1, 4, 0, 1, 0, 2, 0, 3, 4, 5, 2, 1, 1,\n",
       "       0, 1, 3, 3, 3, 2, 0, 2, 1, 5, 0, 3, 2, 2, 0, 2, 1, 1, 0, 3, 1, 1,\n",
       "       2, 5, 0, 2, 2, 0, 4, 3, 5, 3, 2, 3, 3, 4, 5, 4, 5, 5, 4, 4, 3, 4,\n",
       "       2, 1, 2, 4, 3, 0, 0, 5, 3, 5, 3, 4, 3, 4, 4, 0, 0, 1, 4, 0, 5, 3,\n",
       "       3, 5, 5, 4, 1, 4, 1, 1, 0, 0, 3, 0, 4, 4, 5, 0, 1, 3, 1, 1, 2, 0,\n",
       "       1, 1, 5, 5, 1, 1, 0, 1, 1, 3, 4, 3, 5, 3, 4, 3, 0, 1, 0, 2, 0, 4,\n",
       "       0, 3, 2, 5, 5, 3, 1, 3, 1, 3, 4, 2, 3, 5, 1, 1, 3, 0, 3, 1, 5, 2,\n",
       "       0, 5, 4, 1, 2, 2, 4, 5, 0, 1, 1, 4, 1, 4, 5, 4, 1, 2, 3, 5, 5, 5,\n",
       "       4, 3, 2, 2, 3, 1, 2, 5, 1, 5, 1, 1, 3, 3, 3, 2, 0, 5, 1, 4, 5, 2,\n",
       "       0, 0, 2, 0, 0, 3, 1, 5, 3, 2, 0, 0, 0, 2, 5, 1, 1, 5, 4, 1, 1, 2,\n",
       "       3, 0, 0, 3, 1, 4, 0, 4, 0, 0, 3, 0, 3, 5, 1, 5, 5, 5, 4, 5, 4, 5,\n",
       "       3, 1, 0, 2, 5, 2, 0, 2, 2])"
      ]
     },
     "execution_count": 51,
     "metadata": {},
     "output_type": "execute_result"
    }
   ],
   "source": [
    "Prediction = model.predict(validation_padded)\n",
    "\n",
    "Prediction_Classes = tf.argmax(Prediction, axis=1)\n",
    "\n",
    "Prediction_Classes.numpy()\n",
    "#len(validation_padded)#"
   ]
  },
  {
   "cell_type": "code",
   "execution_count": 52,
   "metadata": {},
   "outputs": [
    {
     "data": {
      "text/plain": [
       "'   …   … 1 3  current designati n  s ftware test engineer  current c mpany  alsis techn l gies  current l cati n  pune  pref. l cati n  pune  functi nal area  it s ftware - qa   testing  r le  testing engnr  industry  it-s ftware s ftware services  marital status  married  t tal experience  3 year s  0 m nth s   n tice peri d  1 m nth  highest degree  b.tech b.e.  inf rmati n techn l gy   verified    ph ne number     email - id   alsis techn l gies as s ftware test engineer   t  till date  pr jects    pr jectname   acc untingsystem designati n   aut mati n test engineer techn l gy t  ls   selenium web driver  hybrid framew rk  testng  p i  l g4j  extent rep rts. durati n     t  till date  id  59dfd76b b4b2a2b22b72cd5bcb  last active  18-feb-20 last m dified  18-feb-20  arati mahesh taralkar      s ftware test engineer seeking r les in aut mati n testing manual testing quality assurance functi nal testing integrati n testing regressi n testing requirement gathering requirement analysis defect management client servicing c re java selenium git  key skills  aut mati n testing  manual testing  quality assurance  functi nal testing  integrati n testing  regressi n testing  c re java  selenium  git  jenkin  testng  agile  defectl g  cucumber  extent rep rt  hybrid with p m     summary having 3 years  f experience in s ftware aut mati n testing  selenium+java .. currently w rking as a s ftware test engineer at alsis techn l gies  pune. trained in quality assurance  str ng f undati n in manual testing  aut mati n testing and test management with end t  end kn wledge  n testing pr cess. kn wledge   hands  n selenium aut mati n framew rk-testng  data driven   hybrid. kn wledge   hands  n experience in cucumber. experience t  create   extent rep rt and l gs. str ng identificati n and mitigati n  f existing data defects and err rs. experience in s urce t  target data mapping. pr ficient in designing  managing and executi n  f aut mati n test cases. inv lved in different types  f testing functi nal  integrati n testing  regressi n testing. analyzed business requirement  s ftware requirement specificati n  and pr per understanding sdlc and stlc pr cess. kn wledge hands n f executing pr jects in agile. experience in writing xpath expressi n.     w rk experience  javascript v id    …   … 2 3  descripti n   it is an acc unting applicati n f r small and medium enterprises. it all ws d uble-entry acc unting and is integrated with m dules that supp rt m st c mm n business pr cesses. it is pr vided with standard m dules  cust mers c ntacts  deals  acc unts  details sales  purchases  items and invent ry  manufacturing  dimensi ns and setup .its functi nality is appr priate f r small and medium c mpanies f r managing purchases  c ntr l their st ck  issue  ffers  register  rders and send inv ices. it all ws c nfiguring several p ints  f sale. r les and resp nsibilities  identify devel p   m difying aut mati n test scripts using selenium webdriver and java. participated in identifying required testscenari s  manually writing a test cases. aut mati n test result analysis  rep rting defects t  manual test team and l gging defects. devel pment  fscriptst  read and write test data fr m t  excel. agile-scrum meth d l gy. experience in writing xpath expressi n. well versed with handling elementsin web driver. publishing the vari us daily rep rts as per client business requirement .  pr ject name   crm -retail  designati n   aut mati n test engineer techn l gy t  ls   selenium webdriver  hybrid framew rk  testng  p i  l g4j durati n     t    descripti n   crm retail is a system which integrates all data pr cess  f an enterprise int  a unified system. it rec rds cust mer c ntacts inf rmati n such as email  teleph ne  website and many m re. it is c mprehensive crm s ftware used by c mpanies mainly pr ducti n t  streamline their  rganizati n and it functi ning  admin  rder c ntacts deals  pr file  services etc . r les and resp nsibilities  devel pment  f test scripts using seleniumwebdriver  java writing   executi n  f testscripts f r aut mati n testing. verificati n  f test results and l gging defects. devel pment  fscripts t  read and write test data fr m t  excelsheets. end t  end integrati n  f maven testng  and selenium.  ug  b.tech b.e.  inf rmati n techn l gy  fr m tatyasaheb k re institute  f techn l gy warananager  shivaji university       educati n       it skills skill name versi n last used experience  testng  l g4j  maven  jenkins  git  hybrid  cucumber  extent rep rts  selenium webdriver  c re java   …   … 3 3  affirmative acti n categ ry  general  physically challenged  n   w rk auth rizati n j b type  permanent  empl yment status  full time  eclipse   xygen   languages kn wn language pr ficiency read write speak  english      hindi      marathi          '"
      ]
     },
     "execution_count": 52,
     "metadata": {},
     "output_type": "execute_result"
    }
   ],
   "source": [
    "Validation_Resume_Data[0]"
   ]
  },
  {
   "cell_type": "code",
   "execution_count": 53,
   "metadata": {},
   "outputs": [
    {
     "name": "stdout",
     "output_type": "stream",
     "text": [
      "Accuracy of Validation resumes:  0.9321148825065274\n"
     ]
    }
   ],
   "source": [
    "from sklearn.metrics import accuracy_score\n",
    "#accuracy_score(Prediction_Classes, train_sequences)\n",
    "\n",
    "print(\"Accuracy of Validation resumes: \",accuracy_score(validation_label_seq, Prediction_Classes))"
   ]
  },
  {
   "cell_type": "code",
   "execution_count": 54,
   "metadata": {},
   "outputs": [
    {
     "data": {
      "image/png": "[encoded data removed]",
      "text/plain": [
       "<Figure size 432x288 with 1 Axes>"
      ]
     },
     "metadata": {
      "needs_background": "light"
     },
     "output_type": "display_data"
    },
    {
     "data": {
      "image/png": "[encoded data removed]",
      "text/plain": [
       "<Figure size 432x288 with 1 Axes>"
      ]
     },
     "metadata": {
      "needs_background": "light"
     },
     "output_type": "display_data"
    }
   ],
   "source": [
    "def plot_graphs(history, string):\n",
    "  plt.plot(history.history[string])\n",
    "  plt.plot(history.history['val_'+string])\n",
    "  plt.xlabel(\"Epochs\")\n",
    "  plt.ylabel(string)\n",
    "  plt.legend([string, 'val_'+string])\n",
    "  plt.show()\n",
    "  \n",
    "plot_graphs(history, \"accuracy\")\n",
    "plot_graphs(history, \"loss\")"
   ]
  },
  {
   "cell_type": "code",
   "execution_count": 55,
   "metadata": {},
   "outputs": [],
   "source": [
    "\n",
    "#save the model in .h5 format\n",
    "\n",
    "model.save(\"model.h5\")\n"
   ]
  },
  {
   "cell_type": "code",
   "execution_count": 56,
   "metadata": {},
   "outputs": [
    {
     "data": {
      "text/plain": [
       "'/home/ravikrishnak/Desktop/REsumeclassification/Ravi/Ravi_Latest'"
      ]
     },
     "execution_count": 56,
     "metadata": {},
     "output_type": "execute_result"
    }
   ],
   "source": [
    "pwd"
   ]
  },
  {
   "cell_type": "code",
   "execution_count": 57,
   "metadata": {},
   "outputs": [
    {
     "name": "stdout",
     "output_type": "stream",
     "text": [
      "WARNING:tensorflow:From /home/ravikrishnak/anaconda3/lib/python3.8/site-packages/tensorflow/python/ops/resource_variable_ops.py:1813: calling BaseResourceVariable.__init__ (from tensorflow.python.ops.resource_variable_ops) with constraint is deprecated and will be removed in a future version.\n",
      "Instructions for updating:\n",
      "If using Keras pass *_constraint arguments to layers.\n",
      "INFO:tensorflow:Assets written to: Resume_Classification_Model/1/assets\n",
      "total 5004\n",
      "drwxr-xr-x 2 ravikrishnak primarygroup    4096 May 28 17:09 assets\n",
      "-rw-r--r-- 1 ravikrishnak primarygroup 5115874 Aug  4 18:47 saved_model.pb\n",
      "drwxr-xr-x 2 ravikrishnak primarygroup    4096 Aug  4 18:47 variables\n"
     ]
    }
   ],
   "source": [
    "version = 1\n",
    "MODEL_DIR = 'Resume_Classification_Model'\n",
    "export_path = os.path.join(MODEL_DIR, str(version))\n",
    "\n",
    "tf.keras.models.save_model(model = model, filepath = export_path)\n",
    "\n",
    "!ls -l {export_path}"
   ]
  },
  {
   "cell_type": "code",
   "execution_count": 57,
   "metadata": {},
   "outputs": [
    {
     "name": "stdout",
     "output_type": "stream",
     "text": [
      "2020-06-19 10:37:27.391611: W tensorflow/stream_executor/platform/default/dso_loader.cc:55] Could not load dynamic library 'libnvinfer.so.6'; dlerror: libnvinfer.so.6: cannot open shared object file: No such file or directory\n",
      "2020-06-19 10:37:27.391719: W tensorflow/stream_executor/platform/default/dso_loader.cc:55] Could not load dynamic library 'libnvinfer_plugin.so.6'; dlerror: libnvinfer_plugin.so.6: cannot open shared object file: No such file or directory\n",
      "2020-06-19 10:37:27.391738: W tensorflow/compiler/tf2tensorrt/utils/py_utils.cc:30] Cannot dlopen some TensorRT libraries. If you would like to use Nvidia GPU with TensorRT, please make sure the missing libraries mentioned above are installed properly.\n",
      "\n",
      "MetaGraphDef with tag-set: 'serve' contains the following SignatureDefs:\n",
      "\n",
      "signature_def['__saved_model_init_op']:\n",
      "  The given SavedModel SignatureDef contains the following input(s):\n",
      "  The given SavedModel SignatureDef contains the following output(s):\n",
      "    outputs['__saved_model_init_op'] tensor_info:\n",
      "        dtype: DT_INVALID\n",
      "        shape: unknown_rank\n",
      "        name: NoOp\n",
      "  Method name is: \n",
      "\n",
      "signature_def['serving_default']:\n",
      "  The given SavedModel SignatureDef contains the following input(s):\n",
      "    inputs['embedding_input'] tensor_info:\n",
      "        dtype: DT_FLOAT\n",
      "        shape: (-1, -1)\n",
      "        name: serving_default_embedding_input:0\n",
      "  The given SavedModel SignatureDef contains the following output(s):\n",
      "    outputs['dense_1'] tensor_info:\n",
      "        dtype: DT_FLOAT\n",
      "        shape: (-1, 6)\n",
      "        name: StatefulPartitionedCall:0\n",
      "  Method name is: tensorflow/serving/predict\n",
      "WARNING:tensorflow:From /home/ravikrishnak/anaconda3/lib/python3.7/site-packages/tensorflow_core/python/ops/resource_variable_ops.py:1786: calling BaseResourceVariable.__init__ (from tensorflow.python.ops.resource_variable_ops) with constraint is deprecated and will be removed in a future version.\n",
      "Instructions for updating:\n",
      "If using Keras pass *_constraint arguments to layers.\n",
      "\n",
      "Defined Functions:\n",
      "  Function Name: '__call__'\n",
      "    Option #1\n",
      "      Callable with:\n",
      "        Argument #1\n",
      "          inputs: TensorSpec(shape=(None, None), dtype=tf.float32, name='inputs')\n",
      "        Argument #2\n",
      "          DType: bool\n",
      "          Value: False\n",
      "        Argument #3\n",
      "          DType: NoneType\n",
      "          Value: None\n",
      "    Option #2\n",
      "      Callable with:\n",
      "        Argument #1\n",
      "          embedding_input: TensorSpec(shape=(None, None), dtype=tf.float32, name='embedding_input')\n",
      "        Argument #2\n",
      "          DType: bool\n",
      "          Value: False\n",
      "        Argument #3\n",
      "          DType: NoneType\n",
      "          Value: None\n",
      "    Option #3\n",
      "      Callable with:\n",
      "        Argument #1\n",
      "          embedding_input: TensorSpec(shape=(None, None), dtype=tf.float32, name='embedding_input')\n",
      "        Argument #2\n",
      "          DType: bool\n",
      "          Value: True\n",
      "        Argument #3\n",
      "          DType: NoneType\n",
      "          Value: None\n",
      "    Option #4\n",
      "      Callable with:\n",
      "        Argument #1\n",
      "          inputs: TensorSpec(shape=(None, None), dtype=tf.float32, name='inputs')\n",
      "        Argument #2\n",
      "          DType: bool\n",
      "          Value: True\n",
      "        Argument #3\n",
      "          DType: NoneType\n",
      "          Value: None\n",
      "\n",
      "  Function Name: '_default_save_signature'\n",
      "    Option #1\n",
      "      Callable with:\n",
      "        Argument #1\n",
      "          embedding_input: TensorSpec(shape=(None, None), dtype=tf.float32, name='embedding_input')\n",
      "\n",
      "  Function Name: 'call_and_return_all_conditional_losses'\n",
      "    Option #1\n",
      "      Callable with:\n",
      "        Argument #1\n",
      "          embedding_input: TensorSpec(shape=(None, None), dtype=tf.float32, name='embedding_input')\n",
      "        Argument #2\n",
      "          DType: bool\n",
      "          Value: False\n",
      "        Argument #3\n",
      "          DType: NoneType\n",
      "          Value: None\n",
      "    Option #2\n",
      "      Callable with:\n",
      "        Argument #1\n",
      "          embedding_input: TensorSpec(shape=(None, None), dtype=tf.float32, name='embedding_input')\n",
      "        Argument #2\n",
      "          DType: bool\n",
      "          Value: True\n",
      "        Argument #3\n",
      "          DType: NoneType\n",
      "          Value: None\n",
      "    Option #3\n",
      "      Callable with:\n",
      "        Argument #1\n",
      "          inputs: TensorSpec(shape=(None, None), dtype=tf.float32, name='inputs')\n",
      "        Argument #2\n",
      "          DType: bool\n",
      "          Value: True\n",
      "        Argument #3\n",
      "          DType: NoneType\n",
      "          Value: None\n",
      "    Option #4\n",
      "      Callable with:\n",
      "        Argument #1\n",
      "          inputs: TensorSpec(shape=(None, None), dtype=tf.float32, name='inputs')\n",
      "        Argument #2\n",
      "          DType: bool\n",
      "          Value: False\n",
      "        Argument #3\n",
      "          DType: NoneType\n",
      "          Value: None\n"
     ]
    }
   ],
   "source": [
    "!saved_model_cli show --dir {export_path} --all"
   ]
  },
  {
   "cell_type": "code",
   "execution_count": 58,
   "metadata": {},
   "outputs": [
    {
     "data": {
      "text/plain": [
       "'/home/ravikrishnak/Desktop/REsumeclassification/Ravi/Ravi_Latest'"
      ]
     },
     "execution_count": 58,
     "metadata": {},
     "output_type": "execute_result"
    }
   ],
   "source": [
    "pwd"
   ]
  },
  {
   "cell_type": "code",
   "execution_count": 59,
   "metadata": {},
   "outputs": [
    {
     "name": "stdout",
     "output_type": "stream",
     "text": [
      "INFO:tensorflow:Assets written to: ./Model_save_NoLR/assets\n"
     ]
    }
   ],
   "source": [
    "model.save('./Model_save_NoLR',save_format='tf')"
   ]
  },
  {
   "cell_type": "code",
   "execution_count": 60,
   "metadata": {},
   "outputs": [
    {
     "name": "stdout",
     "output_type": "stream",
     "text": [
      "updating: Model_save_NoLR/ (stored 0%)\n",
      "updating: Model_save_NoLR/saved_model.pb (deflated 90%)\n",
      "updating: Model_save_NoLR/variables/ (stored 0%)\n",
      "updating: Model_save_NoLR/variables/variables.data-00000-of-00001 (deflated 6%)\n",
      "updating: Model_save_NoLR/variables/variables.index (deflated 69%)\n",
      "updating: Model_save_NoLR/assets/ (stored 0%)\n"
     ]
    }
   ],
   "source": [
    "# zipping files generated by model.save\n",
    "!zip -r ./Model_save_NoLR.zip //home/ravikrishnak/Model_save_NoLR"
   ]
  },
  {
   "cell_type": "code",
   "execution_count": 61,
   "metadata": {},
   "outputs": [],
   "source": [
    "#saving weights\n",
    "model.save_weights('./Resume_save_weights')"
   ]
  },
  {
   "cell_type": "code",
   "execution_count": 62,
   "metadata": {},
   "outputs": [],
   "source": [
    "loaded_model = tf.keras.models.load_model('Model_save_NoLR')"
   ]
  },
  {
   "cell_type": "code",
   "execution_count": 63,
   "metadata": {},
   "outputs": [
    {
     "name": "stdout",
     "output_type": "stream",
     "text": [
      "Model: \"sequential\"\n",
      "_________________________________________________________________\n",
      "Layer (type)                 Output Shape              Param #   \n",
      "=================================================================\n",
      "embedding (Embedding)        (None, None, 64)          320000    \n",
      "_________________________________________________________________\n",
      "bidirectional (Bidirectional (None, None, 128)         66048     \n",
      "_________________________________________________________________\n",
      "bidirectional_1 (Bidirection (None, 64)                41216     \n",
      "_________________________________________________________________\n",
      "dense (Dense)                (None, 64)                4160      \n",
      "_________________________________________________________________\n",
      "dense_1 (Dense)              (None, 6)                 390       \n",
      "=================================================================\n",
      "Total params: 431,814\n",
      "Trainable params: 431,814\n",
      "Non-trainable params: 0\n",
      "_________________________________________________________________\n"
     ]
    }
   ],
   "source": [
    "loaded_model.summary()"
   ]
  },
  {
   "cell_type": "code",
   "execution_count": 64,
   "metadata": {},
   "outputs": [],
   "source": [
    "#Compare the model weights before loading and after loading the models.\n",
    "assert len(model.weights) == len(loaded_model.weights)\n",
    "for a, b in zip(model.weights, loaded_model.weights):\n",
    "  np.testing.assert_allclose(a.numpy(), b.numpy())"
   ]
  },
  {
   "cell_type": "code",
   "execution_count": 65,
   "metadata": {},
   "outputs": [
    {
     "name": "stdout",
     "output_type": "stream",
     "text": [
      "\n",
      " --------------------------------------------------\n"
     ]
    }
   ],
   "source": [
    "print('\\n','-'*50)"
   ]
  },
  {
   "cell_type": "code",
   "execution_count": 77,
   "metadata": {},
   "outputs": [
    {
     "name": "stdout",
     "output_type": "stream",
     "text": [
      "['Civil', 'Python', 'SAP', 'Mechanical', 'Networking', 'Testing']\n"
     ]
    }
   ],
   "source": [
    "# Prediction using loaded model\n",
    "# Give the Path of our Data\n",
    "Path_Of_Data = '/home/ravikrishnak/Desktop/REsumeclassification/Unseen_Resumes'\n",
    "# Extract the Labels from the Folders inside the Path mentioned above\n",
    "Unique_Labels_List = os.listdir(Path_Of_Data)\n",
    "print(Unique_Labels_List)\n"
   ]
  },
  {
   "cell_type": "code",
   "execution_count": 78,
   "metadata": {},
   "outputs": [],
   "source": [
    "def Pre_Process_Data_And_Create_BOW(folder_path):\n",
    "  #creating empty lists in order to Create Resume Text and the respective Label\n",
    "  Resumes_List = [] \n",
    "  Labels_List = []\n",
    "  for EachLabel in Unique_Labels_List:      \n",
    "      for root, dirs, files in os.walk(os.path.join(folder_path, EachLabel),topdown=False):\n",
    "        for file in files:\n",
    "          i = 0\n",
    "          if file.endswith('.pdf'):\n",
    "            Full_Resume_Path = os.path.join(root, file)\n",
    "            file_data = parser.from_file(Full_Resume_Path)\n",
    "            Resume_Text = file_data['content']\n",
    "            \n",
    "            # Below Code removes the Hyperlinks in the Resume, like LinkedIn Profile, Certifications, etc..\n",
    "            HyperLink_Regex = r'http[s]?://(?:[a-zA-Z]|[0-9]|[$-_@.&+]|[!*\\(\\), ]|(?:%[0-9a-fA-F][0-9a-fA-F]))+'\n",
    "            Text_Without_HL = re.sub(HyperLink_Regex, ' ', Resume_Text, flags=re.MULTILINE)\n",
    "\n",
    "            # Below Code removes the Date from the Resume\n",
    "            Date_regEx = r'(?:\\d{1,2}[-/th|st|nd|rd\\s]*)?(?:Jan|Feb|Mar|Apr|May|Jun|Jul|Aug|Sep|Oct|Nov|Dec)?[a-z\\s,.]*(?:\\d{1,2}[-/th|st|nd|rd)\\s,]*)+(?:\\d{2,4})+'\n",
    "            CleanedText = re.sub(Date_regEx,' ',Text_Without_HL)\n",
    "\n",
    "            List_Of_All_Punctuations = list(string.punctuation)\n",
    "            Important_Punctuations = ['#', '.', '+' , '-'] #Add more, if any other Punctuation is observed as Important\n",
    "            NewLineChar = '\\n'\n",
    "            Total_Punct = len(List_Of_All_Punctuations)\n",
    "            for EachImpPunct in Important_Punctuations:\n",
    "                for CountOfPunct in range(Total_Punct):\n",
    "                    if CountOfPunct == Total_Punct:\n",
    "                        break\n",
    "                    elif EachImpPunct == List_Of_All_Punctuations[CountOfPunct]:\n",
    "                        del List_Of_All_Punctuations[CountOfPunct]\n",
    "                        Total_Punct = Total_Punct - 1\n",
    "            List_Of_All_Punctuations.append(NewLineChar)\n",
    "            for EachPunct in List_Of_All_Punctuations:\n",
    "                CleanedText = CleanedText.replace(EachPunct, \" \")\n",
    "            \n",
    "            Final_Cleaned_Resume_Text = CleanedText.lower()\n",
    "            for word in STOPWORDS:\n",
    "                stop_token = word\n",
    "                Resume_Text = Final_Cleaned_Resume_Text.replace(stop_token, ' ')\n",
    "            Resumes_List.append(Resume_Text)\n",
    "            Labels_List.append(EachLabel)\n",
    "  return Resumes_List, Labels_List"
   ]
  },
  {
   "cell_type": "code",
   "execution_count": 79,
   "metadata": {},
   "outputs": [
    {
     "data": {
      "text/plain": [
       "\"\\ndef Pre_Process_Tokenize_And_Pad(FilePath):\\n  Resumes_List = []\\n  if FilePath.endswith('.pdf'):\\n    Full_Resume_Path = FilePath\\n    file_data = parser.from_file(Full_Resume_Path)\\n    Resume_Text = file_data['content']\\n    Resumes_List.append(Resume_Text)\\n    vocab_size = 5000\\n    embedding_dim = 64\\n    max_length = 800\\n    trunc_type = 'post'\\n    padding_type = 'post'\\n    oov_tok = '<OOV>'\\n\\n    tokenizer = Tokenizer(num_words = vocab_size, oov_token=oov_tok)\\n    tokenizer.fit_on_texts(Resumes_List)\\n    word_index = tokenizer.word_index\\n\\n    Predict_Sequences = tokenizer.texts_to_sequences(Resumes_List)\\n\\n    Predict_Padded = pad_sequences(Predict_Sequences, maxlen=max_length, padding=padding_type, truncating=trunc_type)\\n    train_padded = pad_sequences(train_sequences, maxlen=max_length, padding=padding_type, truncating=trunc_type)\\n\\n  return Predict_Padded\\n  \\n\""
      ]
     },
     "execution_count": 79,
     "metadata": {},
     "output_type": "execute_result"
    }
   ],
   "source": [
    "\"\"\"\n",
    "def Pre_Process_Tokenize_And_Pad(FilePath):\n",
    "  Resumes_List = []\n",
    "  if FilePath.endswith('.pdf'):\n",
    "    Full_Resume_Path = FilePath\n",
    "    file_data = parser.from_file(Full_Resume_Path)\n",
    "    Resume_Text = file_data['content']\n",
    "    Resumes_List.append(Resume_Text)\n",
    "    vocab_size = 5000\n",
    "    embedding_dim = 64\n",
    "    max_length = 800\n",
    "    trunc_type = 'post'\n",
    "    padding_type = 'post'\n",
    "    oov_tok = '<OOV>'\n",
    "\n",
    "    tokenizer = Tokenizer(num_words = vocab_size, oov_token=oov_tok)\n",
    "    tokenizer.fit_on_texts(Resumes_List)\n",
    "    word_index = tokenizer.word_index\n",
    "\n",
    "    Predict_Sequences = tokenizer.texts_to_sequences(Resumes_List)\n",
    "\n",
    "    Predict_Padded = pad_sequences(Predict_Sequences, maxlen=max_length, padding=padding_type, truncating=trunc_type)\n",
    "    train_padded = pad_sequences(train_sequences, maxlen=max_length, padding=padding_type, truncating=trunc_type)\n",
    "\n",
    "  return Predict_Padded\n",
    "  \n",
    "\"\"\""
   ]
  },
  {
   "cell_type": "code",
   "execution_count": 80,
   "metadata": {},
   "outputs": [],
   "source": [
    "#calling the function and passing the path\n",
    "Resumes_List,  Labels_List = Pre_Process_Data_And_Create_BOW(Path_Of_Data)"
   ]
  },
  {
   "cell_type": "code",
   "execution_count": 81,
   "metadata": {},
   "outputs": [],
   "source": [
    "newresumes = list (zip(Resumes_List,  Labels_List))"
   ]
  },
  {
   "cell_type": "code",
   "execution_count": 82,
   "metadata": {},
   "outputs": [],
   "source": [
    "df1 = pd.DataFrame(newresumes)"
   ]
  },
  {
   "cell_type": "code",
   "execution_count": 83,
   "metadata": {},
   "outputs": [
    {
     "name": "stdout",
     "output_type": "stream",
     "text": [
      "                                                    0        1\n",
      "0      …   … 1 3  current designation  senior mana...    Civil\n",
      "1      …   … 1 2  current designation  senior civi...    Civil\n",
      "2      …   … 1 2  current designation  sr.engineer...    Civil\n",
      "3      …   … 1 2  current designation  project eng...    Civil\n",
      "4      …   … 1 2  current designation  resident en...    Civil\n",
      "..                                                ...      ...\n",
      "85     …   … 1 2  current designation  automation ...  Testing\n",
      "86     …   … 1 4  current designation  senior test...  Testing\n",
      "87     …   … 1 3  current designation  senior test...  Testing\n",
      "88     …   … 1 4  current designation  senior soft...  Testing\n",
      "89     …   … 1 4  current designation  test lead  ...  Testing\n",
      "\n",
      "[90 rows x 2 columns]\n"
     ]
    }
   ],
   "source": [
    "print(df1)"
   ]
  },
  {
   "cell_type": "code",
   "execution_count": 84,
   "metadata": {},
   "outputs": [
    {
     "name": "stdout",
     "output_type": "stream",
     "text": [
      "Total Number of Classes are  6\n",
      "Total Number of Resumes are  90\n",
      "Total Number of Labels are  90\n"
     ]
    }
   ],
   "source": [
    "print(\"Total Number of Classes are \", len(Unique_Labels_List))\n",
    "print(\"Total Number of Resumes are \", len(Resumes_List))\n",
    "print(\"Total Number of Labels are \", len(Labels_List))"
   ]
  },
  {
   "cell_type": "code",
   "execution_count": 85,
   "metadata": {},
   "outputs": [],
   "source": [
    "Total_Number_Of_Resumes = len(Resumes_List)\n",
    "Count = 0\n",
    "for Each_Resume in Resumes_List:    \n",
    "    for Instance_Count in range(Count+1, Total_Number_Of_Resumes):\n",
    "      #print(Instance_Count)\n",
    "      if Instance_Count == Total_Number_Of_Resumes:\n",
    "          break\n",
    "      elif Each_Resume == Resumes_List[Instance_Count]:\n",
    "        del Resumes_List[Instance_Count]\n",
    "        del Labels_List[Instance_Count]\n",
    "        Total_Number_Of_Resumes = Total_Number_Of_Resumes - 1\n",
    "    Count = Count + 1"
   ]
  },
  {
   "cell_type": "code",
   "execution_count": 86,
   "metadata": {},
   "outputs": [],
   "source": [
    "vocab_size = 5000\n",
    "embedding_dim = 64\n",
    "max_length = 800\n",
    "trunc_type = 'post'\n",
    "padding_type = 'post'\n",
    "oov_tok = '<OOV>'\n",
    "training_portion = 0.8 #.8"
   ]
  },
  {
   "cell_type": "code",
   "execution_count": 87,
   "metadata": {},
   "outputs": [
    {
     "name": "stdout",
     "output_type": "stream",
     "text": [
      "train_size = 72\n",
      "Number of Train Resumes = 72\n",
      "Number of Train Labels = 72\n",
      "Number of Validation Resumes = 18\n",
      "Number of Validation Labels = 18\n"
     ]
    }
   ],
   "source": [
    "Train_Resume_Size = int(len(Resumes_List) * training_portion)\n",
    "Train_Resume_Data, Validation_Resume_Data, Train_Labels, Validation_Labels = \\\n",
    "                    train_test_split(Resumes_List, Labels_List, train_size = training_portion, \n",
    "                                     shuffle = True\n",
    "                                     , stratify= Labels_List)\n",
    "\n",
    "print('train_size = {}'.format(Train_Resume_Size))\n",
    "print('Number of Train Resumes = {}'.format(len(Train_Resume_Data)))\n",
    "print('Number of Train Labels = {}'.format(len(Train_Labels)))\n",
    "print('Number of Validation Resumes = {}'.format(len(Validation_Resume_Data)))\n",
    "print('Number of Validation Labels = {}'.format(len(Validation_Labels)))"
   ]
  },
  {
   "cell_type": "code",
   "execution_count": 88,
   "metadata": {},
   "outputs": [],
   "source": [
    "#Loading the tokens of the model before loading\n",
    "\n",
    "# loading\n",
    "with open('tokenizer.pickle', 'rb') as handle:\n",
    "    tokenizer2 = pickle.load(handle)"
   ]
  },
  {
   "cell_type": "code",
   "execution_count": 89,
   "metadata": {},
   "outputs": [
    {
     "name": "stdout",
     "output_type": "stream",
     "text": [
      "Average Number of Words in Each Training Resume is 763.2916666666666\n"
     ]
    }
   ],
   "source": [
    "train_sequences = tokenizer2.texts_to_sequences(Train_Resume_Data)\n",
    "from statistics import mean\n",
    "print('Average Number of Words in Each Training Resume is {}'.format(mean([len(i) for i in train_sequences])))"
   ]
  },
  {
   "cell_type": "code",
   "execution_count": 90,
   "metadata": {},
   "outputs": [],
   "source": [
    "training_label_list = label_tokenizer.texts_to_sequences(Train_Labels)\n",
    "\n",
    "for x in training_label_list:\n",
    "  x[0] = x[0] - 1\n",
    "#training_label_seq = np.hstack(training_label_list)-1"
   ]
  },
  {
   "cell_type": "code",
   "execution_count": 91,
   "metadata": {},
   "outputs": [],
   "source": [
    "training_label_seq = np.hstack(training_label_list)"
   ]
  },
  {
   "cell_type": "code",
   "execution_count": 92,
   "metadata": {},
   "outputs": [
    {
     "data": {
      "text/plain": [
       "array([5, 2, 0, 5, 0, 5, 4, 3, 4, 2, 1, 5, 2, 2, 1, 2, 4, 5, 0, 4, 5, 4,\n",
       "       0, 3, 2, 3, 4, 5, 2, 4, 1, 3, 5, 4, 2, 0, 3, 4, 0, 4, 0, 0, 1, 2,\n",
       "       0, 2, 1, 5, 0, 1, 3, 1, 1, 1, 3, 0, 1, 4, 0, 5, 3, 3, 3, 5, 3, 2,\n",
       "       2, 5, 1, 4, 3, 1])"
      ]
     },
     "execution_count": 92,
     "metadata": {},
     "output_type": "execute_result"
    }
   ],
   "source": [
    "training_label_seq"
   ]
  },
  {
   "cell_type": "code",
   "execution_count": 93,
   "metadata": {},
   "outputs": [],
   "source": [
    "Predict_Padded = pad_sequences(train_sequences, maxlen=max_length, padding=padding_type, truncating=trunc_type)"
   ]
  },
  {
   "cell_type": "code",
   "execution_count": null,
   "metadata": {},
   "outputs": [],
   "source": []
  },
  {
   "cell_type": "code",
   "execution_count": 94,
   "metadata": {},
   "outputs": [],
   "source": [
    "Prediction = loaded_model.predict(Predict_Padded)\n",
    "Prediction_Classes_from_model = loaded_model.predict_classes(Predict_Padded)\n",
    "Prediction_Classes = tf.argmax(Prediction, axis=1)"
   ]
  },
  {
   "cell_type": "code",
   "execution_count": 95,
   "metadata": {},
   "outputs": [
    {
     "data": {
      "text/plain": [
       "array([5, 2, 0, 5, 0, 5, 4, 3, 4, 2, 1, 5, 2, 2, 1, 1, 4, 5, 0, 4, 5, 4,\n",
       "       0, 0, 2, 3, 4, 5, 2, 4, 1, 3, 5, 4, 2, 0, 3, 4, 0, 4, 0, 0, 1, 2,\n",
       "       0, 2, 1, 5, 0, 1, 3, 1, 1, 1, 3, 0, 1, 4, 0, 5, 3, 3, 3, 5, 3, 2,\n",
       "       2, 5, 1, 4, 0, 1])"
      ]
     },
     "execution_count": 95,
     "metadata": {},
     "output_type": "execute_result"
    }
   ],
   "source": [
    "Prediction_Classes.numpy()"
   ]
  },
  {
   "cell_type": "code",
   "execution_count": 96,
   "metadata": {},
   "outputs": [
    {
     "name": "stdout",
     "output_type": "stream",
     "text": [
      "Accuracy of Unseendata Train resumes:  0.9583333333333334\n"
     ]
    }
   ],
   "source": [
    "from sklearn.metrics import accuracy_score\n",
    "#accuracy_score(Prediction_Classes, train_sequences)\n",
    "\n",
    "print(\"Accuracy of Unseendata Train resumes: \",accuracy_score(training_label_seq, Prediction_Classes))"
   ]
  },
  {
   "cell_type": "code",
   "execution_count": 97,
   "metadata": {},
   "outputs": [],
   "source": [
    "resumestest = list (zip(Train_Resume_Data,  Train_Labels))"
   ]
  },
  {
   "cell_type": "code",
   "execution_count": null,
   "metadata": {},
   "outputs": [],
   "source": [
    "dftest = pd.DataFrame(resumestest)"
   ]
  },
  {
   "cell_type": "code",
   "execution_count": null,
   "metadata": {},
   "outputs": [],
   "source": [
    "print(dftest)"
   ]
  },
  {
   "cell_type": "code",
   "execution_count": null,
   "metadata": {},
   "outputs": [],
   "source": [
    "Train_Resume_Data[1]"
   ]
  },
  {
   "cell_type": "code",
   "execution_count": null,
   "metadata": {},
   "outputs": [],
   "source": [
    "print(Prediction_Classes_from_model)"
   ]
  },
  {
   "cell_type": "code",
   "execution_count": null,
   "metadata": {},
   "outputs": [],
   "source": [
    "from sklearn.metrics import confusion_matrix"
   ]
  },
  {
   "cell_type": "code",
   "execution_count": null,
   "metadata": {},
   "outputs": [],
   "source": [
    "co"
   ]
  },
  {
   "cell_type": "code",
   "execution_count": null,
   "metadata": {},
   "outputs": [],
   "source": [
    "from sklearn.metrics import accuracy_score\n",
    "#accuracy_score(Prediction_Classes, train_sequences)\n",
    "\n",
    "accuracy_score(train_sequences, Prediction_Classes)"
   ]
  },
  {
   "cell_type": "code",
   "execution_count": null,
   "metadata": {},
   "outputs": [],
   "source": [
    "from sklearn import metrics"
   ]
  },
  {
   "cell_type": "code",
   "execution_count": null,
   "metadata": {},
   "outputs": [],
   "source": [
    "from sklearn.metrics import confusion_matrix"
   ]
  },
  {
   "cell_type": "code",
   "execution_count": null,
   "metadata": {},
   "outputs": [],
   "source": []
  }
 ],
 "metadata": {
  "kernelspec": {
   "display_name": "Python 3",
   "language": "python",
   "name": "python3"
  },
  "language_info": {
   "codemirror_mode": {
    "name": "ipython",
    "version": 3
   },
   "file_extension": ".py",
   "mimetype": "text/x-python",
   "name": "python",
   "nbconvert_exporter": "python",
   "pygments_lexer": "ipython3",
   "version": "3.8.5"
  }
 },
 "nbformat": 4,
 "nbformat_minor": 2
}
